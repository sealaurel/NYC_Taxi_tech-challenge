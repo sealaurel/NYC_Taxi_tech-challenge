{
 "cells": [
  {
   "cell_type": "markdown",
   "metadata": {},
   "source": [
    "# SpekIt Technical Challenge"
   ]
  },
  {
   "cell_type": "markdown",
   "metadata": {
    "ExecuteTime": {
     "end_time": "2021-12-20T16:38:26.931665Z",
     "start_time": "2021-12-20T16:38:26.914670Z"
    }
   },
   "source": [
    "## Business Problem"
   ]
  },
  {
   "cell_type": "markdown",
   "metadata": {},
   "source": [
    "Pull the following from this link https://www1.nyc.gov/site/tlc/about/tlc-trip-record-data.page\n",
    "\n",
    "* Taxi trip records from 4 sources\n",
    "\n",
    "* Associated data dictionaries\n",
    "\n",
    "* Taxi zone lookups\n",
    "\n",
    "Answer the following questions about the effects of the Corona Virus on taxi transportation in NYC:\n",
    "\n",
    "* What has been the economic impact of the pandemic on NYC taxi revenue over time?\n",
    "\n",
    "* What was the most expensive trip? Between what zones? Conversely, what was the cheapest trip? What is the difference between these before and during the peak impact of the pandemic?\n",
    "\n",
    "* What's the most popular payment method? Did this change because of the pandemic?\n",
    "\n",
    "* What’s the most expensive day of the week to travel on? Did this change because of the pandemic?\n",
    "\n",
    "Submit your answers in the form of a GitHub repository, with additional instructions on how to reproduce them. Store the data into an AWS Postgres instance (free tier) or equivalent and provide access to us to review."
   ]
  },
  {
   "cell_type": "markdown",
   "metadata": {},
   "source": [
    "## Importing packages"
   ]
  },
  {
   "cell_type": "code",
   "execution_count": 1,
   "metadata": {
    "ExecuteTime": {
     "end_time": "2021-12-21T22:53:25.592345Z",
     "start_time": "2021-12-21T22:53:22.168322Z"
    }
   },
   "outputs": [],
   "source": [
    "# Importing packages\n",
    "import pandas as pd\n",
    "from pandasql import sqldf\n",
    "import numpy as np\n",
    "import matplotlib.pyplot as plt\n",
    "import seaborn as sns\n",
    "import pickle\n",
    "import gzip\n",
    "import shutil\n",
    "import os\n",
    "import sqlite3\n",
    "import db_to_sqlite\n",
    "from sqlite3 import Error\n",
    "import csv\n",
    "from pathlib import Path\n",
    "import subprocess\n",
    "import io\n",
    "from icecream import ic\n",
    "import warnings\n",
    "warnings.filterwarnings(action='ignore', category=FutureWarning)\n",
    "import requests\n",
    "from bs4 import BeautifulSoup\n",
    "from functions_all import *\n",
    "\n",
    "%load_ext autoreload\n",
    "%autoreload 2\n",
    "%matplotlib inline"
   ]
  },
  {
   "cell_type": "markdown",
   "metadata": {},
   "source": [
    "## Data"
   ]
  },
  {
   "cell_type": "markdown",
   "metadata": {},
   "source": [
    "TLC Trip Record Data\n",
    "The yellow and green taxi trip records include fields capturing pick-up and drop-off dates/times, pick-up and drop-off locations, trip distances, itemized fares, rate types, payment types, and driver-reported passenger counts. The data used in the attached datasets were collected and provided to the NYC Taxi and Limousine Commission (TLC) by technology providers authorized under the Taxicab & Livery Passenger Enhancement Programs (TPEP/LPEP). The trip data was not created by the TLC, and TLC makes no representations as to the accuracy of these data.\n",
    "\n",
    "The For-Hire Vehicle (“FHV”) trip records include fields capturing the dispatching base license number and the pick-up date, time, and taxi zone location ID (shape file below). These records are generated from the FHV Trip Record submissions made by bases. Note: The TLC publishes base trip record data as submitted by the bases, and we cannot guarantee or confirm their accuracy or completeness. Therefore, this may not represent the total amount of trips dispatched by all TLC-licensed bases. The TLC performs routine reviews of the records and takes enforcement actions when necessary to ensure, to the extent possible, complete and accurate information.\n",
    "\n",
    "\n",
    "**Data Dictionaries and MetaData**\n",
    "<br><br>\n",
    "* Trip Record User Guide\n",
    "* Yellow Trips Data Dictionary\n",
    "* Green Trips Data Dictionary\n",
    "* FHV Trips Data Dictionary\n",
    "High Volume FHV Trips Data Dictionary\n",
    "Taxi Zone Maps and Lookup Tables\n",
    "Taxi Zone Lookup Table (CSV)\n",
    "Taxi Zone Shapefile (CSV)\n",
    "Taxi Zone Map – Bronx (JPG)\n",
    "Taxi Zone Map – Brooklyn (JPG)\n",
    "Taxi Zone Map – Manhattan (JPG)\n",
    "Taxi Zone Map – Queens (JPG)\n",
    "Taxi Zone Map – Staten Island (JPG)\n",
    "Errata\n",
    "09/08/2017 - FHV trip record files from June 2017 updated as of 09/08/2017\n",
    "08/30/2017 - FHV trip record files from July 2016 through June 2017 updated as of 08/16/2017\n",
    "03/13/2017 - FHV trip record files from January 2016 through December 2016 updated as of 02/14/2017\n",
    "09/22/2015 - TPEP and LPEP trip data CSVs from January through June 2015 have been updated to include a new field [improvement_surcharge] which lists the itemized portion of the fare covering the Taxicab Improvement Surcharge or Street Hail Livery Improvement Surcharge. This is a $0.30 surcharge on all trips to help fund accessibility in taxis and SHLs, which began on January 1, 2015. All TPEP and LPEP trip data files uploaded moving forward will also include this new field."
   ]
  },
  {
   "cell_type": "markdown",
   "metadata": {},
   "source": [
    "**Due to the fact that fhv files and fhvhv files do not contain data that can be used in the project (financial info), I decided to use only green and yellow trip data. The other reason is that fhv and fhvhv files have a very limited span of usage**<br>\n",
    "Also the fhv and fhvhv files switched columns and data included.<br>\n",
    "* After 2019 the columns in the fhv_tripdata files were<br><br>\n",
    "> dispatching_base_num<br>\n",
    "pickup_datetime<br>\n",
    "dropoff_datetime<br>\n",
    "PULocationID<br>\n",
    "DOLocationID<br>\n",
    "SR_Flag<br>\n",
    "* In 2018: the columns changed the order and another filed was added (not mentioned in the dictionary)<br>\n",
    "* In 2017: the order and name of columns were the same as after 2019\n",
    "* Before 2017: the files did not contain Dropoff location of Dropoff date/time\n"
   ]
  },
  {
   "cell_type": "code",
   "execution_count": 81,
   "metadata": {
    "ExecuteTime": {
     "end_time": "2021-12-21T23:32:43.994965Z",
     "start_time": "2021-12-21T23:32:43.916948Z"
    }
   },
   "outputs": [],
   "source": [
    "# #This line is to close the cursor if after previous runs it remains open\n",
    "# cur.close()\n",
    "# conn.close()"
   ]
  },
  {
   "cell_type": "code",
   "execution_count": 25,
   "metadata": {
    "ExecuteTime": {
     "end_time": "2021-12-21T23:10:22.511628Z",
     "start_time": "2021-12-21T23:10:22.420618Z"
    }
   },
   "outputs": [
    {
     "data": {
      "text/plain": [
       "'C:\\\\Users\\\\elena\\\\Documents\\\\SpekIt_Tech_challenge\\\\NYC_taxi_problem\\\\Spekit-tech-challenge'"
      ]
     },
     "execution_count": 25,
     "metadata": {},
     "output_type": "execute_result"
    }
   ],
   "source": [
    "os.getcwd()"
   ]
  },
  {
   "cell_type": "code",
   "execution_count": 82,
   "metadata": {
    "ExecuteTime": {
     "end_time": "2021-12-21T23:33:05.433057Z",
     "start_time": "2021-12-21T23:33:05.322042Z"
    }
   },
   "outputs": [
    {
     "name": "stdout",
     "output_type": "stream",
     "text": [
      "Nothing was found\n"
     ]
    }
   ],
   "source": [
    "# Creating an empty database and initiating a cursor\n",
    "conn = sqlite3.connect('data/sqlite/nyc_taxi_small.db')\n",
    "cur = conn.cursor()\n",
    "\n",
    "\n",
    "q=\"SELECT name FROM sqlite_master WHERE type='table'\"\n",
    "df=table_query(q, cur=cur)\n",
    "df"
   ]
  },
  {
   "cell_type": "markdown",
   "metadata": {},
   "source": [
    "### Checking and cleaning green tripdata files and loading them into the database"
   ]
  },
  {
   "cell_type": "markdown",
   "metadata": {},
   "source": [
    "#### 2021 green trip files, with manual check"
   ]
  },
  {
   "cell_type": "code",
   "execution_count": 106,
   "metadata": {
    "ExecuteTime": {
     "end_time": "2021-12-21T23:44:06.693985Z",
     "start_time": "2021-12-21T23:44:06.605956Z"
    }
   },
   "outputs": [
    {
     "data": {
      "text/plain": [
       "['data/2021/green_tripdata_2021-01.csv',\n",
       " 'data/2021/green_tripdata_2021-02.csv',\n",
       " 'data/2021/green_tripdata_2021-03.csv',\n",
       " 'data/2021/green_tripdata_2021-04.csv',\n",
       " 'data/2021/green_tripdata_2021-05.csv',\n",
       " 'data/2021/green_tripdata_2021-06.csv',\n",
       " 'data/2021/green_tripdata_2021-07.csv',\n",
       " 'data/2021/yellow_tripdata_2021-01.csv',\n",
       " 'data/2021/yellow_tripdata_2021-02.csv',\n",
       " 'data/2021/yellow_tripdata_2021-03.csv',\n",
       " 'data/2021/yellow_tripdata_2021-04.csv',\n",
       " 'data/2021/yellow_tripdata_2021-05.csv',\n",
       " 'data/2021/yellow_tripdata_2021-06.csv',\n",
       " 'data/2021/yellow_tripdata_2021-07.csv']"
      ]
     },
     "execution_count": 106,
     "metadata": {},
     "output_type": "execute_result"
    }
   ],
   "source": [
    "files_ref=create_filelist('data/2021/',n=0)\n",
    "files_ref"
   ]
  },
  {
   "cell_type": "code",
   "execution_count": 107,
   "metadata": {
    "ExecuteTime": {
     "end_time": "2021-12-21T23:44:10.707733Z",
     "start_time": "2021-12-21T23:44:09.789796Z"
    }
   },
   "outputs": [
    {
     "name": "stderr",
     "output_type": "stream",
     "text": [
      "C:\\Users\\elena\\anaconda3\\envs\\learn-env\\lib\\site-packages\\IPython\\core\\interactiveshell.py:3145: DtypeWarning: Columns (3) have mixed types.Specify dtype option on import or set low_memory=False.\n",
      "  has_raised = await self.run_ast_nodes(code_ast.body, cell_name,\n"
     ]
    }
   ],
   "source": [
    "df_green_2021 = pd.DataFrame()\n",
    "list_frames=[]\n",
    "for i in range(0,len(files_ref)):\n",
    "    fullstring = files_ref[i]\n",
    "    substring = \"green_tripdata\"\n",
    "    if substring in fullstring:\n",
    "        df_name='df_green_2021_'+str(i+1)\n",
    "        df_name=pd.read_csv(fullstring)\n",
    "        list_frames.append(df_name)\n",
    "df_green_2021=pd.concat(list_frames)\n",
    "\n",
    "for df in list_frames:\n",
    "    df=pd.DataFrame()"
   ]
  },
  {
   "cell_type": "code",
   "execution_count": 108,
   "metadata": {
    "ExecuteTime": {
     "end_time": "2021-12-21T23:44:18.314573Z",
     "start_time": "2021-12-21T23:44:18.134534Z"
    }
   },
   "outputs": [
    {
     "name": "stdout",
     "output_type": "stream",
     "text": [
      "<class 'pandas.core.frame.DataFrame'>\n",
      "Int64Index: 570466 entries, 0 to 83690\n",
      "Data columns (total 20 columns):\n",
      " #   Column                 Non-Null Count   Dtype  \n",
      "---  ------                 --------------   -----  \n",
      " 0   VendorID               321351 non-null  float64\n",
      " 1   lpep_pickup_datetime   570466 non-null  object \n",
      " 2   lpep_dropoff_datetime  570466 non-null  object \n",
      " 3   store_and_fwd_flag     321351 non-null  object \n",
      " 4   RatecodeID             321351 non-null  float64\n",
      " 5   PULocationID           570466 non-null  int64  \n",
      " 6   DOLocationID           570466 non-null  int64  \n",
      " 7   passenger_count        321351 non-null  float64\n",
      " 8   trip_distance          570466 non-null  float64\n",
      " 9   fare_amount            570466 non-null  float64\n",
      " 10  extra                  570466 non-null  float64\n",
      " 11  mta_tax                570466 non-null  float64\n",
      " 12  tip_amount             570466 non-null  float64\n",
      " 13  tolls_amount           570466 non-null  float64\n",
      " 14  ehail_fee              0 non-null       float64\n",
      " 15  improvement_surcharge  570466 non-null  float64\n",
      " 16  total_amount           570466 non-null  float64\n",
      " 17  payment_type           321351 non-null  float64\n",
      " 18  trip_type              321351 non-null  float64\n",
      " 19  congestion_surcharge   321351 non-null  float64\n",
      "dtypes: float64(15), int64(2), object(3)\n",
      "memory usage: 91.4+ MB\n"
     ]
    }
   ],
   "source": [
    "df_green_2021.info()"
   ]
  },
  {
   "cell_type": "code",
   "execution_count": 109,
   "metadata": {
    "ExecuteTime": {
     "end_time": "2021-12-21T23:44:22.353977Z",
     "start_time": "2021-12-21T23:44:22.256956Z"
    }
   },
   "outputs": [
    {
     "data": {
      "text/html": [
       "<div>\n",
       "<style scoped>\n",
       "    .dataframe tbody tr th:only-of-type {\n",
       "        vertical-align: middle;\n",
       "    }\n",
       "\n",
       "    .dataframe tbody tr th {\n",
       "        vertical-align: top;\n",
       "    }\n",
       "\n",
       "    .dataframe thead th {\n",
       "        text-align: right;\n",
       "    }\n",
       "</style>\n",
       "<table border=\"1\" class=\"dataframe\">\n",
       "  <thead>\n",
       "    <tr style=\"text-align: right;\">\n",
       "      <th></th>\n",
       "      <th>VendorID</th>\n",
       "      <th>lpep_pickup_datetime</th>\n",
       "      <th>lpep_dropoff_datetime</th>\n",
       "      <th>store_and_fwd_flag</th>\n",
       "      <th>RatecodeID</th>\n",
       "      <th>PULocationID</th>\n",
       "      <th>DOLocationID</th>\n",
       "      <th>passenger_count</th>\n",
       "      <th>trip_distance</th>\n",
       "      <th>fare_amount</th>\n",
       "      <th>extra</th>\n",
       "      <th>mta_tax</th>\n",
       "      <th>tip_amount</th>\n",
       "      <th>tolls_amount</th>\n",
       "      <th>ehail_fee</th>\n",
       "      <th>improvement_surcharge</th>\n",
       "      <th>total_amount</th>\n",
       "      <th>payment_type</th>\n",
       "      <th>trip_type</th>\n",
       "      <th>congestion_surcharge</th>\n",
       "    </tr>\n",
       "  </thead>\n",
       "  <tbody>\n",
       "    <tr>\n",
       "      <th>0</th>\n",
       "      <td>2.0</td>\n",
       "      <td>2021-01-01 00:15:56</td>\n",
       "      <td>2021-01-01 00:19:52</td>\n",
       "      <td>N</td>\n",
       "      <td>1.0</td>\n",
       "      <td>43</td>\n",
       "      <td>151</td>\n",
       "      <td>1.0</td>\n",
       "      <td>1.01</td>\n",
       "      <td>5.5</td>\n",
       "      <td>0.5</td>\n",
       "      <td>0.5</td>\n",
       "      <td>0.00</td>\n",
       "      <td>0.0</td>\n",
       "      <td>NaN</td>\n",
       "      <td>0.3</td>\n",
       "      <td>6.80</td>\n",
       "      <td>2.0</td>\n",
       "      <td>1.0</td>\n",
       "      <td>0.00</td>\n",
       "    </tr>\n",
       "    <tr>\n",
       "      <th>1</th>\n",
       "      <td>2.0</td>\n",
       "      <td>2021-01-01 00:25:59</td>\n",
       "      <td>2021-01-01 00:34:44</td>\n",
       "      <td>N</td>\n",
       "      <td>1.0</td>\n",
       "      <td>166</td>\n",
       "      <td>239</td>\n",
       "      <td>1.0</td>\n",
       "      <td>2.53</td>\n",
       "      <td>10.0</td>\n",
       "      <td>0.5</td>\n",
       "      <td>0.5</td>\n",
       "      <td>2.81</td>\n",
       "      <td>0.0</td>\n",
       "      <td>NaN</td>\n",
       "      <td>0.3</td>\n",
       "      <td>16.86</td>\n",
       "      <td>1.0</td>\n",
       "      <td>1.0</td>\n",
       "      <td>2.75</td>\n",
       "    </tr>\n",
       "    <tr>\n",
       "      <th>2</th>\n",
       "      <td>2.0</td>\n",
       "      <td>2021-01-01 00:45:57</td>\n",
       "      <td>2021-01-01 00:51:55</td>\n",
       "      <td>N</td>\n",
       "      <td>1.0</td>\n",
       "      <td>41</td>\n",
       "      <td>42</td>\n",
       "      <td>1.0</td>\n",
       "      <td>1.12</td>\n",
       "      <td>6.0</td>\n",
       "      <td>0.5</td>\n",
       "      <td>0.5</td>\n",
       "      <td>1.00</td>\n",
       "      <td>0.0</td>\n",
       "      <td>NaN</td>\n",
       "      <td>0.3</td>\n",
       "      <td>8.30</td>\n",
       "      <td>1.0</td>\n",
       "      <td>1.0</td>\n",
       "      <td>0.00</td>\n",
       "    </tr>\n",
       "    <tr>\n",
       "      <th>3</th>\n",
       "      <td>2.0</td>\n",
       "      <td>2020-12-31 23:57:51</td>\n",
       "      <td>2021-01-01 00:04:56</td>\n",
       "      <td>N</td>\n",
       "      <td>1.0</td>\n",
       "      <td>168</td>\n",
       "      <td>75</td>\n",
       "      <td>1.0</td>\n",
       "      <td>1.99</td>\n",
       "      <td>8.0</td>\n",
       "      <td>0.5</td>\n",
       "      <td>0.5</td>\n",
       "      <td>0.00</td>\n",
       "      <td>0.0</td>\n",
       "      <td>NaN</td>\n",
       "      <td>0.3</td>\n",
       "      <td>9.30</td>\n",
       "      <td>2.0</td>\n",
       "      <td>1.0</td>\n",
       "      <td>0.00</td>\n",
       "    </tr>\n",
       "    <tr>\n",
       "      <th>4</th>\n",
       "      <td>2.0</td>\n",
       "      <td>2021-01-01 00:16:36</td>\n",
       "      <td>2021-01-01 00:16:40</td>\n",
       "      <td>N</td>\n",
       "      <td>2.0</td>\n",
       "      <td>265</td>\n",
       "      <td>265</td>\n",
       "      <td>3.0</td>\n",
       "      <td>0.00</td>\n",
       "      <td>-52.0</td>\n",
       "      <td>0.0</td>\n",
       "      <td>-0.5</td>\n",
       "      <td>0.00</td>\n",
       "      <td>0.0</td>\n",
       "      <td>NaN</td>\n",
       "      <td>-0.3</td>\n",
       "      <td>-52.80</td>\n",
       "      <td>3.0</td>\n",
       "      <td>1.0</td>\n",
       "      <td>0.00</td>\n",
       "    </tr>\n",
       "  </tbody>\n",
       "</table>\n",
       "</div>"
      ],
      "text/plain": [
       "   VendorID lpep_pickup_datetime lpep_dropoff_datetime store_and_fwd_flag  \\\n",
       "0       2.0  2021-01-01 00:15:56   2021-01-01 00:19:52                  N   \n",
       "1       2.0  2021-01-01 00:25:59   2021-01-01 00:34:44                  N   \n",
       "2       2.0  2021-01-01 00:45:57   2021-01-01 00:51:55                  N   \n",
       "3       2.0  2020-12-31 23:57:51   2021-01-01 00:04:56                  N   \n",
       "4       2.0  2021-01-01 00:16:36   2021-01-01 00:16:40                  N   \n",
       "\n",
       "   RatecodeID  PULocationID  DOLocationID  passenger_count  trip_distance  \\\n",
       "0         1.0            43           151              1.0           1.01   \n",
       "1         1.0           166           239              1.0           2.53   \n",
       "2         1.0            41            42              1.0           1.12   \n",
       "3         1.0           168            75              1.0           1.99   \n",
       "4         2.0           265           265              3.0           0.00   \n",
       "\n",
       "   fare_amount  extra  mta_tax  tip_amount  tolls_amount  ehail_fee  \\\n",
       "0          5.5    0.5      0.5        0.00           0.0        NaN   \n",
       "1         10.0    0.5      0.5        2.81           0.0        NaN   \n",
       "2          6.0    0.5      0.5        1.00           0.0        NaN   \n",
       "3          8.0    0.5      0.5        0.00           0.0        NaN   \n",
       "4        -52.0    0.0     -0.5        0.00           0.0        NaN   \n",
       "\n",
       "   improvement_surcharge  total_amount  payment_type  trip_type  \\\n",
       "0                    0.3          6.80           2.0        1.0   \n",
       "1                    0.3         16.86           1.0        1.0   \n",
       "2                    0.3          8.30           1.0        1.0   \n",
       "3                    0.3          9.30           2.0        1.0   \n",
       "4                   -0.3        -52.80           3.0        1.0   \n",
       "\n",
       "   congestion_surcharge  \n",
       "0                  0.00  \n",
       "1                  2.75  \n",
       "2                  0.00  \n",
       "3                  0.00  \n",
       "4                  0.00  "
      ]
     },
     "execution_count": 109,
     "metadata": {},
     "output_type": "execute_result"
    }
   ],
   "source": [
    "df_green_2021.head()"
   ]
  },
  {
   "cell_type": "code",
   "execution_count": 110,
   "metadata": {
    "ExecuteTime": {
     "end_time": "2021-12-21T23:44:25.782699Z",
     "start_time": "2021-12-21T23:44:25.629665Z"
    }
   },
   "outputs": [
    {
     "name": "stdout",
     "output_type": "stream",
     "text": [
      "<class 'pandas.core.frame.DataFrame'>\n",
      "Int64Index: 321351 entries, 0 to 51172\n",
      "Data columns (total 20 columns):\n",
      " #   Column                 Non-Null Count   Dtype  \n",
      "---  ------                 --------------   -----  \n",
      " 0   VendorID               321351 non-null  float64\n",
      " 1   lpep_pickup_datetime   321351 non-null  object \n",
      " 2   lpep_dropoff_datetime  321351 non-null  object \n",
      " 3   store_and_fwd_flag     321351 non-null  object \n",
      " 4   RatecodeID             321351 non-null  float64\n",
      " 5   PULocationID           321351 non-null  int64  \n",
      " 6   DOLocationID           321351 non-null  int64  \n",
      " 7   passenger_count        321351 non-null  float64\n",
      " 8   trip_distance          321351 non-null  float64\n",
      " 9   fare_amount            321351 non-null  float64\n",
      " 10  extra                  321351 non-null  float64\n",
      " 11  mta_tax                321351 non-null  float64\n",
      " 12  tip_amount             321351 non-null  float64\n",
      " 13  tolls_amount           321351 non-null  float64\n",
      " 14  ehail_fee              0 non-null       float64\n",
      " 15  improvement_surcharge  321351 non-null  float64\n",
      " 16  total_amount           321351 non-null  float64\n",
      " 17  payment_type           321351 non-null  float64\n",
      " 18  trip_type              321351 non-null  float64\n",
      " 19  congestion_surcharge   321351 non-null  float64\n",
      "dtypes: float64(15), int64(2), object(3)\n",
      "memory usage: 51.5+ MB\n"
     ]
    }
   ],
   "source": [
    "df = df_green_2021[pd.notnull(df_green_2021['VendorID'])]\n",
    "df.info()"
   ]
  },
  {
   "cell_type": "code",
   "execution_count": 111,
   "metadata": {
    "ExecuteTime": {
     "end_time": "2021-12-21T23:44:34.917993Z",
     "start_time": "2021-12-21T23:44:34.828966Z"
    }
   },
   "outputs": [
    {
     "data": {
      "text/plain": [
       "Index(['VendorID', 'lpep_pickup_datetime', 'lpep_dropoff_datetime',\n",
       "       'store_and_fwd_flag', 'RatecodeID', 'PULocationID', 'DOLocationID',\n",
       "       'passenger_count', 'trip_distance', 'fare_amount', 'extra', 'mta_tax',\n",
       "       'tip_amount', 'tolls_amount', 'ehail_fee', 'improvement_surcharge',\n",
       "       'total_amount', 'payment_type', 'trip_type', 'congestion_surcharge'],\n",
       "      dtype='object')"
      ]
     },
     "execution_count": 111,
     "metadata": {},
     "output_type": "execute_result"
    }
   ],
   "source": [
    "df.columns"
   ]
  },
  {
   "cell_type": "markdown",
   "metadata": {},
   "source": [
    "**Dropping the following fields that seem to be irrelevant to the problem stated. Financially we are only interested in the total amount charged. I am also dropping the dropoff timestamp because the duration of a trip is not of interest to this particular problem**<br>\n",
    ">lpep_dropoff_datetime<br>\n",
    "store_and_fwd_flag<br>\n",
    "RatecodeID<br>\n",
    "fare_amount<br>\n",
    "extra<br>\n",
    "mta_tax<br>\n",
    "tip_amount<br>\n",
    "tolls_amount<br>\n",
    "ehail_fee<br>\n",
    "improvement_surcharge<br>\n",
    "congestion_surcharge<br>\n",
    "trip_type<br>\n",
    "VendorID<br>\n",
    "trip_distance<br>\n",
    "passenger_count\n",
    "\n",
    "\n",
    "**Last three fields are dropped based on the previous analysis (see the first notebook)**\n"
   ]
  },
  {
   "cell_type": "code",
   "execution_count": 112,
   "metadata": {
    "ExecuteTime": {
     "end_time": "2021-12-21T23:44:40.447491Z",
     "start_time": "2021-12-21T23:44:40.339467Z"
    }
   },
   "outputs": [
    {
     "name": "stdout",
     "output_type": "stream",
     "text": [
      "<class 'pandas.core.frame.DataFrame'>\n",
      "Int64Index: 321351 entries, 0 to 51172\n",
      "Data columns (total 5 columns):\n",
      " #   Column                Non-Null Count   Dtype  \n",
      "---  ------                --------------   -----  \n",
      " 0   lpep_pickup_datetime  321351 non-null  object \n",
      " 1   PULocationID          321351 non-null  int64  \n",
      " 2   DOLocationID          321351 non-null  int64  \n",
      " 3   total_amount          321351 non-null  float64\n",
      " 4   payment_type          321351 non-null  float64\n",
      "dtypes: float64(2), int64(2), object(1)\n",
      "memory usage: 14.7+ MB\n"
     ]
    }
   ],
   "source": [
    "#list of columns to drop\n",
    "list_drp=['lpep_dropoff_datetime','store_and_fwd_flag', 'fare_amount', 'extra', 'mta_tax',\n",
    "          'tip_amount', 'tolls_amount', 'ehail_fee', 'improvement_surcharge','congestion_surcharge',\n",
    "          'trip_type','RatecodeID','VendorID','trip_distance','passenger_count']\n",
    "df=df.drop(list_drp, axis=1)\n",
    "df.info()"
   ]
  },
  {
   "cell_type": "code",
   "execution_count": 113,
   "metadata": {
    "ExecuteTime": {
     "end_time": "2021-12-21T23:44:45.555063Z",
     "start_time": "2021-12-21T23:44:45.461052Z"
    }
   },
   "outputs": [
    {
     "data": {
      "text/html": [
       "<div>\n",
       "<style scoped>\n",
       "    .dataframe tbody tr th:only-of-type {\n",
       "        vertical-align: middle;\n",
       "    }\n",
       "\n",
       "    .dataframe tbody tr th {\n",
       "        vertical-align: top;\n",
       "    }\n",
       "\n",
       "    .dataframe thead th {\n",
       "        text-align: right;\n",
       "    }\n",
       "</style>\n",
       "<table border=\"1\" class=\"dataframe\">\n",
       "  <thead>\n",
       "    <tr style=\"text-align: right;\">\n",
       "      <th></th>\n",
       "      <th>lpep_pickup_datetime</th>\n",
       "      <th>PULocationID</th>\n",
       "      <th>DOLocationID</th>\n",
       "      <th>total_amount</th>\n",
       "      <th>payment_type</th>\n",
       "    </tr>\n",
       "  </thead>\n",
       "  <tbody>\n",
       "    <tr>\n",
       "      <th>0</th>\n",
       "      <td>2021-01-01 00:15:56</td>\n",
       "      <td>43</td>\n",
       "      <td>151</td>\n",
       "      <td>6.80</td>\n",
       "      <td>2.0</td>\n",
       "    </tr>\n",
       "    <tr>\n",
       "      <th>1</th>\n",
       "      <td>2021-01-01 00:25:59</td>\n",
       "      <td>166</td>\n",
       "      <td>239</td>\n",
       "      <td>16.86</td>\n",
       "      <td>1.0</td>\n",
       "    </tr>\n",
       "    <tr>\n",
       "      <th>2</th>\n",
       "      <td>2021-01-01 00:45:57</td>\n",
       "      <td>41</td>\n",
       "      <td>42</td>\n",
       "      <td>8.30</td>\n",
       "      <td>1.0</td>\n",
       "    </tr>\n",
       "    <tr>\n",
       "      <th>3</th>\n",
       "      <td>2020-12-31 23:57:51</td>\n",
       "      <td>168</td>\n",
       "      <td>75</td>\n",
       "      <td>9.30</td>\n",
       "      <td>2.0</td>\n",
       "    </tr>\n",
       "    <tr>\n",
       "      <th>4</th>\n",
       "      <td>2021-01-01 00:16:36</td>\n",
       "      <td>265</td>\n",
       "      <td>265</td>\n",
       "      <td>-52.80</td>\n",
       "      <td>3.0</td>\n",
       "    </tr>\n",
       "  </tbody>\n",
       "</table>\n",
       "</div>"
      ],
      "text/plain": [
       "  lpep_pickup_datetime  PULocationID  DOLocationID  total_amount  payment_type\n",
       "0  2021-01-01 00:15:56            43           151          6.80           2.0\n",
       "1  2021-01-01 00:25:59           166           239         16.86           1.0\n",
       "2  2021-01-01 00:45:57            41            42          8.30           1.0\n",
       "3  2020-12-31 23:57:51           168            75          9.30           2.0\n",
       "4  2021-01-01 00:16:36           265           265        -52.80           3.0"
      ]
     },
     "execution_count": 113,
     "metadata": {},
     "output_type": "execute_result"
    }
   ],
   "source": [
    "df.head()"
   ]
  },
  {
   "cell_type": "code",
   "execution_count": 114,
   "metadata": {
    "ExecuteTime": {
     "end_time": "2021-12-21T23:44:48.914105Z",
     "start_time": "2021-12-21T23:44:48.821084Z"
    }
   },
   "outputs": [
    {
     "data": {
      "text/plain": [
       "array([2., 1., 3., 4., 5.])"
      ]
     },
     "execution_count": 114,
     "metadata": {},
     "output_type": "execute_result"
    }
   ],
   "source": [
    "df.payment_type.unique()"
   ]
  },
  {
   "cell_type": "markdown",
   "metadata": {
    "ExecuteTime": {
     "end_time": "2021-12-21T09:46:53.707053Z",
     "start_time": "2021-12-21T09:46:53.573935Z"
    }
   },
   "source": [
    "**This column should not be float type nut integer. Changing data types of several fields**<br>\n",
    ">payment_type to integer"
   ]
  },
  {
   "cell_type": "code",
   "execution_count": 115,
   "metadata": {
    "ExecuteTime": {
     "end_time": "2021-12-21T23:45:05.200915Z",
     "start_time": "2021-12-21T23:45:04.901863Z"
    }
   },
   "outputs": [],
   "source": [
    "df=df.astype({'payment_type': 'int32'})\n",
    "\n",
    "df['lpep_pickup_datetime'] = pd.to_datetime(df['lpep_pickup_datetime'])\n"
   ]
  },
  {
   "cell_type": "code",
   "execution_count": 116,
   "metadata": {
    "ExecuteTime": {
     "end_time": "2021-12-21T23:45:06.221686Z",
     "start_time": "2021-12-21T23:45:06.133500Z"
    }
   },
   "outputs": [],
   "source": [
    "# Cleaning up the memory of the large dataframe\n",
    "df_yellow_2021 = pd.DataFrame()"
   ]
  },
  {
   "cell_type": "code",
   "execution_count": 117,
   "metadata": {
    "ExecuteTime": {
     "end_time": "2021-12-21T23:45:07.236119Z",
     "start_time": "2021-12-21T23:45:07.149100Z"
    }
   },
   "outputs": [
    {
     "name": "stdout",
     "output_type": "stream",
     "text": [
      "<class 'pandas.core.frame.DataFrame'>\n",
      "Int64Index: 321351 entries, 0 to 51172\n",
      "Data columns (total 5 columns):\n",
      " #   Column                Non-Null Count   Dtype         \n",
      "---  ------                --------------   -----         \n",
      " 0   lpep_pickup_datetime  321351 non-null  datetime64[ns]\n",
      " 1   PULocationID          321351 non-null  int64         \n",
      " 2   DOLocationID          321351 non-null  int64         \n",
      " 3   total_amount          321351 non-null  float64       \n",
      " 4   payment_type          321351 non-null  int32         \n",
      "dtypes: datetime64[ns](1), float64(1), int32(1), int64(2)\n",
      "memory usage: 13.5 MB\n"
     ]
    }
   ],
   "source": [
    "df.info()"
   ]
  },
  {
   "cell_type": "code",
   "execution_count": 118,
   "metadata": {
    "ExecuteTime": {
     "end_time": "2021-12-21T23:45:11.723005Z",
     "start_time": "2021-12-21T23:45:11.596982Z"
    }
   },
   "outputs": [
    {
     "data": {
      "text/plain": [
       "13"
      ]
     },
     "execution_count": 118,
     "metadata": {},
     "output_type": "execute_result"
    }
   ],
   "source": [
    "#Checking for duplicates and eliminating them prior to the uploading to the database\n",
    "df.duplicated().sum()"
   ]
  },
  {
   "cell_type": "code",
   "execution_count": 119,
   "metadata": {
    "ExecuteTime": {
     "end_time": "2021-12-21T23:45:12.917961Z",
     "start_time": "2021-12-21T23:45:12.788959Z"
    }
   },
   "outputs": [],
   "source": [
    "df=df.drop_duplicates()"
   ]
  },
  {
   "cell_type": "code",
   "execution_count": 128,
   "metadata": {
    "ExecuteTime": {
     "end_time": "2021-12-21T23:55:11.496496Z",
     "start_time": "2021-12-21T23:55:11.395469Z"
    }
   },
   "outputs": [
    {
     "name": "stdout",
     "output_type": "stream",
     "text": [
      "<class 'pandas.core.frame.DataFrame'>\n",
      "Int64Index: 321338 entries, 0 to 51172\n",
      "Data columns (total 5 columns):\n",
      " #   Column                Non-Null Count   Dtype         \n",
      "---  ------                --------------   -----         \n",
      " 0   lpep_pickup_datetime  321338 non-null  datetime64[ns]\n",
      " 1   PULocationID          321338 non-null  int64         \n",
      " 2   DOLocationID          321338 non-null  int64         \n",
      " 3   total_amount          321338 non-null  float64       \n",
      " 4   payment_type          321338 non-null  int32         \n",
      "dtypes: datetime64[ns](1), float64(1), int32(1), int64(2)\n",
      "memory usage: 23.5 MB\n"
     ]
    }
   ],
   "source": [
    "df.info()"
   ]
  },
  {
   "cell_type": "code",
   "execution_count": 129,
   "metadata": {
    "ExecuteTime": {
     "end_time": "2021-12-21T23:55:18.222080Z",
     "start_time": "2021-12-21T23:55:18.112370Z"
    }
   },
   "outputs": [
    {
     "name": "stdout",
     "output_type": "stream",
     "text": [
      "<class 'pandas.core.frame.DataFrame'>\n",
      "Int64Index: 241004 entries, 26242 to 30487\n",
      "Data columns (total 5 columns):\n",
      " #   Column                Non-Null Count   Dtype         \n",
      "---  ------                --------------   -----         \n",
      " 0   lpep_pickup_datetime  241004 non-null  datetime64[ns]\n",
      " 1   PULocationID          241004 non-null  int64         \n",
      " 2   DOLocationID          241004 non-null  int64         \n",
      " 3   total_amount          241004 non-null  float64       \n",
      " 4   payment_type          241004 non-null  int32         \n",
      "dtypes: datetime64[ns](1), float64(1), int32(1), int64(2)\n",
      "memory usage: 10.1 MB\n"
     ]
    }
   ],
   "source": [
    "# Randomly eliminating 25% of data\n",
    "\n",
    "df=df.sample(frac = 0.75, random_state=123)\n",
    "df.info()"
   ]
  },
  {
   "cell_type": "code",
   "execution_count": 131,
   "metadata": {
    "ExecuteTime": {
     "end_time": "2021-12-21T23:55:51.344019Z",
     "start_time": "2021-12-21T23:55:51.240711Z"
    }
   },
   "outputs": [
    {
     "name": "stdout",
     "output_type": "stream",
     "text": [
      "<class 'pandas.core.frame.DataFrame'>\n",
      "Int64Index: 239282 entries, 26242 to 30487\n",
      "Data columns (total 5 columns):\n",
      " #   Column                Non-Null Count   Dtype         \n",
      "---  ------                --------------   -----         \n",
      " 0   lpep_pickup_datetime  239282 non-null  datetime64[ns]\n",
      " 1   PULocationID          239282 non-null  int64         \n",
      " 2   DOLocationID          239282 non-null  int64         \n",
      " 3   total_amount          239282 non-null  float64       \n",
      " 4   payment_type          239282 non-null  int32         \n",
      "dtypes: datetime64[ns](1), float64(1), int32(1), int64(2)\n",
      "memory usage: 10.0 MB\n"
     ]
    }
   ],
   "source": [
    "#Eliminating all records total_amount with equal or less 0\n",
    "df_filtered = df[df['total_amount'] >0]\n",
    "df_filtered.info()"
   ]
  },
  {
   "cell_type": "code",
   "execution_count": 132,
   "metadata": {
    "ExecuteTime": {
     "end_time": "2021-12-21T23:55:56.347616Z",
     "start_time": "2021-12-21T23:55:56.255595Z"
    }
   },
   "outputs": [],
   "source": [
    "df=df_filtered"
   ]
  },
  {
   "cell_type": "code",
   "execution_count": 133,
   "metadata": {
    "ExecuteTime": {
     "end_time": "2021-12-21T23:56:02.441067Z",
     "start_time": "2021-12-21T23:56:00.837443Z"
    }
   },
   "outputs": [
    {
     "data": {
      "text/html": [
       "<div>\n",
       "<style scoped>\n",
       "    .dataframe tbody tr th:only-of-type {\n",
       "        vertical-align: middle;\n",
       "    }\n",
       "\n",
       "    .dataframe tbody tr th {\n",
       "        vertical-align: top;\n",
       "    }\n",
       "\n",
       "    .dataframe thead th {\n",
       "        text-align: right;\n",
       "    }\n",
       "</style>\n",
       "<table border=\"1\" class=\"dataframe\">\n",
       "  <thead>\n",
       "    <tr style=\"text-align: right;\">\n",
       "      <th></th>\n",
       "      <th>name</th>\n",
       "    </tr>\n",
       "  </thead>\n",
       "  <tbody>\n",
       "    <tr>\n",
       "      <th>0</th>\n",
       "      <td>green_tripdata</td>\n",
       "    </tr>\n",
       "  </tbody>\n",
       "</table>\n",
       "</div>"
      ],
      "text/plain": [
       "             name\n",
       "0  green_tripdata"
      ]
     },
     "execution_count": 133,
     "metadata": {},
     "output_type": "execute_result"
    }
   ],
   "source": [
    "#Loading the pre-processed dataframe into the database\n",
    "sqlite_table = \"green_tripdata\"\n",
    "df.to_sql(sqlite_table, conn, if_exists='append')\n",
    "\n",
    "q=\"SELECT name FROM sqlite_master WHERE type='table'\"\n",
    "df=table_query(q, cur=cur)\n",
    "df"
   ]
  },
  {
   "cell_type": "code",
   "execution_count": 134,
   "metadata": {
    "ExecuteTime": {
     "end_time": "2021-12-21T23:56:08.948812Z",
     "start_time": "2021-12-21T23:56:08.863802Z"
    }
   },
   "outputs": [
    {
     "data": {
      "text/html": [
       "<div>\n",
       "<style scoped>\n",
       "    .dataframe tbody tr th:only-of-type {\n",
       "        vertical-align: middle;\n",
       "    }\n",
       "\n",
       "    .dataframe tbody tr th {\n",
       "        vertical-align: top;\n",
       "    }\n",
       "\n",
       "    .dataframe thead th {\n",
       "        text-align: right;\n",
       "    }\n",
       "</style>\n",
       "<table border=\"1\" class=\"dataframe\">\n",
       "  <thead>\n",
       "    <tr style=\"text-align: right;\">\n",
       "      <th></th>\n",
       "      <th>count(*)</th>\n",
       "    </tr>\n",
       "  </thead>\n",
       "  <tbody>\n",
       "    <tr>\n",
       "      <th>0</th>\n",
       "      <td>239282</td>\n",
       "    </tr>\n",
       "  </tbody>\n",
       "</table>\n",
       "</div>"
      ],
      "text/plain": [
       "   count(*)\n",
       "0    239282"
      ]
     },
     "execution_count": 134,
     "metadata": {},
     "output_type": "execute_result"
    }
   ],
   "source": [
    "q=\"\"\"SELECT count(*) FROM green_tripdata\"\"\"\n",
    "df=table_query(q, cur=cur)\n",
    "df"
   ]
  },
  {
   "cell_type": "code",
   "execution_count": 135,
   "metadata": {
    "ExecuteTime": {
     "end_time": "2021-12-21T23:56:12.592257Z",
     "start_time": "2021-12-21T23:56:12.497236Z"
    }
   },
   "outputs": [
    {
     "data": {
      "text/html": [
       "<div>\n",
       "<style scoped>\n",
       "    .dataframe tbody tr th:only-of-type {\n",
       "        vertical-align: middle;\n",
       "    }\n",
       "\n",
       "    .dataframe tbody tr th {\n",
       "        vertical-align: top;\n",
       "    }\n",
       "\n",
       "    .dataframe thead th {\n",
       "        text-align: right;\n",
       "    }\n",
       "</style>\n",
       "<table border=\"1\" class=\"dataframe\">\n",
       "  <thead>\n",
       "    <tr style=\"text-align: right;\">\n",
       "      <th></th>\n",
       "      <th>index</th>\n",
       "      <th>lpep_pickup_datetime</th>\n",
       "      <th>PULocationID</th>\n",
       "      <th>DOLocationID</th>\n",
       "      <th>total_amount</th>\n",
       "      <th>payment_type</th>\n",
       "    </tr>\n",
       "  </thead>\n",
       "  <tbody>\n",
       "    <tr>\n",
       "      <th>0</th>\n",
       "      <td>26242</td>\n",
       "      <td>2021-06-15 15:52:25</td>\n",
       "      <td>75</td>\n",
       "      <td>41</td>\n",
       "      <td>6.30</td>\n",
       "      <td>2</td>\n",
       "    </tr>\n",
       "    <tr>\n",
       "      <th>1</th>\n",
       "      <td>1065</td>\n",
       "      <td>2021-05-01 17:13:57</td>\n",
       "      <td>41</td>\n",
       "      <td>116</td>\n",
       "      <td>14.16</td>\n",
       "      <td>1</td>\n",
       "    </tr>\n",
       "    <tr>\n",
       "      <th>2</th>\n",
       "      <td>9893</td>\n",
       "      <td>2021-06-06 10:56:53</td>\n",
       "      <td>42</td>\n",
       "      <td>69</td>\n",
       "      <td>12.30</td>\n",
       "      <td>2</td>\n",
       "    </tr>\n",
       "    <tr>\n",
       "      <th>3</th>\n",
       "      <td>44168</td>\n",
       "      <td>2021-05-27 19:41:48</td>\n",
       "      <td>41</td>\n",
       "      <td>74</td>\n",
       "      <td>24.80</td>\n",
       "      <td>2</td>\n",
       "    </tr>\n",
       "    <tr>\n",
       "      <th>4</th>\n",
       "      <td>27532</td>\n",
       "      <td>2021-04-19 14:49:59</td>\n",
       "      <td>134</td>\n",
       "      <td>216</td>\n",
       "      <td>12.96</td>\n",
       "      <td>1</td>\n",
       "    </tr>\n",
       "    <tr>\n",
       "      <th>5</th>\n",
       "      <td>33252</td>\n",
       "      <td>2021-01-26 16:21:38</td>\n",
       "      <td>65</td>\n",
       "      <td>189</td>\n",
       "      <td>9.80</td>\n",
       "      <td>2</td>\n",
       "    </tr>\n",
       "    <tr>\n",
       "      <th>6</th>\n",
       "      <td>24603</td>\n",
       "      <td>2021-06-14 18:01:37</td>\n",
       "      <td>74</td>\n",
       "      <td>237</td>\n",
       "      <td>17.05</td>\n",
       "      <td>2</td>\n",
       "    </tr>\n",
       "    <tr>\n",
       "      <th>7</th>\n",
       "      <td>39327</td>\n",
       "      <td>2021-06-22 19:19:31</td>\n",
       "      <td>119</td>\n",
       "      <td>159</td>\n",
       "      <td>17.80</td>\n",
       "      <td>1</td>\n",
       "    </tr>\n",
       "    <tr>\n",
       "      <th>8</th>\n",
       "      <td>34278</td>\n",
       "      <td>2021-06-19 18:15:47</td>\n",
       "      <td>49</td>\n",
       "      <td>97</td>\n",
       "      <td>6.80</td>\n",
       "      <td>2</td>\n",
       "    </tr>\n",
       "    <tr>\n",
       "      <th>9</th>\n",
       "      <td>39478</td>\n",
       "      <td>2021-06-22 20:52:25</td>\n",
       "      <td>130</td>\n",
       "      <td>205</td>\n",
       "      <td>14.80</td>\n",
       "      <td>1</td>\n",
       "    </tr>\n",
       "  </tbody>\n",
       "</table>\n",
       "</div>"
      ],
      "text/plain": [
       "   index lpep_pickup_datetime  PULocationID  DOLocationID  total_amount  \\\n",
       "0  26242  2021-06-15 15:52:25            75            41          6.30   \n",
       "1   1065  2021-05-01 17:13:57            41           116         14.16   \n",
       "2   9893  2021-06-06 10:56:53            42            69         12.30   \n",
       "3  44168  2021-05-27 19:41:48            41            74         24.80   \n",
       "4  27532  2021-04-19 14:49:59           134           216         12.96   \n",
       "5  33252  2021-01-26 16:21:38            65           189          9.80   \n",
       "6  24603  2021-06-14 18:01:37            74           237         17.05   \n",
       "7  39327  2021-06-22 19:19:31           119           159         17.80   \n",
       "8  34278  2021-06-19 18:15:47            49            97          6.80   \n",
       "9  39478  2021-06-22 20:52:25           130           205         14.80   \n",
       "\n",
       "   payment_type  \n",
       "0             2  \n",
       "1             1  \n",
       "2             2  \n",
       "3             2  \n",
       "4             1  \n",
       "5             2  \n",
       "6             2  \n",
       "7             1  \n",
       "8             2  \n",
       "9             1  "
      ]
     },
     "execution_count": 135,
     "metadata": {},
     "output_type": "execute_result"
    }
   ],
   "source": [
    "q=\"\"\"SELECT * FROM green_tripdata limit 10\"\"\"\n",
    "df=table_query(q, cur=cur)\n",
    "df"
   ]
  },
  {
   "cell_type": "markdown",
   "metadata": {},
   "source": [
    "#### 2020"
   ]
  },
  {
   "cell_type": "code",
   "execution_count": 145,
   "metadata": {
    "ExecuteTime": {
     "end_time": "2021-12-22T00:02:32.149114Z",
     "start_time": "2021-12-22T00:02:29.607600Z"
    }
   },
   "outputs": [],
   "source": [
    "#Creating dataframes from all of the 2020 monthly files and concateneting them together for further pre-processing\n",
    "\n",
    "\n",
    "files_ref=create_filelist('data/2020/',n=0)\n",
    "\n",
    "\n",
    "df_green_2020 = pd.DataFrame()\n",
    "list_frames=[]\n",
    "for i in range(0,len(files_ref)):\n",
    "    fullstring = files_ref[i]\n",
    "    substring = \"green_tripdata\"\n",
    "    if substring in fullstring:\n",
    "        df_name='df_green_2020_'+str(i+1)\n",
    "        df_name=pd.read_csv(fullstring)\n",
    "        list_frames.append(df_name)\n",
    "df_green_2020=pd.concat(list_frames)\n",
    "\n",
    "for df in list_frames:\n",
    "    df=pd.DataFrame()"
   ]
  },
  {
   "cell_type": "code",
   "execution_count": 146,
   "metadata": {
    "ExecuteTime": {
     "end_time": "2021-12-22T00:02:34.962514Z",
     "start_time": "2021-12-22T00:02:34.877491Z"
    }
   },
   "outputs": [
    {
     "name": "stdout",
     "output_type": "stream",
     "text": [
      "<class 'pandas.core.frame.DataFrame'>\n",
      "Int64Index: 1734051 entries, 0 to 83129\n",
      "Data columns (total 20 columns):\n",
      " #   Column                 Dtype  \n",
      "---  ------                 -----  \n",
      " 0   VendorID               float64\n",
      " 1   lpep_pickup_datetime   object \n",
      " 2   lpep_dropoff_datetime  object \n",
      " 3   store_and_fwd_flag     object \n",
      " 4   RatecodeID             float64\n",
      " 5   PULocationID           int64  \n",
      " 6   DOLocationID           int64  \n",
      " 7   passenger_count        float64\n",
      " 8   trip_distance          float64\n",
      " 9   fare_amount            float64\n",
      " 10  extra                  float64\n",
      " 11  mta_tax                float64\n",
      " 12  tip_amount             float64\n",
      " 13  tolls_amount           float64\n",
      " 14  ehail_fee              float64\n",
      " 15  improvement_surcharge  float64\n",
      " 16  total_amount           float64\n",
      " 17  payment_type           float64\n",
      " 18  trip_type              float64\n",
      " 19  congestion_surcharge   float64\n",
      "dtypes: float64(15), int64(2), object(3)\n",
      "memory usage: 277.8+ MB\n"
     ]
    }
   ],
   "source": [
    "df_green_2020.info()"
   ]
  },
  {
   "cell_type": "code",
   "execution_count": 147,
   "metadata": {
    "ExecuteTime": {
     "end_time": "2021-12-22T00:02:43.331775Z",
     "start_time": "2021-12-22T00:02:42.258414Z"
    }
   },
   "outputs": [
    {
     "name": "stdout",
     "output_type": "stream",
     "text": [
      "<class 'pandas.core.frame.DataFrame'>\n",
      "Int64Index: 1205959 entries, 0 to 46291\n",
      "Data columns (total 5 columns):\n",
      " #   Column                Non-Null Count    Dtype  \n",
      "---  ------                --------------    -----  \n",
      " 0   lpep_pickup_datetime  1205959 non-null  object \n",
      " 1   PULocationID          1205959 non-null  int64  \n",
      " 2   DOLocationID          1205959 non-null  int64  \n",
      " 3   total_amount          1205959 non-null  float64\n",
      " 4   payment_type          1205959 non-null  float64\n",
      "dtypes: float64(2), int64(2), object(1)\n",
      "memory usage: 55.2+ MB\n"
     ]
    }
   ],
   "source": [
    "#Cleaning the dataframe from records with NULL values in VendorID fiels, removing unneeded columns and changing datatypes\n",
    "\n",
    "df = df_green_2020[pd.notnull(df_green_2020['VendorID'])]\n",
    "\n",
    "#list of columns to drop\n",
    "list_drp=['lpep_dropoff_datetime','store_and_fwd_flag', 'fare_amount', 'extra', 'mta_tax',\n",
    "          'tip_amount', 'tolls_amount', 'ehail_fee', 'improvement_surcharge','congestion_surcharge',\n",
    "          'trip_type','RatecodeID','VendorID','trip_distance','passenger_count']\n",
    "df=df.drop(list_drp, axis=1)\n",
    "df.info()\n",
    "\n",
    "df=df.astype({'payment_type': 'int32'})\n",
    "\n",
    "df['lpep_pickup_datetime'] = pd.to_datetime(df['lpep_pickup_datetime'])\n"
   ]
  },
  {
   "cell_type": "code",
   "execution_count": 148,
   "metadata": {
    "ExecuteTime": {
     "end_time": "2021-12-22T00:02:48.149783Z",
     "start_time": "2021-12-22T00:02:48.024861Z"
    }
   },
   "outputs": [],
   "source": [
    "#Cleaning up the dataframe to free the memory\n",
    "df_green_2020=pd.DataFrame()"
   ]
  },
  {
   "cell_type": "code",
   "execution_count": 149,
   "metadata": {
    "ExecuteTime": {
     "end_time": "2021-12-22T00:02:51.669749Z",
     "start_time": "2021-12-22T00:02:51.567736Z"
    }
   },
   "outputs": [
    {
     "name": "stdout",
     "output_type": "stream",
     "text": [
      "<class 'pandas.core.frame.DataFrame'>\n",
      "Int64Index: 1205959 entries, 0 to 46291\n",
      "Data columns (total 5 columns):\n",
      " #   Column                Non-Null Count    Dtype         \n",
      "---  ------                --------------    -----         \n",
      " 0   lpep_pickup_datetime  1205959 non-null  datetime64[ns]\n",
      " 1   PULocationID          1205959 non-null  int64         \n",
      " 2   DOLocationID          1205959 non-null  int64         \n",
      " 3   total_amount          1205959 non-null  float64       \n",
      " 4   payment_type          1205959 non-null  int32         \n",
      "dtypes: datetime64[ns](1), float64(1), int32(1), int64(2)\n",
      "memory usage: 50.6 MB\n"
     ]
    }
   ],
   "source": [
    "df.info()"
   ]
  },
  {
   "cell_type": "code",
   "execution_count": 150,
   "metadata": {
    "ExecuteTime": {
     "end_time": "2021-12-22T00:02:56.582177Z",
     "start_time": "2021-12-22T00:02:56.313117Z"
    }
   },
   "outputs": [
    {
     "data": {
      "text/plain": [
       "22"
      ]
     },
     "execution_count": 150,
     "metadata": {},
     "output_type": "execute_result"
    }
   ],
   "source": [
    "#Checking for duplicates and eliminating them prior to the uploading to the database\n",
    "df.duplicated().sum()"
   ]
  },
  {
   "cell_type": "code",
   "execution_count": 151,
   "metadata": {
    "ExecuteTime": {
     "end_time": "2021-12-22T00:03:19.216699Z",
     "start_time": "2021-12-22T00:03:18.902639Z"
    }
   },
   "outputs": [
    {
     "name": "stdout",
     "output_type": "stream",
     "text": [
      "<class 'pandas.core.frame.DataFrame'>\n",
      "Int64Index: 1205937 entries, 0 to 46291\n",
      "Data columns (total 5 columns):\n",
      " #   Column                Non-Null Count    Dtype         \n",
      "---  ------                --------------    -----         \n",
      " 0   lpep_pickup_datetime  1205937 non-null  datetime64[ns]\n",
      " 1   PULocationID          1205937 non-null  int64         \n",
      " 2   DOLocationID          1205937 non-null  int64         \n",
      " 3   total_amount          1205937 non-null  float64       \n",
      " 4   payment_type          1205937 non-null  int32         \n",
      "dtypes: datetime64[ns](1), float64(1), int32(1), int64(2)\n",
      "memory usage: 50.6 MB\n"
     ]
    }
   ],
   "source": [
    "df=df.drop_duplicates()\n",
    "df.info()"
   ]
  },
  {
   "cell_type": "code",
   "execution_count": 152,
   "metadata": {
    "ExecuteTime": {
     "end_time": "2021-12-22T00:03:41.031176Z",
     "start_time": "2021-12-22T00:03:40.862140Z"
    },
    "scrolled": true
   },
   "outputs": [
    {
     "name": "stdout",
     "output_type": "stream",
     "text": [
      "<class 'pandas.core.frame.DataFrame'>\n",
      "Int64Index: 904453 entries, 115434 to 15129\n",
      "Data columns (total 5 columns):\n",
      " #   Column                Non-Null Count   Dtype         \n",
      "---  ------                --------------   -----         \n",
      " 0   lpep_pickup_datetime  904453 non-null  datetime64[ns]\n",
      " 1   PULocationID          904453 non-null  int64         \n",
      " 2   DOLocationID          904453 non-null  int64         \n",
      " 3   total_amount          904453 non-null  float64       \n",
      " 4   payment_type          904453 non-null  int32         \n",
      "dtypes: datetime64[ns](1), float64(1), int32(1), int64(2)\n",
      "memory usage: 38.0 MB\n"
     ]
    }
   ],
   "source": [
    "# Randomly eliminating 25% of data\n",
    "\n",
    "df_=df.sample(frac = 0.75, random_state=123)\n",
    "df_.info()"
   ]
  },
  {
   "cell_type": "code",
   "execution_count": 153,
   "metadata": {
    "ExecuteTime": {
     "end_time": "2021-12-22T00:04:21.236430Z",
     "start_time": "2021-12-22T00:04:21.132416Z"
    }
   },
   "outputs": [
    {
     "name": "stdout",
     "output_type": "stream",
     "text": [
      "<class 'pandas.core.frame.DataFrame'>\n",
      "Int64Index: 904453 entries, 115434 to 15129\n",
      "Data columns (total 5 columns):\n",
      " #   Column                Non-Null Count   Dtype         \n",
      "---  ------                --------------   -----         \n",
      " 0   lpep_pickup_datetime  904453 non-null  datetime64[ns]\n",
      " 1   PULocationID          904453 non-null  int64         \n",
      " 2   DOLocationID          904453 non-null  int64         \n",
      " 3   total_amount          904453 non-null  float64       \n",
      " 4   payment_type          904453 non-null  int32         \n",
      "dtypes: datetime64[ns](1), float64(1), int32(1), int64(2)\n",
      "memory usage: 38.0 MB\n"
     ]
    }
   ],
   "source": [
    "df=df_\n",
    "df.info()"
   ]
  },
  {
   "cell_type": "code",
   "execution_count": 154,
   "metadata": {
    "ExecuteTime": {
     "end_time": "2021-12-22T00:04:32.369256Z",
     "start_time": "2021-12-22T00:04:32.246229Z"
    }
   },
   "outputs": [
    {
     "name": "stdout",
     "output_type": "stream",
     "text": [
      "<class 'pandas.core.frame.DataFrame'>\n",
      "Int64Index: 898213 entries, 115434 to 15129\n",
      "Data columns (total 5 columns):\n",
      " #   Column                Non-Null Count   Dtype         \n",
      "---  ------                --------------   -----         \n",
      " 0   lpep_pickup_datetime  898213 non-null  datetime64[ns]\n",
      " 1   PULocationID          898213 non-null  int64         \n",
      " 2   DOLocationID          898213 non-null  int64         \n",
      " 3   total_amount          898213 non-null  float64       \n",
      " 4   payment_type          898213 non-null  int32         \n",
      "dtypes: datetime64[ns](1), float64(1), int32(1), int64(2)\n",
      "memory usage: 37.7 MB\n"
     ]
    }
   ],
   "source": [
    "#Eliminating all records total_amount with equal or less 0\n",
    "df_filtered = df[df['total_amount'] >0]\n",
    "df_filtered.info()"
   ]
  },
  {
   "cell_type": "code",
   "execution_count": 155,
   "metadata": {
    "ExecuteTime": {
     "end_time": "2021-12-22T00:04:46.774132Z",
     "start_time": "2021-12-22T00:04:46.677110Z"
    }
   },
   "outputs": [
    {
     "name": "stdout",
     "output_type": "stream",
     "text": [
      "<class 'pandas.core.frame.DataFrame'>\n",
      "Int64Index: 898213 entries, 115434 to 15129\n",
      "Data columns (total 5 columns):\n",
      " #   Column                Non-Null Count   Dtype         \n",
      "---  ------                --------------   -----         \n",
      " 0   lpep_pickup_datetime  898213 non-null  datetime64[ns]\n",
      " 1   PULocationID          898213 non-null  int64         \n",
      " 2   DOLocationID          898213 non-null  int64         \n",
      " 3   total_amount          898213 non-null  float64       \n",
      " 4   payment_type          898213 non-null  int32         \n",
      "dtypes: datetime64[ns](1), float64(1), int32(1), int64(2)\n",
      "memory usage: 37.7 MB\n"
     ]
    }
   ],
   "source": [
    "df=df_filtered\n",
    "df.info()"
   ]
  },
  {
   "cell_type": "code",
   "execution_count": 156,
   "metadata": {
    "ExecuteTime": {
     "end_time": "2021-12-22T00:05:18.232861Z",
     "start_time": "2021-12-22T00:05:05.643527Z"
    }
   },
   "outputs": [],
   "source": [
    "#Loading into the database\n",
    "sqlite_table = \"green_tripdata\"\n",
    "df.to_sql(sqlite_table, conn, if_exists='append')"
   ]
  },
  {
   "cell_type": "code",
   "execution_count": 157,
   "metadata": {
    "ExecuteTime": {
     "end_time": "2021-12-22T00:05:26.916620Z",
     "start_time": "2021-12-22T00:05:26.818599Z"
    }
   },
   "outputs": [
    {
     "data": {
      "text/html": [
       "<div>\n",
       "<style scoped>\n",
       "    .dataframe tbody tr th:only-of-type {\n",
       "        vertical-align: middle;\n",
       "    }\n",
       "\n",
       "    .dataframe tbody tr th {\n",
       "        vertical-align: top;\n",
       "    }\n",
       "\n",
       "    .dataframe thead th {\n",
       "        text-align: right;\n",
       "    }\n",
       "</style>\n",
       "<table border=\"1\" class=\"dataframe\">\n",
       "  <thead>\n",
       "    <tr style=\"text-align: right;\">\n",
       "      <th></th>\n",
       "      <th>count(*)</th>\n",
       "    </tr>\n",
       "  </thead>\n",
       "  <tbody>\n",
       "    <tr>\n",
       "      <th>0</th>\n",
       "      <td>1137495</td>\n",
       "    </tr>\n",
       "  </tbody>\n",
       "</table>\n",
       "</div>"
      ],
      "text/plain": [
       "   count(*)\n",
       "0   1137495"
      ]
     },
     "execution_count": 157,
     "metadata": {},
     "output_type": "execute_result"
    }
   ],
   "source": [
    "q=\"\"\"SELECT count(*) FROM green_tripdata\"\"\"\n",
    "df=table_query(q, cur=cur)\n",
    "df"
   ]
  },
  {
   "cell_type": "code",
   "execution_count": 158,
   "metadata": {
    "ExecuteTime": {
     "end_time": "2021-12-22T00:05:43.292785Z",
     "start_time": "2021-12-22T00:05:43.196765Z"
    }
   },
   "outputs": [
    {
     "data": {
      "text/html": [
       "<div>\n",
       "<style scoped>\n",
       "    .dataframe tbody tr th:only-of-type {\n",
       "        vertical-align: middle;\n",
       "    }\n",
       "\n",
       "    .dataframe tbody tr th {\n",
       "        vertical-align: top;\n",
       "    }\n",
       "\n",
       "    .dataframe thead th {\n",
       "        text-align: right;\n",
       "    }\n",
       "</style>\n",
       "<table border=\"1\" class=\"dataframe\">\n",
       "  <thead>\n",
       "    <tr style=\"text-align: right;\">\n",
       "      <th></th>\n",
       "      <th>index</th>\n",
       "      <th>lpep_pickup_datetime</th>\n",
       "      <th>PULocationID</th>\n",
       "      <th>DOLocationID</th>\n",
       "      <th>total_amount</th>\n",
       "      <th>payment_type</th>\n",
       "    </tr>\n",
       "  </thead>\n",
       "  <tbody>\n",
       "    <tr>\n",
       "      <th>0</th>\n",
       "      <td>26242</td>\n",
       "      <td>2021-06-15 15:52:25</td>\n",
       "      <td>75</td>\n",
       "      <td>41</td>\n",
       "      <td>6.30</td>\n",
       "      <td>2</td>\n",
       "    </tr>\n",
       "    <tr>\n",
       "      <th>1</th>\n",
       "      <td>1065</td>\n",
       "      <td>2021-05-01 17:13:57</td>\n",
       "      <td>41</td>\n",
       "      <td>116</td>\n",
       "      <td>14.16</td>\n",
       "      <td>1</td>\n",
       "    </tr>\n",
       "    <tr>\n",
       "      <th>2</th>\n",
       "      <td>9893</td>\n",
       "      <td>2021-06-06 10:56:53</td>\n",
       "      <td>42</td>\n",
       "      <td>69</td>\n",
       "      <td>12.30</td>\n",
       "      <td>2</td>\n",
       "    </tr>\n",
       "    <tr>\n",
       "      <th>3</th>\n",
       "      <td>44168</td>\n",
       "      <td>2021-05-27 19:41:48</td>\n",
       "      <td>41</td>\n",
       "      <td>74</td>\n",
       "      <td>24.80</td>\n",
       "      <td>2</td>\n",
       "    </tr>\n",
       "    <tr>\n",
       "      <th>4</th>\n",
       "      <td>27532</td>\n",
       "      <td>2021-04-19 14:49:59</td>\n",
       "      <td>134</td>\n",
       "      <td>216</td>\n",
       "      <td>12.96</td>\n",
       "      <td>1</td>\n",
       "    </tr>\n",
       "    <tr>\n",
       "      <th>5</th>\n",
       "      <td>33252</td>\n",
       "      <td>2021-01-26 16:21:38</td>\n",
       "      <td>65</td>\n",
       "      <td>189</td>\n",
       "      <td>9.80</td>\n",
       "      <td>2</td>\n",
       "    </tr>\n",
       "    <tr>\n",
       "      <th>6</th>\n",
       "      <td>24603</td>\n",
       "      <td>2021-06-14 18:01:37</td>\n",
       "      <td>74</td>\n",
       "      <td>237</td>\n",
       "      <td>17.05</td>\n",
       "      <td>2</td>\n",
       "    </tr>\n",
       "    <tr>\n",
       "      <th>7</th>\n",
       "      <td>39327</td>\n",
       "      <td>2021-06-22 19:19:31</td>\n",
       "      <td>119</td>\n",
       "      <td>159</td>\n",
       "      <td>17.80</td>\n",
       "      <td>1</td>\n",
       "    </tr>\n",
       "    <tr>\n",
       "      <th>8</th>\n",
       "      <td>34278</td>\n",
       "      <td>2021-06-19 18:15:47</td>\n",
       "      <td>49</td>\n",
       "      <td>97</td>\n",
       "      <td>6.80</td>\n",
       "      <td>2</td>\n",
       "    </tr>\n",
       "    <tr>\n",
       "      <th>9</th>\n",
       "      <td>39478</td>\n",
       "      <td>2021-06-22 20:52:25</td>\n",
       "      <td>130</td>\n",
       "      <td>205</td>\n",
       "      <td>14.80</td>\n",
       "      <td>1</td>\n",
       "    </tr>\n",
       "  </tbody>\n",
       "</table>\n",
       "</div>"
      ],
      "text/plain": [
       "   index lpep_pickup_datetime  PULocationID  DOLocationID  total_amount  \\\n",
       "0  26242  2021-06-15 15:52:25            75            41          6.30   \n",
       "1   1065  2021-05-01 17:13:57            41           116         14.16   \n",
       "2   9893  2021-06-06 10:56:53            42            69         12.30   \n",
       "3  44168  2021-05-27 19:41:48            41            74         24.80   \n",
       "4  27532  2021-04-19 14:49:59           134           216         12.96   \n",
       "5  33252  2021-01-26 16:21:38            65           189          9.80   \n",
       "6  24603  2021-06-14 18:01:37            74           237         17.05   \n",
       "7  39327  2021-06-22 19:19:31           119           159         17.80   \n",
       "8  34278  2021-06-19 18:15:47            49            97          6.80   \n",
       "9  39478  2021-06-22 20:52:25           130           205         14.80   \n",
       "\n",
       "   payment_type  \n",
       "0             2  \n",
       "1             1  \n",
       "2             2  \n",
       "3             2  \n",
       "4             1  \n",
       "5             2  \n",
       "6             2  \n",
       "7             1  \n",
       "8             2  \n",
       "9             1  "
      ]
     },
     "execution_count": 158,
     "metadata": {},
     "output_type": "execute_result"
    }
   ],
   "source": [
    "q=\"\"\"SELECT * FROM green_tripdata limit 10\"\"\"\n",
    "df=table_query(q, cur=cur)\n",
    "df"
   ]
  },
  {
   "cell_type": "markdown",
   "metadata": {},
   "source": [
    "#### 2019"
   ]
  },
  {
   "cell_type": "code",
   "execution_count": 159,
   "metadata": {
    "ExecuteTime": {
     "end_time": "2021-12-22T00:06:10.392334Z",
     "start_time": "2021-12-22T00:06:01.986389Z"
    }
   },
   "outputs": [
    {
     "name": "stderr",
     "output_type": "stream",
     "text": [
      "C:\\Users\\elena\\anaconda3\\envs\\learn-env\\lib\\site-packages\\IPython\\core\\interactiveshell.py:3145: DtypeWarning: Columns (3) have mixed types.Specify dtype option on import or set low_memory=False.\n",
      "  has_raised = await self.run_ast_nodes(code_ast.body, cell_name,\n"
     ]
    }
   ],
   "source": [
    "files_ref=create_filelist('data/2019/',n=0)\n",
    "\n",
    "df_green_2019 = pd.DataFrame()\n",
    "list_frames=[]\n",
    "for i in range(0,len(files_ref)):\n",
    "    fullstring = files_ref[i]\n",
    "    substring = \"green_tripdata\"\n",
    "    if substring in fullstring:\n",
    "        df_name='df_green_2019_'+str(i+1)\n",
    "        df_name=pd.read_csv(fullstring)\n",
    "        list_frames.append(df_name)\n",
    "df_green_2019=pd.concat(list_frames)\n",
    "\n",
    "for df in list_frames:\n",
    "    df=pd.DataFrame()"
   ]
  },
  {
   "cell_type": "code",
   "execution_count": 160,
   "metadata": {
    "ExecuteTime": {
     "end_time": "2021-12-22T00:06:15.344594Z",
     "start_time": "2021-12-22T00:06:15.258575Z"
    }
   },
   "outputs": [
    {
     "name": "stdout",
     "output_type": "stream",
     "text": [
      "<class 'pandas.core.frame.DataFrame'>\n",
      "Int64Index: 6044050 entries, 0 to 450626\n",
      "Data columns (total 20 columns):\n",
      " #   Column                 Dtype  \n",
      "---  ------                 -----  \n",
      " 0   VendorID               float64\n",
      " 1   lpep_pickup_datetime   object \n",
      " 2   lpep_dropoff_datetime  object \n",
      " 3   store_and_fwd_flag     object \n",
      " 4   RatecodeID             float64\n",
      " 5   PULocationID           int64  \n",
      " 6   DOLocationID           int64  \n",
      " 7   passenger_count        float64\n",
      " 8   trip_distance          float64\n",
      " 9   fare_amount            float64\n",
      " 10  extra                  float64\n",
      " 11  mta_tax                float64\n",
      " 12  tip_amount             float64\n",
      " 13  tolls_amount           float64\n",
      " 14  ehail_fee              float64\n",
      " 15  improvement_surcharge  float64\n",
      " 16  total_amount           float64\n",
      " 17  payment_type           float64\n",
      " 18  trip_type              float64\n",
      " 19  congestion_surcharge   float64\n",
      "dtypes: float64(15), int64(2), object(3)\n",
      "memory usage: 968.4+ MB\n"
     ]
    }
   ],
   "source": [
    "df_green_2019.info()"
   ]
  },
  {
   "cell_type": "code",
   "execution_count": 161,
   "metadata": {
    "ExecuteTime": {
     "end_time": "2021-12-22T00:07:18.872914Z",
     "start_time": "2021-12-22T00:07:14.416925Z"
    }
   },
   "outputs": [
    {
     "name": "stdout",
     "output_type": "stream",
     "text": [
      "<class 'pandas.core.frame.DataFrame'>\n",
      "Int64Index: 5629943 entries, 0 to 359901\n",
      "Data columns (total 5 columns):\n",
      " #   Column                Dtype         \n",
      "---  ------                -----         \n",
      " 0   lpep_pickup_datetime  datetime64[ns]\n",
      " 1   PULocationID          int64         \n",
      " 2   DOLocationID          int64         \n",
      " 3   total_amount          float64       \n",
      " 4   payment_type          int32         \n",
      "dtypes: datetime64[ns](1), float64(1), int32(1), int64(2)\n",
      "memory usage: 236.2 MB\n"
     ]
    }
   ],
   "source": [
    "df = df_green_2019[pd.notnull(df_green_2019['VendorID'])]\n",
    "\n",
    "#list of columns to drop\n",
    "list_drp=['lpep_dropoff_datetime','store_and_fwd_flag', 'fare_amount', 'extra', 'mta_tax',\n",
    "          'tip_amount', 'tolls_amount', 'ehail_fee', 'improvement_surcharge','congestion_surcharge',\n",
    "          'trip_type','RatecodeID','VendorID','trip_distance','passenger_count']\n",
    "df=df.drop(list_drp, axis=1)\n",
    "\n",
    "df=df.astype({'payment_type': 'int32'})\n",
    "\n",
    "df['lpep_pickup_datetime'] = pd.to_datetime(df['lpep_pickup_datetime'])\n",
    "df.info()"
   ]
  },
  {
   "cell_type": "code",
   "execution_count": 162,
   "metadata": {
    "ExecuteTime": {
     "end_time": "2021-12-22T00:07:27.747315Z",
     "start_time": "2021-12-22T00:07:27.531069Z"
    }
   },
   "outputs": [],
   "source": [
    "#Cleaning up to free the memory\n",
    "df_green_2019=pd.DataFrame()"
   ]
  },
  {
   "cell_type": "code",
   "execution_count": 163,
   "metadata": {
    "ExecuteTime": {
     "end_time": "2021-12-22T00:08:07.485112Z",
     "start_time": "2021-12-22T00:08:06.151815Z"
    }
   },
   "outputs": [
    {
     "data": {
      "text/plain": [
       "157"
      ]
     },
     "execution_count": 163,
     "metadata": {},
     "output_type": "execute_result"
    }
   ],
   "source": [
    "#Checking for duplicates and eliminating them prior to the uploading to the database\n",
    "df.duplicated().sum()"
   ]
  },
  {
   "cell_type": "code",
   "execution_count": 164,
   "metadata": {
    "ExecuteTime": {
     "end_time": "2021-12-22T00:08:10.576013Z",
     "start_time": "2021-12-22T00:08:09.056821Z"
    }
   },
   "outputs": [],
   "source": [
    "df=df.drop_duplicates()"
   ]
  },
  {
   "cell_type": "code",
   "execution_count": 165,
   "metadata": {
    "ExecuteTime": {
     "end_time": "2021-12-22T00:08:21.284772Z",
     "start_time": "2021-12-22T00:08:20.580592Z"
    }
   },
   "outputs": [
    {
     "name": "stdout",
     "output_type": "stream",
     "text": [
      "<class 'pandas.core.frame.DataFrame'>\n",
      "Int64Index: 4222340 entries, 371578 to 396412\n",
      "Data columns (total 5 columns):\n",
      " #   Column                Dtype         \n",
      "---  ------                -----         \n",
      " 0   lpep_pickup_datetime  datetime64[ns]\n",
      " 1   PULocationID          int64         \n",
      " 2   DOLocationID          int64         \n",
      " 3   total_amount          float64       \n",
      " 4   payment_type          int32         \n",
      "dtypes: datetime64[ns](1), float64(1), int32(1), int64(2)\n",
      "memory usage: 177.2 MB\n"
     ]
    }
   ],
   "source": [
    "# Randomly eliminating 25% of data\n",
    "\n",
    "df_=df.sample(frac = 0.75, random_state=123)\n",
    "df_.info()"
   ]
  },
  {
   "cell_type": "code",
   "execution_count": 166,
   "metadata": {
    "ExecuteTime": {
     "end_time": "2021-12-22T00:08:56.295860Z",
     "start_time": "2021-12-22T00:08:56.192833Z"
    }
   },
   "outputs": [
    {
     "name": "stdout",
     "output_type": "stream",
     "text": [
      "<class 'pandas.core.frame.DataFrame'>\n",
      "Int64Index: 4222340 entries, 371578 to 396412\n",
      "Data columns (total 5 columns):\n",
      " #   Column                Dtype         \n",
      "---  ------                -----         \n",
      " 0   lpep_pickup_datetime  datetime64[ns]\n",
      " 1   PULocationID          int64         \n",
      " 2   DOLocationID          int64         \n",
      " 3   total_amount          float64       \n",
      " 4   payment_type          int32         \n",
      "dtypes: datetime64[ns](1), float64(1), int32(1), int64(2)\n",
      "memory usage: 177.2 MB\n"
     ]
    }
   ],
   "source": [
    "df=df_\n",
    "df.info()"
   ]
  },
  {
   "cell_type": "code",
   "execution_count": 167,
   "metadata": {
    "ExecuteTime": {
     "end_time": "2021-12-22T00:09:33.168631Z",
     "start_time": "2021-12-22T00:09:32.944581Z"
    }
   },
   "outputs": [
    {
     "name": "stdout",
     "output_type": "stream",
     "text": [
      "<class 'pandas.core.frame.DataFrame'>\n",
      "Int64Index: 4198671 entries, 371578 to 396412\n",
      "Data columns (total 5 columns):\n",
      " #   Column                Dtype         \n",
      "---  ------                -----         \n",
      " 0   lpep_pickup_datetime  datetime64[ns]\n",
      " 1   PULocationID          int64         \n",
      " 2   DOLocationID          int64         \n",
      " 3   total_amount          float64       \n",
      " 4   payment_type          int32         \n",
      "dtypes: datetime64[ns](1), float64(1), int32(1), int64(2)\n",
      "memory usage: 176.2 MB\n"
     ]
    }
   ],
   "source": [
    "#Eliminating all records total_amount with equal or less 0\n",
    "df_filtered = df[df['total_amount'] >0]\n",
    "df_filtered.info()"
   ]
  },
  {
   "cell_type": "code",
   "execution_count": 168,
   "metadata": {
    "ExecuteTime": {
     "end_time": "2021-12-22T00:10:09.249405Z",
     "start_time": "2021-12-22T00:10:09.166388Z"
    }
   },
   "outputs": [
    {
     "name": "stdout",
     "output_type": "stream",
     "text": [
      "<class 'pandas.core.frame.DataFrame'>\n",
      "Int64Index: 4198671 entries, 371578 to 396412\n",
      "Data columns (total 5 columns):\n",
      " #   Column                Dtype         \n",
      "---  ------                -----         \n",
      " 0   lpep_pickup_datetime  datetime64[ns]\n",
      " 1   PULocationID          int64         \n",
      " 2   DOLocationID          int64         \n",
      " 3   total_amount          float64       \n",
      " 4   payment_type          int32         \n",
      "dtypes: datetime64[ns](1), float64(1), int32(1), int64(2)\n",
      "memory usage: 176.2 MB\n"
     ]
    }
   ],
   "source": [
    "df=df_filtered\n",
    "df.info()"
   ]
  },
  {
   "cell_type": "code",
   "execution_count": 169,
   "metadata": {
    "ExecuteTime": {
     "end_time": "2021-12-22T00:11:27.110955Z",
     "start_time": "2021-12-22T00:10:14.944949Z"
    }
   },
   "outputs": [],
   "source": [
    "sqlite_table = \"green_tripdata\"\n",
    "df.to_sql(sqlite_table, conn, if_exists='append')"
   ]
  },
  {
   "cell_type": "code",
   "execution_count": 170,
   "metadata": {
    "ExecuteTime": {
     "end_time": "2021-12-22T00:11:39.095126Z",
     "start_time": "2021-12-22T00:11:38.920088Z"
    }
   },
   "outputs": [
    {
     "data": {
      "text/html": [
       "<div>\n",
       "<style scoped>\n",
       "    .dataframe tbody tr th:only-of-type {\n",
       "        vertical-align: middle;\n",
       "    }\n",
       "\n",
       "    .dataframe tbody tr th {\n",
       "        vertical-align: top;\n",
       "    }\n",
       "\n",
       "    .dataframe thead th {\n",
       "        text-align: right;\n",
       "    }\n",
       "</style>\n",
       "<table border=\"1\" class=\"dataframe\">\n",
       "  <thead>\n",
       "    <tr style=\"text-align: right;\">\n",
       "      <th></th>\n",
       "      <th>count(*)</th>\n",
       "    </tr>\n",
       "  </thead>\n",
       "  <tbody>\n",
       "    <tr>\n",
       "      <th>0</th>\n",
       "      <td>5336166</td>\n",
       "    </tr>\n",
       "  </tbody>\n",
       "</table>\n",
       "</div>"
      ],
      "text/plain": [
       "   count(*)\n",
       "0   5336166"
      ]
     },
     "execution_count": 170,
     "metadata": {},
     "output_type": "execute_result"
    }
   ],
   "source": [
    "q=\"\"\"SELECT count(*) FROM green_tripdata\"\"\"\n",
    "df=table_query(q, cur=cur)\n",
    "df"
   ]
  },
  {
   "cell_type": "code",
   "execution_count": 171,
   "metadata": {
    "ExecuteTime": {
     "end_time": "2021-12-22T00:11:48.632792Z",
     "start_time": "2021-12-22T00:11:48.533779Z"
    }
   },
   "outputs": [
    {
     "data": {
      "text/html": [
       "<div>\n",
       "<style scoped>\n",
       "    .dataframe tbody tr th:only-of-type {\n",
       "        vertical-align: middle;\n",
       "    }\n",
       "\n",
       "    .dataframe tbody tr th {\n",
       "        vertical-align: top;\n",
       "    }\n",
       "\n",
       "    .dataframe thead th {\n",
       "        text-align: right;\n",
       "    }\n",
       "</style>\n",
       "<table border=\"1\" class=\"dataframe\">\n",
       "  <thead>\n",
       "    <tr style=\"text-align: right;\">\n",
       "      <th></th>\n",
       "      <th>index</th>\n",
       "      <th>lpep_pickup_datetime</th>\n",
       "      <th>PULocationID</th>\n",
       "      <th>DOLocationID</th>\n",
       "      <th>total_amount</th>\n",
       "      <th>payment_type</th>\n",
       "    </tr>\n",
       "  </thead>\n",
       "  <tbody>\n",
       "    <tr>\n",
       "      <th>0</th>\n",
       "      <td>26242</td>\n",
       "      <td>2021-06-15 15:52:25</td>\n",
       "      <td>75</td>\n",
       "      <td>41</td>\n",
       "      <td>6.30</td>\n",
       "      <td>2</td>\n",
       "    </tr>\n",
       "    <tr>\n",
       "      <th>1</th>\n",
       "      <td>1065</td>\n",
       "      <td>2021-05-01 17:13:57</td>\n",
       "      <td>41</td>\n",
       "      <td>116</td>\n",
       "      <td>14.16</td>\n",
       "      <td>1</td>\n",
       "    </tr>\n",
       "    <tr>\n",
       "      <th>2</th>\n",
       "      <td>9893</td>\n",
       "      <td>2021-06-06 10:56:53</td>\n",
       "      <td>42</td>\n",
       "      <td>69</td>\n",
       "      <td>12.30</td>\n",
       "      <td>2</td>\n",
       "    </tr>\n",
       "    <tr>\n",
       "      <th>3</th>\n",
       "      <td>44168</td>\n",
       "      <td>2021-05-27 19:41:48</td>\n",
       "      <td>41</td>\n",
       "      <td>74</td>\n",
       "      <td>24.80</td>\n",
       "      <td>2</td>\n",
       "    </tr>\n",
       "    <tr>\n",
       "      <th>4</th>\n",
       "      <td>27532</td>\n",
       "      <td>2021-04-19 14:49:59</td>\n",
       "      <td>134</td>\n",
       "      <td>216</td>\n",
       "      <td>12.96</td>\n",
       "      <td>1</td>\n",
       "    </tr>\n",
       "    <tr>\n",
       "      <th>5</th>\n",
       "      <td>33252</td>\n",
       "      <td>2021-01-26 16:21:38</td>\n",
       "      <td>65</td>\n",
       "      <td>189</td>\n",
       "      <td>9.80</td>\n",
       "      <td>2</td>\n",
       "    </tr>\n",
       "    <tr>\n",
       "      <th>6</th>\n",
       "      <td>24603</td>\n",
       "      <td>2021-06-14 18:01:37</td>\n",
       "      <td>74</td>\n",
       "      <td>237</td>\n",
       "      <td>17.05</td>\n",
       "      <td>2</td>\n",
       "    </tr>\n",
       "    <tr>\n",
       "      <th>7</th>\n",
       "      <td>39327</td>\n",
       "      <td>2021-06-22 19:19:31</td>\n",
       "      <td>119</td>\n",
       "      <td>159</td>\n",
       "      <td>17.80</td>\n",
       "      <td>1</td>\n",
       "    </tr>\n",
       "    <tr>\n",
       "      <th>8</th>\n",
       "      <td>34278</td>\n",
       "      <td>2021-06-19 18:15:47</td>\n",
       "      <td>49</td>\n",
       "      <td>97</td>\n",
       "      <td>6.80</td>\n",
       "      <td>2</td>\n",
       "    </tr>\n",
       "    <tr>\n",
       "      <th>9</th>\n",
       "      <td>39478</td>\n",
       "      <td>2021-06-22 20:52:25</td>\n",
       "      <td>130</td>\n",
       "      <td>205</td>\n",
       "      <td>14.80</td>\n",
       "      <td>1</td>\n",
       "    </tr>\n",
       "  </tbody>\n",
       "</table>\n",
       "</div>"
      ],
      "text/plain": [
       "   index lpep_pickup_datetime  PULocationID  DOLocationID  total_amount  \\\n",
       "0  26242  2021-06-15 15:52:25            75            41          6.30   \n",
       "1   1065  2021-05-01 17:13:57            41           116         14.16   \n",
       "2   9893  2021-06-06 10:56:53            42            69         12.30   \n",
       "3  44168  2021-05-27 19:41:48            41            74         24.80   \n",
       "4  27532  2021-04-19 14:49:59           134           216         12.96   \n",
       "5  33252  2021-01-26 16:21:38            65           189          9.80   \n",
       "6  24603  2021-06-14 18:01:37            74           237         17.05   \n",
       "7  39327  2021-06-22 19:19:31           119           159         17.80   \n",
       "8  34278  2021-06-19 18:15:47            49            97          6.80   \n",
       "9  39478  2021-06-22 20:52:25           130           205         14.80   \n",
       "\n",
       "   payment_type  \n",
       "0             2  \n",
       "1             1  \n",
       "2             2  \n",
       "3             2  \n",
       "4             1  \n",
       "5             2  \n",
       "6             2  \n",
       "7             1  \n",
       "8             2  \n",
       "9             1  "
      ]
     },
     "execution_count": 171,
     "metadata": {},
     "output_type": "execute_result"
    }
   ],
   "source": [
    "q=\"\"\"SELECT * FROM green_tripdata limit 10\"\"\"\n",
    "df=table_query(q, cur=cur)\n",
    "df"
   ]
  },
  {
   "cell_type": "markdown",
   "metadata": {},
   "source": [
    "#### 2018"
   ]
  },
  {
   "cell_type": "code",
   "execution_count": 172,
   "metadata": {
    "ExecuteTime": {
     "end_time": "2021-12-22T00:12:09.670712Z",
     "start_time": "2021-12-22T00:11:57.548304Z"
    }
   },
   "outputs": [],
   "source": [
    "files_ref=create_filelist('data/2018/',n=0)\n",
    "\n",
    "df_green_2018 = pd.DataFrame()\n",
    "list_frames=[]\n",
    "for i in range(0,len(files_ref)):\n",
    "    fullstring = files_ref[i]\n",
    "    substring = \"green_tripdata\"\n",
    "    if substring in fullstring:\n",
    "        df_name='df_green_2018_'+str(i+1)\n",
    "        df_name=pd.read_csv(fullstring)\n",
    "        list_frames.append(df_name)\n",
    "df_green_2018=pd.concat(list_frames)\n",
    "\n",
    "for df in list_frames:\n",
    "    df=pd.DataFrame()"
   ]
  },
  {
   "cell_type": "code",
   "execution_count": 173,
   "metadata": {
    "ExecuteTime": {
     "end_time": "2021-12-22T00:13:19.249850Z",
     "start_time": "2021-12-22T00:13:17.763503Z"
    }
   },
   "outputs": [
    {
     "name": "stdout",
     "output_type": "stream",
     "text": [
      "<class 'pandas.core.frame.DataFrame'>\n",
      "Int64Index: 8807303 entries, 0 to 685372\n",
      "Data columns (total 19 columns):\n",
      " #   Column                 Dtype  \n",
      "---  ------                 -----  \n",
      " 0   VendorID               int64  \n",
      " 1   lpep_pickup_datetime   object \n",
      " 2   lpep_dropoff_datetime  object \n",
      " 3   store_and_fwd_flag     object \n",
      " 4   RatecodeID             int64  \n",
      " 5   PULocationID           int64  \n",
      " 6   DOLocationID           int64  \n",
      " 7   passenger_count        int64  \n",
      " 8   trip_distance          float64\n",
      " 9   fare_amount            float64\n",
      " 10  extra                  float64\n",
      " 11  mta_tax                float64\n",
      " 12  tip_amount             float64\n",
      " 13  tolls_amount           float64\n",
      " 14  ehail_fee              float64\n",
      " 15  improvement_surcharge  float64\n",
      " 16  total_amount           float64\n",
      " 17  payment_type           int64  \n",
      " 18  trip_type              float64\n",
      "dtypes: float64(10), int64(6), object(3)\n",
      "memory usage: 1.3+ GB\n"
     ]
    }
   ],
   "source": [
    "df = df_green_2018[pd.notnull(df_green_2018['VendorID'])]\n",
    "\n",
    "#list of columns to drop\n",
    "list_drp=['lpep_dropoff_datetime','store_and_fwd_flag', 'fare_amount', 'extra', 'mta_tax',\n",
    "          'tip_amount', 'tolls_amount', 'ehail_fee', 'improvement_surcharge',\n",
    "          'trip_type','RatecodeID','VendorID','trip_distance','passenger_count']\n",
    "df=df.drop(list_drp, axis=1)\n",
    "\n",
    "df=df.astype({'payment_type': 'int32'})\n",
    "\n",
    "df['lpep_pickup_datetime'] = pd.to_datetime(df['lpep_pickup_datetime'])\n",
    "df.info()"
   ]
  },
  {
   "cell_type": "code",
   "execution_count": 176,
   "metadata": {
    "ExecuteTime": {
     "end_time": "2021-12-22T00:15:14.122008Z",
     "start_time": "2021-12-22T00:15:13.851649Z"
    }
   },
   "outputs": [],
   "source": [
    "#Cleaning up to free the memory\n",
    "df_green_2018=pd.DataFrame()"
   ]
  },
  {
   "cell_type": "code",
   "execution_count": 177,
   "metadata": {
    "ExecuteTime": {
     "end_time": "2021-12-22T00:15:20.919773Z",
     "start_time": "2021-12-22T00:15:18.400210Z"
    }
   },
   "outputs": [
    {
     "data": {
      "text/plain": [
       "222"
      ]
     },
     "execution_count": 177,
     "metadata": {},
     "output_type": "execute_result"
    }
   ],
   "source": [
    "#Checking for duplicates and eliminating them prior to the uploading to the database\n",
    "df.duplicated().sum()"
   ]
  },
  {
   "cell_type": "code",
   "execution_count": 179,
   "metadata": {
    "ExecuteTime": {
     "end_time": "2021-12-22T00:15:44.570659Z",
     "start_time": "2021-12-22T00:15:41.728032Z"
    }
   },
   "outputs": [],
   "source": [
    "df=df.drop_duplicates()"
   ]
  },
  {
   "cell_type": "code",
   "execution_count": 180,
   "metadata": {
    "ExecuteTime": {
     "end_time": "2021-12-22T00:17:01.877236Z",
     "start_time": "2021-12-22T00:17:00.724976Z"
    }
   },
   "outputs": [
    {
     "name": "stdout",
     "output_type": "stream",
     "text": [
      "<class 'pandas.core.frame.DataFrame'>\n",
      "Int64Index: 6605311 entries, 446082 to 349183\n",
      "Data columns (total 5 columns):\n",
      " #   Column                Dtype         \n",
      "---  ------                -----         \n",
      " 0   lpep_pickup_datetime  datetime64[ns]\n",
      " 1   PULocationID          int64         \n",
      " 2   DOLocationID          int64         \n",
      " 3   total_amount          float64       \n",
      " 4   payment_type          int32         \n",
      "dtypes: datetime64[ns](1), float64(1), int32(1), int64(2)\n",
      "memory usage: 277.2 MB\n"
     ]
    }
   ],
   "source": [
    "# Randomly eliminating 25% of data\n",
    "\n",
    "df_=df.sample(frac = 0.75, random_state=123)\n",
    "df_.info()"
   ]
  },
  {
   "cell_type": "code",
   "execution_count": 181,
   "metadata": {
    "ExecuteTime": {
     "end_time": "2021-12-22T00:17:13.962222Z",
     "start_time": "2021-12-22T00:17:13.854207Z"
    }
   },
   "outputs": [
    {
     "name": "stdout",
     "output_type": "stream",
     "text": [
      "<class 'pandas.core.frame.DataFrame'>\n",
      "Int64Index: 6605311 entries, 446082 to 349183\n",
      "Data columns (total 5 columns):\n",
      " #   Column                Dtype         \n",
      "---  ------                -----         \n",
      " 0   lpep_pickup_datetime  datetime64[ns]\n",
      " 1   PULocationID          int64         \n",
      " 2   DOLocationID          int64         \n",
      " 3   total_amount          float64       \n",
      " 4   payment_type          int32         \n",
      "dtypes: datetime64[ns](1), float64(1), int32(1), int64(2)\n",
      "memory usage: 277.2 MB\n"
     ]
    }
   ],
   "source": [
    "df=df_\n",
    "df.info()"
   ]
  },
  {
   "cell_type": "code",
   "execution_count": 182,
   "metadata": {
    "ExecuteTime": {
     "end_time": "2021-12-22T00:17:18.061762Z",
     "start_time": "2021-12-22T00:17:17.757703Z"
    }
   },
   "outputs": [
    {
     "name": "stdout",
     "output_type": "stream",
     "text": [
      "<class 'pandas.core.frame.DataFrame'>\n",
      "Int64Index: 6576837 entries, 446082 to 349183\n",
      "Data columns (total 5 columns):\n",
      " #   Column                Dtype         \n",
      "---  ------                -----         \n",
      " 0   lpep_pickup_datetime  datetime64[ns]\n",
      " 1   PULocationID          int64         \n",
      " 2   DOLocationID          int64         \n",
      " 3   total_amount          float64       \n",
      " 4   payment_type          int32         \n",
      "dtypes: datetime64[ns](1), float64(1), int32(1), int64(2)\n",
      "memory usage: 276.0 MB\n"
     ]
    }
   ],
   "source": [
    "#Eliminating all records total_amount with equal or less 0\n",
    "df_filtered = df[df['total_amount'] >0]\n",
    "df_filtered.info()"
   ]
  },
  {
   "cell_type": "code",
   "execution_count": 183,
   "metadata": {
    "ExecuteTime": {
     "end_time": "2021-12-22T00:17:21.900075Z",
     "start_time": "2021-12-22T00:17:21.806063Z"
    }
   },
   "outputs": [
    {
     "name": "stdout",
     "output_type": "stream",
     "text": [
      "<class 'pandas.core.frame.DataFrame'>\n",
      "Int64Index: 6576837 entries, 446082 to 349183\n",
      "Data columns (total 5 columns):\n",
      " #   Column                Dtype         \n",
      "---  ------                -----         \n",
      " 0   lpep_pickup_datetime  datetime64[ns]\n",
      " 1   PULocationID          int64         \n",
      " 2   DOLocationID          int64         \n",
      " 3   total_amount          float64       \n",
      " 4   payment_type          int32         \n",
      "dtypes: datetime64[ns](1), float64(1), int32(1), int64(2)\n",
      "memory usage: 276.0 MB\n"
     ]
    }
   ],
   "source": [
    "df=df_filtered\n",
    "df.info()"
   ]
  },
  {
   "cell_type": "code",
   "execution_count": 184,
   "metadata": {
    "ExecuteTime": {
     "end_time": "2021-12-22T00:19:48.019627Z",
     "start_time": "2021-12-22T00:17:36.821314Z"
    }
   },
   "outputs": [],
   "source": [
    "sqlite_table = \"green_tripdata\"\n",
    "df.to_sql(sqlite_table, conn, if_exists='append')\n"
   ]
  },
  {
   "cell_type": "code",
   "execution_count": 185,
   "metadata": {
    "ExecuteTime": {
     "end_time": "2021-12-22T00:23:54.623739Z",
     "start_time": "2021-12-22T00:23:54.292666Z"
    }
   },
   "outputs": [
    {
     "data": {
      "text/html": [
       "<div>\n",
       "<style scoped>\n",
       "    .dataframe tbody tr th:only-of-type {\n",
       "        vertical-align: middle;\n",
       "    }\n",
       "\n",
       "    .dataframe tbody tr th {\n",
       "        vertical-align: top;\n",
       "    }\n",
       "\n",
       "    .dataframe thead th {\n",
       "        text-align: right;\n",
       "    }\n",
       "</style>\n",
       "<table border=\"1\" class=\"dataframe\">\n",
       "  <thead>\n",
       "    <tr style=\"text-align: right;\">\n",
       "      <th></th>\n",
       "      <th>count(*)</th>\n",
       "    </tr>\n",
       "  </thead>\n",
       "  <tbody>\n",
       "    <tr>\n",
       "      <th>0</th>\n",
       "      <td>11913003</td>\n",
       "    </tr>\n",
       "  </tbody>\n",
       "</table>\n",
       "</div>"
      ],
      "text/plain": [
       "   count(*)\n",
       "0  11913003"
      ]
     },
     "execution_count": 185,
     "metadata": {},
     "output_type": "execute_result"
    }
   ],
   "source": [
    "q=\"\"\"SELECT count(*) FROM green_tripdata\"\"\"\n",
    "df=table_query(q, cur=cur)\n",
    "df"
   ]
  },
  {
   "cell_type": "code",
   "execution_count": 186,
   "metadata": {
    "ExecuteTime": {
     "end_time": "2021-12-22T00:24:04.211788Z",
     "start_time": "2021-12-22T00:24:04.125787Z"
    }
   },
   "outputs": [
    {
     "data": {
      "text/html": [
       "<div>\n",
       "<style scoped>\n",
       "    .dataframe tbody tr th:only-of-type {\n",
       "        vertical-align: middle;\n",
       "    }\n",
       "\n",
       "    .dataframe tbody tr th {\n",
       "        vertical-align: top;\n",
       "    }\n",
       "\n",
       "    .dataframe thead th {\n",
       "        text-align: right;\n",
       "    }\n",
       "</style>\n",
       "<table border=\"1\" class=\"dataframe\">\n",
       "  <thead>\n",
       "    <tr style=\"text-align: right;\">\n",
       "      <th></th>\n",
       "      <th>index</th>\n",
       "      <th>lpep_pickup_datetime</th>\n",
       "      <th>PULocationID</th>\n",
       "      <th>DOLocationID</th>\n",
       "      <th>total_amount</th>\n",
       "      <th>payment_type</th>\n",
       "    </tr>\n",
       "  </thead>\n",
       "  <tbody>\n",
       "    <tr>\n",
       "      <th>0</th>\n",
       "      <td>26242</td>\n",
       "      <td>2021-06-15 15:52:25</td>\n",
       "      <td>75</td>\n",
       "      <td>41</td>\n",
       "      <td>6.30</td>\n",
       "      <td>2</td>\n",
       "    </tr>\n",
       "    <tr>\n",
       "      <th>1</th>\n",
       "      <td>1065</td>\n",
       "      <td>2021-05-01 17:13:57</td>\n",
       "      <td>41</td>\n",
       "      <td>116</td>\n",
       "      <td>14.16</td>\n",
       "      <td>1</td>\n",
       "    </tr>\n",
       "    <tr>\n",
       "      <th>2</th>\n",
       "      <td>9893</td>\n",
       "      <td>2021-06-06 10:56:53</td>\n",
       "      <td>42</td>\n",
       "      <td>69</td>\n",
       "      <td>12.30</td>\n",
       "      <td>2</td>\n",
       "    </tr>\n",
       "    <tr>\n",
       "      <th>3</th>\n",
       "      <td>44168</td>\n",
       "      <td>2021-05-27 19:41:48</td>\n",
       "      <td>41</td>\n",
       "      <td>74</td>\n",
       "      <td>24.80</td>\n",
       "      <td>2</td>\n",
       "    </tr>\n",
       "    <tr>\n",
       "      <th>4</th>\n",
       "      <td>27532</td>\n",
       "      <td>2021-04-19 14:49:59</td>\n",
       "      <td>134</td>\n",
       "      <td>216</td>\n",
       "      <td>12.96</td>\n",
       "      <td>1</td>\n",
       "    </tr>\n",
       "    <tr>\n",
       "      <th>5</th>\n",
       "      <td>33252</td>\n",
       "      <td>2021-01-26 16:21:38</td>\n",
       "      <td>65</td>\n",
       "      <td>189</td>\n",
       "      <td>9.80</td>\n",
       "      <td>2</td>\n",
       "    </tr>\n",
       "    <tr>\n",
       "      <th>6</th>\n",
       "      <td>24603</td>\n",
       "      <td>2021-06-14 18:01:37</td>\n",
       "      <td>74</td>\n",
       "      <td>237</td>\n",
       "      <td>17.05</td>\n",
       "      <td>2</td>\n",
       "    </tr>\n",
       "    <tr>\n",
       "      <th>7</th>\n",
       "      <td>39327</td>\n",
       "      <td>2021-06-22 19:19:31</td>\n",
       "      <td>119</td>\n",
       "      <td>159</td>\n",
       "      <td>17.80</td>\n",
       "      <td>1</td>\n",
       "    </tr>\n",
       "    <tr>\n",
       "      <th>8</th>\n",
       "      <td>34278</td>\n",
       "      <td>2021-06-19 18:15:47</td>\n",
       "      <td>49</td>\n",
       "      <td>97</td>\n",
       "      <td>6.80</td>\n",
       "      <td>2</td>\n",
       "    </tr>\n",
       "    <tr>\n",
       "      <th>9</th>\n",
       "      <td>39478</td>\n",
       "      <td>2021-06-22 20:52:25</td>\n",
       "      <td>130</td>\n",
       "      <td>205</td>\n",
       "      <td>14.80</td>\n",
       "      <td>1</td>\n",
       "    </tr>\n",
       "  </tbody>\n",
       "</table>\n",
       "</div>"
      ],
      "text/plain": [
       "   index lpep_pickup_datetime  PULocationID  DOLocationID  total_amount  \\\n",
       "0  26242  2021-06-15 15:52:25            75            41          6.30   \n",
       "1   1065  2021-05-01 17:13:57            41           116         14.16   \n",
       "2   9893  2021-06-06 10:56:53            42            69         12.30   \n",
       "3  44168  2021-05-27 19:41:48            41            74         24.80   \n",
       "4  27532  2021-04-19 14:49:59           134           216         12.96   \n",
       "5  33252  2021-01-26 16:21:38            65           189          9.80   \n",
       "6  24603  2021-06-14 18:01:37            74           237         17.05   \n",
       "7  39327  2021-06-22 19:19:31           119           159         17.80   \n",
       "8  34278  2021-06-19 18:15:47            49            97          6.80   \n",
       "9  39478  2021-06-22 20:52:25           130           205         14.80   \n",
       "\n",
       "   payment_type  \n",
       "0             2  \n",
       "1             1  \n",
       "2             2  \n",
       "3             2  \n",
       "4             1  \n",
       "5             2  \n",
       "6             2  \n",
       "7             1  \n",
       "8             2  \n",
       "9             1  "
      ]
     },
     "execution_count": 186,
     "metadata": {},
     "output_type": "execute_result"
    }
   ],
   "source": [
    "q=\"\"\"SELECT * FROM green_tripdata limit 10\"\"\"\n",
    "df=table_query(q, cur=cur)\n",
    "df"
   ]
  },
  {
   "cell_type": "markdown",
   "metadata": {},
   "source": [
    "#### Indexing the table green_tripdata"
   ]
  },
  {
   "cell_type": "code",
   "execution_count": 188,
   "metadata": {
    "ExecuteTime": {
     "end_time": "2021-12-22T00:28:08.043790Z",
     "start_time": "2021-12-22T00:28:07.927396Z"
    }
   },
   "outputs": [],
   "source": [
    "df_=pd.DataFrame()\n",
    "df_filtered=pd.DataFrame()"
   ]
  },
  {
   "cell_type": "code",
   "execution_count": 187,
   "metadata": {
    "ExecuteTime": {
     "end_time": "2021-12-22T00:26:09.612035Z",
     "start_time": "2021-12-22T00:25:08.734585Z"
    }
   },
   "outputs": [
    {
     "data": {
      "text/plain": [
       "<sqlite3.Cursor at 0x2d2c06eb340>"
      ]
     },
     "execution_count": 187,
     "metadata": {},
     "output_type": "execute_result"
    }
   ],
   "source": [
    "sql = (\"CREATE INDEX index_green_ven1 ON green_tripdata (PULocationID, lpep_pickup_datetime);\")\n",
    "cur.execute(sql)\n",
    "\n",
    "sql = (\"CREATE INDEX index_green_ven2 ON green_tripdata (PULocationID, DOLocationID);\")\n",
    "cur.execute(sql)\n",
    "\n",
    "sql = (\"CREATE INDEX index_green_ven3 ON green_tripdata (lpep_pickup_datetime);\")\n",
    "cur.execute(sql)\n",
    "\n",
    "sql = (\"CREATE INDEX index_green_ven4 ON green_tripdata (total_amount);\")\n",
    "cur.execute(sql)"
   ]
  },
  {
   "cell_type": "code",
   "execution_count": 189,
   "metadata": {
    "ExecuteTime": {
     "end_time": "2021-12-22T00:28:50.500891Z",
     "start_time": "2021-12-22T00:28:19.007839Z"
    }
   },
   "outputs": [
    {
     "data": {
      "text/html": [
       "<div>\n",
       "<style scoped>\n",
       "    .dataframe tbody tr th:only-of-type {\n",
       "        vertical-align: middle;\n",
       "    }\n",
       "\n",
       "    .dataframe tbody tr th {\n",
       "        vertical-align: top;\n",
       "    }\n",
       "\n",
       "    .dataframe thead th {\n",
       "        text-align: right;\n",
       "    }\n",
       "</style>\n",
       "<table border=\"1\" class=\"dataframe\">\n",
       "  <thead>\n",
       "    <tr style=\"text-align: right;\">\n",
       "      <th></th>\n",
       "      <th>index</th>\n",
       "      <th>lpep_pickup_datetime</th>\n",
       "      <th>PULocationID</th>\n",
       "      <th>DOLocationID</th>\n",
       "      <th>total_amount</th>\n",
       "      <th>payment_type</th>\n",
       "    </tr>\n",
       "  </thead>\n",
       "  <tbody>\n",
       "    <tr>\n",
       "      <th>0</th>\n",
       "      <td>26242</td>\n",
       "      <td>2021-06-15 15:52:25</td>\n",
       "      <td>75</td>\n",
       "      <td>41</td>\n",
       "      <td>6.30</td>\n",
       "      <td>2</td>\n",
       "    </tr>\n",
       "    <tr>\n",
       "      <th>1</th>\n",
       "      <td>1065</td>\n",
       "      <td>2021-05-01 17:13:57</td>\n",
       "      <td>41</td>\n",
       "      <td>116</td>\n",
       "      <td>14.16</td>\n",
       "      <td>1</td>\n",
       "    </tr>\n",
       "    <tr>\n",
       "      <th>2</th>\n",
       "      <td>9893</td>\n",
       "      <td>2021-06-06 10:56:53</td>\n",
       "      <td>42</td>\n",
       "      <td>69</td>\n",
       "      <td>12.30</td>\n",
       "      <td>2</td>\n",
       "    </tr>\n",
       "    <tr>\n",
       "      <th>3</th>\n",
       "      <td>44168</td>\n",
       "      <td>2021-05-27 19:41:48</td>\n",
       "      <td>41</td>\n",
       "      <td>74</td>\n",
       "      <td>24.80</td>\n",
       "      <td>2</td>\n",
       "    </tr>\n",
       "    <tr>\n",
       "      <th>4</th>\n",
       "      <td>27532</td>\n",
       "      <td>2021-04-19 14:49:59</td>\n",
       "      <td>134</td>\n",
       "      <td>216</td>\n",
       "      <td>12.96</td>\n",
       "      <td>1</td>\n",
       "    </tr>\n",
       "    <tr>\n",
       "      <th>...</th>\n",
       "      <td>...</td>\n",
       "      <td>...</td>\n",
       "      <td>...</td>\n",
       "      <td>...</td>\n",
       "      <td>...</td>\n",
       "      <td>...</td>\n",
       "    </tr>\n",
       "    <tr>\n",
       "      <th>11912998</th>\n",
       "      <td>536916</td>\n",
       "      <td>2018-02-20 13:43:37</td>\n",
       "      <td>65</td>\n",
       "      <td>100</td>\n",
       "      <td>26.30</td>\n",
       "      <td>1</td>\n",
       "    </tr>\n",
       "    <tr>\n",
       "      <th>11912999</th>\n",
       "      <td>101094</td>\n",
       "      <td>2018-09-05 23:21:41</td>\n",
       "      <td>83</td>\n",
       "      <td>56</td>\n",
       "      <td>10.80</td>\n",
       "      <td>1</td>\n",
       "    </tr>\n",
       "    <tr>\n",
       "      <th>11913000</th>\n",
       "      <td>625040</td>\n",
       "      <td>2018-09-29 07:18:29</td>\n",
       "      <td>129</td>\n",
       "      <td>82</td>\n",
       "      <td>5.80</td>\n",
       "      <td>2</td>\n",
       "    </tr>\n",
       "    <tr>\n",
       "      <th>11913001</th>\n",
       "      <td>10026</td>\n",
       "      <td>2018-05-01 13:35:27</td>\n",
       "      <td>33</td>\n",
       "      <td>39</td>\n",
       "      <td>32.80</td>\n",
       "      <td>2</td>\n",
       "    </tr>\n",
       "    <tr>\n",
       "      <th>11913002</th>\n",
       "      <td>349183</td>\n",
       "      <td>2018-12-15 19:41:24</td>\n",
       "      <td>196</td>\n",
       "      <td>95</td>\n",
       "      <td>7.80</td>\n",
       "      <td>2</td>\n",
       "    </tr>\n",
       "  </tbody>\n",
       "</table>\n",
       "<p>11913003 rows × 6 columns</p>\n",
       "</div>"
      ],
      "text/plain": [
       "           index lpep_pickup_datetime  PULocationID  DOLocationID  \\\n",
       "0          26242  2021-06-15 15:52:25            75            41   \n",
       "1           1065  2021-05-01 17:13:57            41           116   \n",
       "2           9893  2021-06-06 10:56:53            42            69   \n",
       "3          44168  2021-05-27 19:41:48            41            74   \n",
       "4          27532  2021-04-19 14:49:59           134           216   \n",
       "...          ...                  ...           ...           ...   \n",
       "11912998  536916  2018-02-20 13:43:37            65           100   \n",
       "11912999  101094  2018-09-05 23:21:41            83            56   \n",
       "11913000  625040  2018-09-29 07:18:29           129            82   \n",
       "11913001   10026  2018-05-01 13:35:27            33            39   \n",
       "11913002  349183  2018-12-15 19:41:24           196            95   \n",
       "\n",
       "          total_amount  payment_type  \n",
       "0                 6.30             2  \n",
       "1                14.16             1  \n",
       "2                12.30             2  \n",
       "3                24.80             2  \n",
       "4                12.96             1  \n",
       "...                ...           ...  \n",
       "11912998         26.30             1  \n",
       "11912999         10.80             1  \n",
       "11913000          5.80             2  \n",
       "11913001         32.80             2  \n",
       "11913002          7.80             2  \n",
       "\n",
       "[11913003 rows x 6 columns]"
      ]
     },
     "execution_count": 189,
     "metadata": {},
     "output_type": "execute_result"
    }
   ],
   "source": [
    "q=\"\"\"SELECT * FROM green_tripdata\"\"\"\n",
    "df_=table_query(q, cur=cur)\n",
    "df_"
   ]
  },
  {
   "cell_type": "code",
   "execution_count": null,
   "metadata": {},
   "outputs": [],
   "source": [
    "df_=pd.DataFrame()"
   ]
  },
  {
   "cell_type": "markdown",
   "metadata": {
    "ExecuteTime": {
     "end_time": "2021-12-21T16:12:45.815824Z",
     "start_time": "2021-12-21T16:12:45.375725Z"
    }
   },
   "source": [
    "### Loading the yellow_tripdata into the database"
   ]
  },
  {
   "cell_type": "markdown",
   "metadata": {},
   "source": [
    "#### 2021, with manual check"
   ]
  },
  {
   "cell_type": "code",
   "execution_count": 190,
   "metadata": {
    "ExecuteTime": {
     "end_time": "2021-12-22T00:31:38.984003Z",
     "start_time": "2021-12-22T00:31:19.452959Z"
    }
   },
   "outputs": [
    {
     "name": "stderr",
     "output_type": "stream",
     "text": [
      "C:\\Users\\elena\\anaconda3\\envs\\learn-env\\lib\\site-packages\\IPython\\core\\interactiveshell.py:3145: DtypeWarning: Columns (6) have mixed types.Specify dtype option on import or set low_memory=False.\n",
      "  has_raised = await self.run_ast_nodes(code_ast.body, cell_name,\n"
     ]
    }
   ],
   "source": [
    "files_ref=create_filelist('data/2021/',n=0)\n",
    "\n",
    "df_yellow_2021 = pd.DataFrame()\n",
    "list_frames=[]\n",
    "for i in range(0,len(files_ref)):\n",
    "    fullstring = files_ref[i]\n",
    "    substring = \"yellow_tripdata\"\n",
    "    if substring in fullstring:\n",
    "        df_name='df_yellow_2021_'+str(i+1)\n",
    "        df_name=pd.read_csv(fullstring)\n",
    "        list_frames.append(df_name)\n",
    "df_yellow_2021=pd.concat(list_frames)\n",
    "\n",
    "for df in list_frames:\n",
    "    df=pd.DataFrame()"
   ]
  },
  {
   "cell_type": "code",
   "execution_count": 191,
   "metadata": {
    "ExecuteTime": {
     "end_time": "2021-12-22T00:31:44.713449Z",
     "start_time": "2021-12-22T00:31:44.628440Z"
    }
   },
   "outputs": [
    {
     "name": "stdout",
     "output_type": "stream",
     "text": [
      "<class 'pandas.core.frame.DataFrame'>\n",
      "Int64Index: 15000700 entries, 0 to 2821514\n",
      "Data columns (total 18 columns):\n",
      " #   Column                 Dtype  \n",
      "---  ------                 -----  \n",
      " 0   VendorID               float64\n",
      " 1   tpep_pickup_datetime   object \n",
      " 2   tpep_dropoff_datetime  object \n",
      " 3   passenger_count        float64\n",
      " 4   trip_distance          float64\n",
      " 5   RatecodeID             float64\n",
      " 6   store_and_fwd_flag     object \n",
      " 7   PULocationID           int64  \n",
      " 8   DOLocationID           int64  \n",
      " 9   payment_type           float64\n",
      " 10  fare_amount            float64\n",
      " 11  extra                  float64\n",
      " 12  mta_tax                float64\n",
      " 13  tip_amount             float64\n",
      " 14  tolls_amount           float64\n",
      " 15  improvement_surcharge  float64\n",
      " 16  total_amount           float64\n",
      " 17  congestion_surcharge   float64\n",
      "dtypes: float64(13), int64(2), object(3)\n",
      "memory usage: 2.1+ GB\n"
     ]
    }
   ],
   "source": [
    "df_yellow_2021.info()"
   ]
  },
  {
   "cell_type": "code",
   "execution_count": 192,
   "metadata": {
    "ExecuteTime": {
     "end_time": "2021-12-22T00:31:51.648354Z",
     "start_time": "2021-12-22T00:31:51.548330Z"
    }
   },
   "outputs": [
    {
     "data": {
      "text/html": [
       "<div>\n",
       "<style scoped>\n",
       "    .dataframe tbody tr th:only-of-type {\n",
       "        vertical-align: middle;\n",
       "    }\n",
       "\n",
       "    .dataframe tbody tr th {\n",
       "        vertical-align: top;\n",
       "    }\n",
       "\n",
       "    .dataframe thead th {\n",
       "        text-align: right;\n",
       "    }\n",
       "</style>\n",
       "<table border=\"1\" class=\"dataframe\">\n",
       "  <thead>\n",
       "    <tr style=\"text-align: right;\">\n",
       "      <th></th>\n",
       "      <th>VendorID</th>\n",
       "      <th>tpep_pickup_datetime</th>\n",
       "      <th>tpep_dropoff_datetime</th>\n",
       "      <th>passenger_count</th>\n",
       "      <th>trip_distance</th>\n",
       "      <th>RatecodeID</th>\n",
       "      <th>store_and_fwd_flag</th>\n",
       "      <th>PULocationID</th>\n",
       "      <th>DOLocationID</th>\n",
       "      <th>payment_type</th>\n",
       "      <th>fare_amount</th>\n",
       "      <th>extra</th>\n",
       "      <th>mta_tax</th>\n",
       "      <th>tip_amount</th>\n",
       "      <th>tolls_amount</th>\n",
       "      <th>improvement_surcharge</th>\n",
       "      <th>total_amount</th>\n",
       "      <th>congestion_surcharge</th>\n",
       "    </tr>\n",
       "  </thead>\n",
       "  <tbody>\n",
       "    <tr>\n",
       "      <th>0</th>\n",
       "      <td>1.0</td>\n",
       "      <td>2021-01-01 00:30:10</td>\n",
       "      <td>2021-01-01 00:36:12</td>\n",
       "      <td>1.0</td>\n",
       "      <td>2.10</td>\n",
       "      <td>1.0</td>\n",
       "      <td>N</td>\n",
       "      <td>142</td>\n",
       "      <td>43</td>\n",
       "      <td>2.0</td>\n",
       "      <td>8.0</td>\n",
       "      <td>3.0</td>\n",
       "      <td>0.5</td>\n",
       "      <td>0.00</td>\n",
       "      <td>0.0</td>\n",
       "      <td>0.3</td>\n",
       "      <td>11.80</td>\n",
       "      <td>2.5</td>\n",
       "    </tr>\n",
       "    <tr>\n",
       "      <th>1</th>\n",
       "      <td>1.0</td>\n",
       "      <td>2021-01-01 00:51:20</td>\n",
       "      <td>2021-01-01 00:52:19</td>\n",
       "      <td>1.0</td>\n",
       "      <td>0.20</td>\n",
       "      <td>1.0</td>\n",
       "      <td>N</td>\n",
       "      <td>238</td>\n",
       "      <td>151</td>\n",
       "      <td>2.0</td>\n",
       "      <td>3.0</td>\n",
       "      <td>0.5</td>\n",
       "      <td>0.5</td>\n",
       "      <td>0.00</td>\n",
       "      <td>0.0</td>\n",
       "      <td>0.3</td>\n",
       "      <td>4.30</td>\n",
       "      <td>0.0</td>\n",
       "    </tr>\n",
       "    <tr>\n",
       "      <th>2</th>\n",
       "      <td>1.0</td>\n",
       "      <td>2021-01-01 00:43:30</td>\n",
       "      <td>2021-01-01 01:11:06</td>\n",
       "      <td>1.0</td>\n",
       "      <td>14.70</td>\n",
       "      <td>1.0</td>\n",
       "      <td>N</td>\n",
       "      <td>132</td>\n",
       "      <td>165</td>\n",
       "      <td>1.0</td>\n",
       "      <td>42.0</td>\n",
       "      <td>0.5</td>\n",
       "      <td>0.5</td>\n",
       "      <td>8.65</td>\n",
       "      <td>0.0</td>\n",
       "      <td>0.3</td>\n",
       "      <td>51.95</td>\n",
       "      <td>0.0</td>\n",
       "    </tr>\n",
       "    <tr>\n",
       "      <th>3</th>\n",
       "      <td>1.0</td>\n",
       "      <td>2021-01-01 00:15:48</td>\n",
       "      <td>2021-01-01 00:31:01</td>\n",
       "      <td>0.0</td>\n",
       "      <td>10.60</td>\n",
       "      <td>1.0</td>\n",
       "      <td>N</td>\n",
       "      <td>138</td>\n",
       "      <td>132</td>\n",
       "      <td>1.0</td>\n",
       "      <td>29.0</td>\n",
       "      <td>0.5</td>\n",
       "      <td>0.5</td>\n",
       "      <td>6.05</td>\n",
       "      <td>0.0</td>\n",
       "      <td>0.3</td>\n",
       "      <td>36.35</td>\n",
       "      <td>0.0</td>\n",
       "    </tr>\n",
       "    <tr>\n",
       "      <th>4</th>\n",
       "      <td>2.0</td>\n",
       "      <td>2021-01-01 00:31:49</td>\n",
       "      <td>2021-01-01 00:48:21</td>\n",
       "      <td>1.0</td>\n",
       "      <td>4.94</td>\n",
       "      <td>1.0</td>\n",
       "      <td>N</td>\n",
       "      <td>68</td>\n",
       "      <td>33</td>\n",
       "      <td>1.0</td>\n",
       "      <td>16.5</td>\n",
       "      <td>0.5</td>\n",
       "      <td>0.5</td>\n",
       "      <td>4.06</td>\n",
       "      <td>0.0</td>\n",
       "      <td>0.3</td>\n",
       "      <td>24.36</td>\n",
       "      <td>2.5</td>\n",
       "    </tr>\n",
       "  </tbody>\n",
       "</table>\n",
       "</div>"
      ],
      "text/plain": [
       "   VendorID tpep_pickup_datetime tpep_dropoff_datetime  passenger_count  \\\n",
       "0       1.0  2021-01-01 00:30:10   2021-01-01 00:36:12              1.0   \n",
       "1       1.0  2021-01-01 00:51:20   2021-01-01 00:52:19              1.0   \n",
       "2       1.0  2021-01-01 00:43:30   2021-01-01 01:11:06              1.0   \n",
       "3       1.0  2021-01-01 00:15:48   2021-01-01 00:31:01              0.0   \n",
       "4       2.0  2021-01-01 00:31:49   2021-01-01 00:48:21              1.0   \n",
       "\n",
       "   trip_distance  RatecodeID store_and_fwd_flag  PULocationID  DOLocationID  \\\n",
       "0           2.10         1.0                  N           142            43   \n",
       "1           0.20         1.0                  N           238           151   \n",
       "2          14.70         1.0                  N           132           165   \n",
       "3          10.60         1.0                  N           138           132   \n",
       "4           4.94         1.0                  N            68            33   \n",
       "\n",
       "   payment_type  fare_amount  extra  mta_tax  tip_amount  tolls_amount  \\\n",
       "0           2.0          8.0    3.0      0.5        0.00           0.0   \n",
       "1           2.0          3.0    0.5      0.5        0.00           0.0   \n",
       "2           1.0         42.0    0.5      0.5        8.65           0.0   \n",
       "3           1.0         29.0    0.5      0.5        6.05           0.0   \n",
       "4           1.0         16.5    0.5      0.5        4.06           0.0   \n",
       "\n",
       "   improvement_surcharge  total_amount  congestion_surcharge  \n",
       "0                    0.3         11.80                   2.5  \n",
       "1                    0.3          4.30                   0.0  \n",
       "2                    0.3         51.95                   0.0  \n",
       "3                    0.3         36.35                   0.0  \n",
       "4                    0.3         24.36                   2.5  "
      ]
     },
     "execution_count": 192,
     "metadata": {},
     "output_type": "execute_result"
    }
   ],
   "source": [
    "df_yellow_2021.head()"
   ]
  },
  {
   "cell_type": "code",
   "execution_count": 75,
   "metadata": {
    "ExecuteTime": {
     "end_time": "2021-12-21T20:19:48.856707Z",
     "start_time": "2021-12-21T20:19:48.769687Z"
    }
   },
   "outputs": [
    {
     "data": {
      "text/plain": [
       "Index(['VendorID', 'tpep_pickup_datetime', 'tpep_dropoff_datetime',\n",
       "       'passenger_count', 'trip_distance', 'RatecodeID', 'store_and_fwd_flag',\n",
       "       'PULocationID', 'DOLocationID', 'payment_type', 'fare_amount', 'extra',\n",
       "       'mta_tax', 'tip_amount', 'tolls_amount', 'improvement_surcharge',\n",
       "       'total_amount', 'congestion_surcharge'],\n",
       "      dtype='object')"
      ]
     },
     "execution_count": 75,
     "metadata": {},
     "output_type": "execute_result"
    }
   ],
   "source": [
    "df.columns"
   ]
  },
  {
   "cell_type": "markdown",
   "metadata": {},
   "source": [
    "**Dropping the following fields that seem to be irrelevant to the problem stated. Financially we are only interested in the total amount charged.**<br>\n",
    ">tpep_dropoff_datetime<br>\n",
    "store_and_fwd_flag<br>\n",
    "RatecodeID<br>\n",
    "fare_amount<br>\n",
    "extra<br>\n",
    "mta_tax<br>\n",
    "tip_amount<br>\n",
    "tolls_amount<br>\n",
    "improvement_surcharge<br>\n",
    "congestion_surcharge<br>"
   ]
  },
  {
   "cell_type": "code",
   "execution_count": 194,
   "metadata": {
    "ExecuteTime": {
     "end_time": "2021-12-22T00:34:32.961210Z",
     "start_time": "2021-12-22T00:34:22.560987Z"
    }
   },
   "outputs": [
    {
     "name": "stdout",
     "output_type": "stream",
     "text": [
      "<class 'pandas.core.frame.DataFrame'>\n",
      "Int64Index: 14166672 entries, 0 to 2690858\n",
      "Data columns (total 5 columns):\n",
      " #   Column                Dtype         \n",
      "---  ------                -----         \n",
      " 0   tpep_pickup_datetime  datetime64[ns]\n",
      " 1   PULocationID          int64         \n",
      " 2   DOLocationID          int64         \n",
      " 3   payment_type          int32         \n",
      " 4   total_amount          float64       \n",
      "dtypes: datetime64[ns](1), float64(1), int32(1), int64(2)\n",
      "memory usage: 594.5 MB\n"
     ]
    }
   ],
   "source": [
    "df = df_yellow_2021[pd.notnull(df_yellow_2021['VendorID'])]\n",
    "\n",
    "#list of columns to drop\n",
    "list_drp=['tpep_dropoff_datetime','store_and_fwd_flag', 'fare_amount', 'extra', 'mta_tax',\n",
    "          'tip_amount', 'tolls_amount', 'improvement_surcharge','congestion_surcharge',\n",
    "          'RatecodeID','VendorID','trip_distance','passenger_count']\n",
    "df=df.drop(list_drp, axis=1)\n",
    "\n",
    "df=df.astype({'payment_type': 'int32'})\n",
    "\n",
    "df['tpep_pickup_datetime'] = pd.to_datetime(df['tpep_pickup_datetime'])\n",
    "df.info()"
   ]
  },
  {
   "cell_type": "code",
   "execution_count": 195,
   "metadata": {
    "ExecuteTime": {
     "end_time": "2021-12-22T00:35:40.021166Z",
     "start_time": "2021-12-22T00:35:39.679195Z"
    }
   },
   "outputs": [],
   "source": [
    "# Cleaning up the memory of the large dataframe\n",
    "df_yellow_2021 = pd.DataFrame()"
   ]
  },
  {
   "cell_type": "code",
   "execution_count": 196,
   "metadata": {
    "ExecuteTime": {
     "end_time": "2021-12-22T00:35:41.603768Z",
     "start_time": "2021-12-22T00:35:41.515748Z"
    }
   },
   "outputs": [
    {
     "data": {
      "text/html": [
       "<div>\n",
       "<style scoped>\n",
       "    .dataframe tbody tr th:only-of-type {\n",
       "        vertical-align: middle;\n",
       "    }\n",
       "\n",
       "    .dataframe tbody tr th {\n",
       "        vertical-align: top;\n",
       "    }\n",
       "\n",
       "    .dataframe thead th {\n",
       "        text-align: right;\n",
       "    }\n",
       "</style>\n",
       "<table border=\"1\" class=\"dataframe\">\n",
       "  <thead>\n",
       "    <tr style=\"text-align: right;\">\n",
       "      <th></th>\n",
       "      <th>tpep_pickup_datetime</th>\n",
       "      <th>PULocationID</th>\n",
       "      <th>DOLocationID</th>\n",
       "      <th>payment_type</th>\n",
       "      <th>total_amount</th>\n",
       "    </tr>\n",
       "  </thead>\n",
       "  <tbody>\n",
       "    <tr>\n",
       "      <th>0</th>\n",
       "      <td>2021-01-01 00:30:10</td>\n",
       "      <td>142</td>\n",
       "      <td>43</td>\n",
       "      <td>2</td>\n",
       "      <td>11.80</td>\n",
       "    </tr>\n",
       "    <tr>\n",
       "      <th>1</th>\n",
       "      <td>2021-01-01 00:51:20</td>\n",
       "      <td>238</td>\n",
       "      <td>151</td>\n",
       "      <td>2</td>\n",
       "      <td>4.30</td>\n",
       "    </tr>\n",
       "    <tr>\n",
       "      <th>2</th>\n",
       "      <td>2021-01-01 00:43:30</td>\n",
       "      <td>132</td>\n",
       "      <td>165</td>\n",
       "      <td>1</td>\n",
       "      <td>51.95</td>\n",
       "    </tr>\n",
       "    <tr>\n",
       "      <th>3</th>\n",
       "      <td>2021-01-01 00:15:48</td>\n",
       "      <td>138</td>\n",
       "      <td>132</td>\n",
       "      <td>1</td>\n",
       "      <td>36.35</td>\n",
       "    </tr>\n",
       "    <tr>\n",
       "      <th>4</th>\n",
       "      <td>2021-01-01 00:31:49</td>\n",
       "      <td>68</td>\n",
       "      <td>33</td>\n",
       "      <td>1</td>\n",
       "      <td>24.36</td>\n",
       "    </tr>\n",
       "  </tbody>\n",
       "</table>\n",
       "</div>"
      ],
      "text/plain": [
       "  tpep_pickup_datetime  PULocationID  DOLocationID  payment_type  total_amount\n",
       "0  2021-01-01 00:30:10           142            43             2         11.80\n",
       "1  2021-01-01 00:51:20           238           151             2          4.30\n",
       "2  2021-01-01 00:43:30           132           165             1         51.95\n",
       "3  2021-01-01 00:15:48           138           132             1         36.35\n",
       "4  2021-01-01 00:31:49            68            33             1         24.36"
      ]
     },
     "execution_count": 196,
     "metadata": {},
     "output_type": "execute_result"
    }
   ],
   "source": [
    "df.head()"
   ]
  },
  {
   "cell_type": "code",
   "execution_count": 197,
   "metadata": {
    "ExecuteTime": {
     "end_time": "2021-12-22T00:36:48.816401Z",
     "start_time": "2021-12-22T00:36:48.641363Z"
    }
   },
   "outputs": [
    {
     "data": {
      "text/plain": [
       "array([2, 1, 4, 3, 5])"
      ]
     },
     "execution_count": 197,
     "metadata": {},
     "output_type": "execute_result"
    }
   ],
   "source": [
    "df.payment_type.unique()"
   ]
  },
  {
   "cell_type": "code",
   "execution_count": 198,
   "metadata": {
    "ExecuteTime": {
     "end_time": "2021-12-22T00:37:19.059856Z",
     "start_time": "2021-12-22T00:37:15.028267Z"
    }
   },
   "outputs": [
    {
     "data": {
      "text/plain": [
       "205"
      ]
     },
     "execution_count": 198,
     "metadata": {},
     "output_type": "execute_result"
    }
   ],
   "source": [
    "#Checking for duplicates and eliminating them prior to the uploading to the database\n",
    "df.duplicated().sum()"
   ]
  },
  {
   "cell_type": "code",
   "execution_count": 199,
   "metadata": {
    "ExecuteTime": {
     "end_time": "2021-12-22T00:37:31.622052Z",
     "start_time": "2021-12-22T00:37:27.157062Z"
    }
   },
   "outputs": [],
   "source": [
    "df=df.drop_duplicates()"
   ]
  },
  {
   "cell_type": "code",
   "execution_count": 200,
   "metadata": {
    "ExecuteTime": {
     "end_time": "2021-12-22T00:38:47.352080Z",
     "start_time": "2021-12-22T00:38:47.259060Z"
    }
   },
   "outputs": [
    {
     "name": "stdout",
     "output_type": "stream",
     "text": [
      "<class 'pandas.core.frame.DataFrame'>\n",
      "Int64Index: 14166467 entries, 0 to 2690858\n",
      "Data columns (total 5 columns):\n",
      " #   Column                Dtype         \n",
      "---  ------                -----         \n",
      " 0   tpep_pickup_datetime  datetime64[ns]\n",
      " 1   PULocationID          int64         \n",
      " 2   DOLocationID          int64         \n",
      " 3   payment_type          int32         \n",
      " 4   total_amount          float64       \n",
      "dtypes: datetime64[ns](1), float64(1), int32(1), int64(2)\n",
      "memory usage: 594.4 MB\n"
     ]
    }
   ],
   "source": [
    "df.info()"
   ]
  },
  {
   "cell_type": "code",
   "execution_count": 201,
   "metadata": {
    "ExecuteTime": {
     "end_time": "2021-12-22T00:39:50.125640Z",
     "start_time": "2021-12-22T00:39:48.194208Z"
    }
   },
   "outputs": [
    {
     "name": "stdout",
     "output_type": "stream",
     "text": [
      "<class 'pandas.core.frame.DataFrame'>\n",
      "Int64Index: 10624850 entries, 1960497 to 1572249\n",
      "Data columns (total 5 columns):\n",
      " #   Column                Dtype         \n",
      "---  ------                -----         \n",
      " 0   tpep_pickup_datetime  datetime64[ns]\n",
      " 1   PULocationID          int64         \n",
      " 2   DOLocationID          int64         \n",
      " 3   payment_type          int32         \n",
      " 4   total_amount          float64       \n",
      "dtypes: datetime64[ns](1), float64(1), int32(1), int64(2)\n",
      "memory usage: 445.8 MB\n"
     ]
    }
   ],
   "source": [
    "# Randomly eliminating 25% of data\n",
    "\n",
    "df_=df.sample(frac = 0.75, random_state=123)\n",
    "df_.info()"
   ]
  },
  {
   "cell_type": "code",
   "execution_count": 202,
   "metadata": {
    "ExecuteTime": {
     "end_time": "2021-12-22T00:41:05.858664Z",
     "start_time": "2021-12-22T00:41:05.728645Z"
    }
   },
   "outputs": [
    {
     "name": "stdout",
     "output_type": "stream",
     "text": [
      "<class 'pandas.core.frame.DataFrame'>\n",
      "Int64Index: 10624850 entries, 1960497 to 1572249\n",
      "Data columns (total 5 columns):\n",
      " #   Column                Dtype         \n",
      "---  ------                -----         \n",
      " 0   tpep_pickup_datetime  datetime64[ns]\n",
      " 1   PULocationID          int64         \n",
      " 2   DOLocationID          int64         \n",
      " 3   payment_type          int32         \n",
      " 4   total_amount          float64       \n",
      "dtypes: datetime64[ns](1), float64(1), int32(1), int64(2)\n",
      "memory usage: 445.8 MB\n"
     ]
    }
   ],
   "source": [
    "df=df_\n",
    "df.info()"
   ]
  },
  {
   "cell_type": "code",
   "execution_count": 203,
   "metadata": {
    "ExecuteTime": {
     "end_time": "2021-12-22T00:41:11.673983Z",
     "start_time": "2021-12-22T00:41:11.257009Z"
    }
   },
   "outputs": [
    {
     "name": "stdout",
     "output_type": "stream",
     "text": [
      "<class 'pandas.core.frame.DataFrame'>\n",
      "Int64Index: 10570475 entries, 1960497 to 1572249\n",
      "Data columns (total 5 columns):\n",
      " #   Column                Dtype         \n",
      "---  ------                -----         \n",
      " 0   tpep_pickup_datetime  datetime64[ns]\n",
      " 1   PULocationID          int64         \n",
      " 2   DOLocationID          int64         \n",
      " 3   payment_type          int32         \n",
      " 4   total_amount          float64       \n",
      "dtypes: datetime64[ns](1), float64(1), int32(1), int64(2)\n",
      "memory usage: 443.6 MB\n"
     ]
    }
   ],
   "source": [
    "#Eliminating all records total_amount with equal or less 0\n",
    "df_filtered = df[df['total_amount'] >0]\n",
    "df_filtered.info()"
   ]
  },
  {
   "cell_type": "code",
   "execution_count": 204,
   "metadata": {
    "ExecuteTime": {
     "end_time": "2021-12-22T00:42:08.782355Z",
     "start_time": "2021-12-22T00:42:08.696347Z"
    }
   },
   "outputs": [
    {
     "name": "stdout",
     "output_type": "stream",
     "text": [
      "<class 'pandas.core.frame.DataFrame'>\n",
      "Int64Index: 10570475 entries, 1960497 to 1572249\n",
      "Data columns (total 5 columns):\n",
      " #   Column                Dtype         \n",
      "---  ------                -----         \n",
      " 0   tpep_pickup_datetime  datetime64[ns]\n",
      " 1   PULocationID          int64         \n",
      " 2   DOLocationID          int64         \n",
      " 3   payment_type          int32         \n",
      " 4   total_amount          float64       \n",
      "dtypes: datetime64[ns](1), float64(1), int32(1), int64(2)\n",
      "memory usage: 443.6 MB\n"
     ]
    }
   ],
   "source": [
    "df=df_filtered\n",
    "df.info()"
   ]
  },
  {
   "cell_type": "code",
   "execution_count": 205,
   "metadata": {
    "ExecuteTime": {
     "end_time": "2021-12-22T00:45:33.079276Z",
     "start_time": "2021-12-22T00:42:17.117263Z"
    }
   },
   "outputs": [
    {
     "data": {
      "text/html": [
       "<div>\n",
       "<style scoped>\n",
       "    .dataframe tbody tr th:only-of-type {\n",
       "        vertical-align: middle;\n",
       "    }\n",
       "\n",
       "    .dataframe tbody tr th {\n",
       "        vertical-align: top;\n",
       "    }\n",
       "\n",
       "    .dataframe thead th {\n",
       "        text-align: right;\n",
       "    }\n",
       "</style>\n",
       "<table border=\"1\" class=\"dataframe\">\n",
       "  <thead>\n",
       "    <tr style=\"text-align: right;\">\n",
       "      <th></th>\n",
       "      <th>name</th>\n",
       "    </tr>\n",
       "  </thead>\n",
       "  <tbody>\n",
       "    <tr>\n",
       "      <th>0</th>\n",
       "      <td>green_tripdata</td>\n",
       "    </tr>\n",
       "    <tr>\n",
       "      <th>1</th>\n",
       "      <td>yellow_tripdata</td>\n",
       "    </tr>\n",
       "  </tbody>\n",
       "</table>\n",
       "</div>"
      ],
      "text/plain": [
       "              name\n",
       "0   green_tripdata\n",
       "1  yellow_tripdata"
      ]
     },
     "execution_count": 205,
     "metadata": {},
     "output_type": "execute_result"
    }
   ],
   "source": [
    "#Loading the pre-processed dataframe into the database\n",
    "sqlite_table = \"yellow_tripdata\"\n",
    "df.to_sql(sqlite_table, conn, if_exists='append')\n",
    "\n",
    "q=\"SELECT name FROM sqlite_master WHERE type='table'\"\n",
    "df=table_query(q, cur=cur)\n",
    "df"
   ]
  },
  {
   "cell_type": "code",
   "execution_count": 206,
   "metadata": {
    "ExecuteTime": {
     "end_time": "2021-12-22T00:45:43.851988Z",
     "start_time": "2021-12-22T00:45:43.594941Z"
    }
   },
   "outputs": [
    {
     "data": {
      "text/html": [
       "<div>\n",
       "<style scoped>\n",
       "    .dataframe tbody tr th:only-of-type {\n",
       "        vertical-align: middle;\n",
       "    }\n",
       "\n",
       "    .dataframe tbody tr th {\n",
       "        vertical-align: top;\n",
       "    }\n",
       "\n",
       "    .dataframe thead th {\n",
       "        text-align: right;\n",
       "    }\n",
       "</style>\n",
       "<table border=\"1\" class=\"dataframe\">\n",
       "  <thead>\n",
       "    <tr style=\"text-align: right;\">\n",
       "      <th></th>\n",
       "      <th>count(*)</th>\n",
       "    </tr>\n",
       "  </thead>\n",
       "  <tbody>\n",
       "    <tr>\n",
       "      <th>0</th>\n",
       "      <td>10570475</td>\n",
       "    </tr>\n",
       "  </tbody>\n",
       "</table>\n",
       "</div>"
      ],
      "text/plain": [
       "   count(*)\n",
       "0  10570475"
      ]
     },
     "execution_count": 206,
     "metadata": {},
     "output_type": "execute_result"
    }
   ],
   "source": [
    "q=\"\"\"SELECT count(*) FROM yellow_tripdata\"\"\"\n",
    "df=table_query(q, cur=cur)\n",
    "df"
   ]
  },
  {
   "cell_type": "code",
   "execution_count": 207,
   "metadata": {
    "ExecuteTime": {
     "end_time": "2021-12-22T00:45:47.260030Z",
     "start_time": "2021-12-22T00:45:47.157020Z"
    }
   },
   "outputs": [
    {
     "data": {
      "text/html": [
       "<div>\n",
       "<style scoped>\n",
       "    .dataframe tbody tr th:only-of-type {\n",
       "        vertical-align: middle;\n",
       "    }\n",
       "\n",
       "    .dataframe tbody tr th {\n",
       "        vertical-align: top;\n",
       "    }\n",
       "\n",
       "    .dataframe thead th {\n",
       "        text-align: right;\n",
       "    }\n",
       "</style>\n",
       "<table border=\"1\" class=\"dataframe\">\n",
       "  <thead>\n",
       "    <tr style=\"text-align: right;\">\n",
       "      <th></th>\n",
       "      <th>index</th>\n",
       "      <th>tpep_pickup_datetime</th>\n",
       "      <th>PULocationID</th>\n",
       "      <th>DOLocationID</th>\n",
       "      <th>payment_type</th>\n",
       "      <th>total_amount</th>\n",
       "    </tr>\n",
       "  </thead>\n",
       "  <tbody>\n",
       "    <tr>\n",
       "      <th>0</th>\n",
       "      <td>1960497</td>\n",
       "      <td>2021-04-30 00:23:36</td>\n",
       "      <td>79</td>\n",
       "      <td>225</td>\n",
       "      <td>1</td>\n",
       "      <td>26.80</td>\n",
       "    </tr>\n",
       "    <tr>\n",
       "      <th>1</th>\n",
       "      <td>577771</td>\n",
       "      <td>2021-06-07 17:57:49</td>\n",
       "      <td>230</td>\n",
       "      <td>142</td>\n",
       "      <td>1</td>\n",
       "      <td>10.56</td>\n",
       "    </tr>\n",
       "    <tr>\n",
       "      <th>2</th>\n",
       "      <td>1493844</td>\n",
       "      <td>2021-05-20 14:03:34</td>\n",
       "      <td>140</td>\n",
       "      <td>164</td>\n",
       "      <td>1</td>\n",
       "      <td>18.80</td>\n",
       "    </tr>\n",
       "    <tr>\n",
       "      <th>3</th>\n",
       "      <td>1338621</td>\n",
       "      <td>2021-05-18 16:56:36</td>\n",
       "      <td>75</td>\n",
       "      <td>41</td>\n",
       "      <td>2</td>\n",
       "      <td>5.30</td>\n",
       "    </tr>\n",
       "    <tr>\n",
       "      <th>4</th>\n",
       "      <td>1234566</td>\n",
       "      <td>2021-01-30 18:29:03</td>\n",
       "      <td>230</td>\n",
       "      <td>163</td>\n",
       "      <td>2</td>\n",
       "      <td>8.80</td>\n",
       "    </tr>\n",
       "    <tr>\n",
       "      <th>5</th>\n",
       "      <td>1683861</td>\n",
       "      <td>2021-04-26 11:30:08</td>\n",
       "      <td>137</td>\n",
       "      <td>80</td>\n",
       "      <td>2</td>\n",
       "      <td>23.80</td>\n",
       "    </tr>\n",
       "    <tr>\n",
       "      <th>6</th>\n",
       "      <td>1778177</td>\n",
       "      <td>2021-06-20 22:49:57</td>\n",
       "      <td>79</td>\n",
       "      <td>137</td>\n",
       "      <td>1</td>\n",
       "      <td>11.16</td>\n",
       "    </tr>\n",
       "    <tr>\n",
       "      <th>7</th>\n",
       "      <td>2033053</td>\n",
       "      <td>2021-05-26 21:10:06</td>\n",
       "      <td>100</td>\n",
       "      <td>163</td>\n",
       "      <td>2</td>\n",
       "      <td>15.80</td>\n",
       "    </tr>\n",
       "    <tr>\n",
       "      <th>8</th>\n",
       "      <td>996616</td>\n",
       "      <td>2021-06-12 02:56:02</td>\n",
       "      <td>230</td>\n",
       "      <td>239</td>\n",
       "      <td>1</td>\n",
       "      <td>11.88</td>\n",
       "    </tr>\n",
       "    <tr>\n",
       "      <th>9</th>\n",
       "      <td>809463</td>\n",
       "      <td>2021-06-10 09:51:57</td>\n",
       "      <td>132</td>\n",
       "      <td>75</td>\n",
       "      <td>1</td>\n",
       "      <td>75.70</td>\n",
       "    </tr>\n",
       "  </tbody>\n",
       "</table>\n",
       "</div>"
      ],
      "text/plain": [
       "     index tpep_pickup_datetime  PULocationID  DOLocationID  payment_type  \\\n",
       "0  1960497  2021-04-30 00:23:36            79           225             1   \n",
       "1   577771  2021-06-07 17:57:49           230           142             1   \n",
       "2  1493844  2021-05-20 14:03:34           140           164             1   \n",
       "3  1338621  2021-05-18 16:56:36            75            41             2   \n",
       "4  1234566  2021-01-30 18:29:03           230           163             2   \n",
       "5  1683861  2021-04-26 11:30:08           137            80             2   \n",
       "6  1778177  2021-06-20 22:49:57            79           137             1   \n",
       "7  2033053  2021-05-26 21:10:06           100           163             2   \n",
       "8   996616  2021-06-12 02:56:02           230           239             1   \n",
       "9   809463  2021-06-10 09:51:57           132            75             1   \n",
       "\n",
       "   total_amount  \n",
       "0         26.80  \n",
       "1         10.56  \n",
       "2         18.80  \n",
       "3          5.30  \n",
       "4          8.80  \n",
       "5         23.80  \n",
       "6         11.16  \n",
       "7         15.80  \n",
       "8         11.88  \n",
       "9         75.70  "
      ]
     },
     "execution_count": 207,
     "metadata": {},
     "output_type": "execute_result"
    }
   ],
   "source": [
    "q=\"\"\"SELECT * FROM yellow_tripdata limit 10\"\"\"\n",
    "df=table_query(q, cur=cur)\n",
    "df"
   ]
  },
  {
   "cell_type": "markdown",
   "metadata": {},
   "source": [
    "#### 2020"
   ]
  },
  {
   "cell_type": "code",
   "execution_count": 208,
   "metadata": {
    "ExecuteTime": {
     "end_time": "2021-12-22T00:46:39.905702Z",
     "start_time": "2021-12-22T00:46:08.226406Z"
    }
   },
   "outputs": [
    {
     "name": "stderr",
     "output_type": "stream",
     "text": [
      "C:\\Users\\elena\\anaconda3\\envs\\learn-env\\lib\\site-packages\\IPython\\core\\interactiveshell.py:3145: DtypeWarning: Columns (6) have mixed types.Specify dtype option on import or set low_memory=False.\n",
      "  has_raised = await self.run_ast_nodes(code_ast.body, cell_name,\n"
     ]
    },
    {
     "name": "stdout",
     "output_type": "stream",
     "text": [
      "<class 'pandas.core.frame.DataFrame'>\n",
      "Int64Index: 24648499 entries, 0 to 1461896\n",
      "Data columns (total 18 columns):\n",
      " #   Column                 Dtype  \n",
      "---  ------                 -----  \n",
      " 0   VendorID               float64\n",
      " 1   tpep_pickup_datetime   object \n",
      " 2   tpep_dropoff_datetime  object \n",
      " 3   passenger_count        float64\n",
      " 4   trip_distance          float64\n",
      " 5   RatecodeID             float64\n",
      " 6   store_and_fwd_flag     object \n",
      " 7   PULocationID           int64  \n",
      " 8   DOLocationID           int64  \n",
      " 9   payment_type           float64\n",
      " 10  fare_amount            float64\n",
      " 11  extra                  float64\n",
      " 12  mta_tax                float64\n",
      " 13  tip_amount             float64\n",
      " 14  tolls_amount           float64\n",
      " 15  improvement_surcharge  float64\n",
      " 16  total_amount           float64\n",
      " 17  congestion_surcharge   float64\n",
      "dtypes: float64(13), int64(2), object(3)\n",
      "memory usage: 3.5+ GB\n"
     ]
    }
   ],
   "source": [
    "#Creating dataframes from all of the 2020 monthly files and concateneting them together for further pre-processing\n",
    "\n",
    "files_ref=create_filelist('data/2020/',n=0)\n",
    "\n",
    "\n",
    "df_yellow_2020 = pd.DataFrame()\n",
    "list_frames=[]\n",
    "for i in range(0,len(files_ref)):\n",
    "    fullstring = files_ref[i]\n",
    "    substring = \"yellow_tripdata\"\n",
    "    if substring in fullstring:\n",
    "        df_name='df_yellow_2020_'+str(i+1)\n",
    "        df_name=pd.read_csv(fullstring)\n",
    "        list_frames.append(df_name)\n",
    "df_yellow_2020=pd.concat(list_frames)\n",
    "\n",
    "#Cleaning up monthly DFs\n",
    "for df in list_frames:\n",
    "    df=pd.DataFrame()\n",
    "\n",
    "df_yellow_2020.info()"
   ]
  },
  {
   "cell_type": "code",
   "execution_count": 209,
   "metadata": {
    "ExecuteTime": {
     "end_time": "2021-12-22T00:48:24.860447Z",
     "start_time": "2021-12-22T00:48:05.464031Z"
    }
   },
   "outputs": [
    {
     "name": "stdout",
     "output_type": "stream",
     "text": [
      "<class 'pandas.core.frame.DataFrame'>\n",
      "Int64Index: 23838931 entries, 0 to 1362440\n",
      "Data columns (total 5 columns):\n",
      " #   Column                Dtype         \n",
      "---  ------                -----         \n",
      " 0   tpep_pickup_datetime  datetime64[ns]\n",
      " 1   PULocationID          int64         \n",
      " 2   DOLocationID          int64         \n",
      " 3   payment_type          int32         \n",
      " 4   total_amount          float64       \n",
      "dtypes: datetime64[ns](1), float64(1), int32(1), int64(2)\n",
      "memory usage: 1000.3 MB\n"
     ]
    }
   ],
   "source": [
    "df = df_yellow_2020[pd.notnull(df_yellow_2020['VendorID'])]\n",
    "\n",
    "#list of columns to drop\n",
    "list_drp=['tpep_dropoff_datetime','store_and_fwd_flag', 'fare_amount', 'extra', 'mta_tax',\n",
    "          'tip_amount', 'tolls_amount', 'improvement_surcharge','congestion_surcharge',\n",
    "          'RatecodeID','VendorID','trip_distance','passenger_count']\n",
    "df=df.drop(list_drp, axis=1)\n",
    "\n",
    "df=df.astype({'payment_type': 'int32'})\n",
    "\n",
    "df['tpep_pickup_datetime'] = pd.to_datetime(df['tpep_pickup_datetime'])\n",
    "df.info()"
   ]
  },
  {
   "cell_type": "code",
   "execution_count": 210,
   "metadata": {
    "ExecuteTime": {
     "end_time": "2021-12-22T00:48:47.057879Z",
     "start_time": "2021-12-22T00:48:46.503755Z"
    }
   },
   "outputs": [],
   "source": [
    "# Cleaning up the memory of the large dataframe\n",
    "df_yellow_2020 = pd.DataFrame()"
   ]
  },
  {
   "cell_type": "code",
   "execution_count": 211,
   "metadata": {
    "ExecuteTime": {
     "end_time": "2021-12-22T00:48:54.212798Z",
     "start_time": "2021-12-22T00:48:48.806597Z"
    }
   },
   "outputs": [
    {
     "data": {
      "text/plain": [
       "689"
      ]
     },
     "execution_count": 211,
     "metadata": {},
     "output_type": "execute_result"
    }
   ],
   "source": [
    "#Checking for duplicates and eliminating them prior to the uploading to the database\n",
    "df.duplicated().sum()"
   ]
  },
  {
   "cell_type": "code",
   "execution_count": 212,
   "metadata": {
    "ExecuteTime": {
     "end_time": "2021-12-22T00:49:09.411232Z",
     "start_time": "2021-12-22T00:49:03.166844Z"
    }
   },
   "outputs": [],
   "source": [
    "df=df.drop_duplicates()"
   ]
  },
  {
   "cell_type": "code",
   "execution_count": 213,
   "metadata": {
    "ExecuteTime": {
     "end_time": "2021-12-22T00:50:05.981537Z",
     "start_time": "2021-12-22T00:50:05.892533Z"
    }
   },
   "outputs": [
    {
     "name": "stdout",
     "output_type": "stream",
     "text": [
      "<class 'pandas.core.frame.DataFrame'>\n",
      "Int64Index: 23838242 entries, 0 to 1362440\n",
      "Data columns (total 5 columns):\n",
      " #   Column                Dtype         \n",
      "---  ------                -----         \n",
      " 0   tpep_pickup_datetime  datetime64[ns]\n",
      " 1   PULocationID          int64         \n",
      " 2   DOLocationID          int64         \n",
      " 3   payment_type          int32         \n",
      " 4   total_amount          float64       \n",
      "dtypes: datetime64[ns](1), float64(1), int32(1), int64(2)\n",
      "memory usage: 1000.3 MB\n"
     ]
    }
   ],
   "source": [
    "df.info()"
   ]
  },
  {
   "cell_type": "code",
   "execution_count": 214,
   "metadata": {
    "ExecuteTime": {
     "end_time": "2021-12-22T00:50:19.948125Z",
     "start_time": "2021-12-22T00:50:16.509356Z"
    }
   },
   "outputs": [
    {
     "name": "stdout",
     "output_type": "stream",
     "text": [
      "<class 'pandas.core.frame.DataFrame'>\n",
      "Int64Index: 17878682 entries, 716472 to 1386423\n",
      "Data columns (total 5 columns):\n",
      " #   Column                Dtype         \n",
      "---  ------                -----         \n",
      " 0   tpep_pickup_datetime  datetime64[ns]\n",
      " 1   PULocationID          int64         \n",
      " 2   DOLocationID          int64         \n",
      " 3   payment_type          int32         \n",
      " 4   total_amount          float64       \n",
      "dtypes: datetime64[ns](1), float64(1), int32(1), int64(2)\n",
      "memory usage: 750.2 MB\n"
     ]
    }
   ],
   "source": [
    "# Randomly eliminating 25% of data\n",
    "\n",
    "df_=df.sample(frac = 0.75, random_state=123)\n",
    "df_.info()"
   ]
  },
  {
   "cell_type": "code",
   "execution_count": 215,
   "metadata": {
    "ExecuteTime": {
     "end_time": "2021-12-22T00:50:53.876854Z",
     "start_time": "2021-12-22T00:50:53.724821Z"
    }
   },
   "outputs": [
    {
     "name": "stdout",
     "output_type": "stream",
     "text": [
      "<class 'pandas.core.frame.DataFrame'>\n",
      "Int64Index: 17878682 entries, 716472 to 1386423\n",
      "Data columns (total 5 columns):\n",
      " #   Column                Dtype         \n",
      "---  ------                -----         \n",
      " 0   tpep_pickup_datetime  datetime64[ns]\n",
      " 1   PULocationID          int64         \n",
      " 2   DOLocationID          int64         \n",
      " 3   payment_type          int32         \n",
      " 4   total_amount          float64       \n",
      "dtypes: datetime64[ns](1), float64(1), int32(1), int64(2)\n",
      "memory usage: 750.2 MB\n"
     ]
    }
   ],
   "source": [
    "df=df_\n",
    "df.info()"
   ]
  },
  {
   "cell_type": "code",
   "execution_count": 216,
   "metadata": {
    "ExecuteTime": {
     "end_time": "2021-12-22T00:51:21.752188Z",
     "start_time": "2021-12-22T00:51:21.084040Z"
    }
   },
   "outputs": [
    {
     "name": "stdout",
     "output_type": "stream",
     "text": [
      "<class 'pandas.core.frame.DataFrame'>\n",
      "Int64Index: 17803737 entries, 716472 to 1386423\n",
      "Data columns (total 5 columns):\n",
      " #   Column                Dtype         \n",
      "---  ------                -----         \n",
      " 0   tpep_pickup_datetime  datetime64[ns]\n",
      " 1   PULocationID          int64         \n",
      " 2   DOLocationID          int64         \n",
      " 3   payment_type          int32         \n",
      " 4   total_amount          float64       \n",
      "dtypes: datetime64[ns](1), float64(1), int32(1), int64(2)\n",
      "memory usage: 747.1 MB\n"
     ]
    }
   ],
   "source": [
    "#Eliminating all records total_amount with equal or less 0\n",
    "df_filtered = df[df['total_amount'] >0]\n",
    "df_filtered.info()"
   ]
  },
  {
   "cell_type": "code",
   "execution_count": 217,
   "metadata": {
    "ExecuteTime": {
     "end_time": "2021-12-22T00:52:05.935099Z",
     "start_time": "2021-12-22T00:52:05.858091Z"
    }
   },
   "outputs": [
    {
     "name": "stdout",
     "output_type": "stream",
     "text": [
      "<class 'pandas.core.frame.DataFrame'>\n",
      "Int64Index: 17803737 entries, 716472 to 1386423\n",
      "Data columns (total 5 columns):\n",
      " #   Column                Dtype         \n",
      "---  ------                -----         \n",
      " 0   tpep_pickup_datetime  datetime64[ns]\n",
      " 1   PULocationID          int64         \n",
      " 2   DOLocationID          int64         \n",
      " 3   payment_type          int32         \n",
      " 4   total_amount          float64       \n",
      "dtypes: datetime64[ns](1), float64(1), int32(1), int64(2)\n",
      "memory usage: 747.1 MB\n"
     ]
    }
   ],
   "source": [
    "df=df_filtered\n",
    "df.info()"
   ]
  },
  {
   "cell_type": "code",
   "execution_count": 218,
   "metadata": {
    "ExecuteTime": {
     "end_time": "2021-12-22T00:58:54.541216Z",
     "start_time": "2021-12-22T00:52:23.737697Z"
    }
   },
   "outputs": [],
   "source": [
    "#Loading the pre-processed dataframe into the database\n",
    "sqlite_table = \"yellow_tripdata\"\n",
    "df.to_sql(sqlite_table, conn, if_exists='append')"
   ]
  },
  {
   "cell_type": "code",
   "execution_count": 219,
   "metadata": {
    "ExecuteTime": {
     "end_time": "2021-12-22T00:59:29.089185Z",
     "start_time": "2021-12-22T00:59:28.528979Z"
    }
   },
   "outputs": [
    {
     "data": {
      "text/html": [
       "<div>\n",
       "<style scoped>\n",
       "    .dataframe tbody tr th:only-of-type {\n",
       "        vertical-align: middle;\n",
       "    }\n",
       "\n",
       "    .dataframe tbody tr th {\n",
       "        vertical-align: top;\n",
       "    }\n",
       "\n",
       "    .dataframe thead th {\n",
       "        text-align: right;\n",
       "    }\n",
       "</style>\n",
       "<table border=\"1\" class=\"dataframe\">\n",
       "  <thead>\n",
       "    <tr style=\"text-align: right;\">\n",
       "      <th></th>\n",
       "      <th>count(*)</th>\n",
       "    </tr>\n",
       "  </thead>\n",
       "  <tbody>\n",
       "    <tr>\n",
       "      <th>0</th>\n",
       "      <td>28374212</td>\n",
       "    </tr>\n",
       "  </tbody>\n",
       "</table>\n",
       "</div>"
      ],
      "text/plain": [
       "   count(*)\n",
       "0  28374212"
      ]
     },
     "execution_count": 219,
     "metadata": {},
     "output_type": "execute_result"
    }
   ],
   "source": [
    "q=\"\"\"SELECT count(*) FROM yellow_tripdata\"\"\"\n",
    "df=table_query(q, cur=cur)\n",
    "df"
   ]
  },
  {
   "cell_type": "code",
   "execution_count": 220,
   "metadata": {
    "ExecuteTime": {
     "end_time": "2021-12-22T00:59:35.918239Z",
     "start_time": "2021-12-22T00:59:35.826228Z"
    }
   },
   "outputs": [
    {
     "data": {
      "text/html": [
       "<div>\n",
       "<style scoped>\n",
       "    .dataframe tbody tr th:only-of-type {\n",
       "        vertical-align: middle;\n",
       "    }\n",
       "\n",
       "    .dataframe tbody tr th {\n",
       "        vertical-align: top;\n",
       "    }\n",
       "\n",
       "    .dataframe thead th {\n",
       "        text-align: right;\n",
       "    }\n",
       "</style>\n",
       "<table border=\"1\" class=\"dataframe\">\n",
       "  <thead>\n",
       "    <tr style=\"text-align: right;\">\n",
       "      <th></th>\n",
       "      <th>index</th>\n",
       "      <th>tpep_pickup_datetime</th>\n",
       "      <th>PULocationID</th>\n",
       "      <th>DOLocationID</th>\n",
       "      <th>payment_type</th>\n",
       "      <th>total_amount</th>\n",
       "    </tr>\n",
       "  </thead>\n",
       "  <tbody>\n",
       "    <tr>\n",
       "      <th>0</th>\n",
       "      <td>1960497</td>\n",
       "      <td>2021-04-30 00:23:36</td>\n",
       "      <td>79</td>\n",
       "      <td>225</td>\n",
       "      <td>1</td>\n",
       "      <td>26.80</td>\n",
       "    </tr>\n",
       "    <tr>\n",
       "      <th>1</th>\n",
       "      <td>577771</td>\n",
       "      <td>2021-06-07 17:57:49</td>\n",
       "      <td>230</td>\n",
       "      <td>142</td>\n",
       "      <td>1</td>\n",
       "      <td>10.56</td>\n",
       "    </tr>\n",
       "    <tr>\n",
       "      <th>2</th>\n",
       "      <td>1493844</td>\n",
       "      <td>2021-05-20 14:03:34</td>\n",
       "      <td>140</td>\n",
       "      <td>164</td>\n",
       "      <td>1</td>\n",
       "      <td>18.80</td>\n",
       "    </tr>\n",
       "    <tr>\n",
       "      <th>3</th>\n",
       "      <td>1338621</td>\n",
       "      <td>2021-05-18 16:56:36</td>\n",
       "      <td>75</td>\n",
       "      <td>41</td>\n",
       "      <td>2</td>\n",
       "      <td>5.30</td>\n",
       "    </tr>\n",
       "    <tr>\n",
       "      <th>4</th>\n",
       "      <td>1234566</td>\n",
       "      <td>2021-01-30 18:29:03</td>\n",
       "      <td>230</td>\n",
       "      <td>163</td>\n",
       "      <td>2</td>\n",
       "      <td>8.80</td>\n",
       "    </tr>\n",
       "    <tr>\n",
       "      <th>5</th>\n",
       "      <td>1683861</td>\n",
       "      <td>2021-04-26 11:30:08</td>\n",
       "      <td>137</td>\n",
       "      <td>80</td>\n",
       "      <td>2</td>\n",
       "      <td>23.80</td>\n",
       "    </tr>\n",
       "    <tr>\n",
       "      <th>6</th>\n",
       "      <td>1778177</td>\n",
       "      <td>2021-06-20 22:49:57</td>\n",
       "      <td>79</td>\n",
       "      <td>137</td>\n",
       "      <td>1</td>\n",
       "      <td>11.16</td>\n",
       "    </tr>\n",
       "    <tr>\n",
       "      <th>7</th>\n",
       "      <td>2033053</td>\n",
       "      <td>2021-05-26 21:10:06</td>\n",
       "      <td>100</td>\n",
       "      <td>163</td>\n",
       "      <td>2</td>\n",
       "      <td>15.80</td>\n",
       "    </tr>\n",
       "    <tr>\n",
       "      <th>8</th>\n",
       "      <td>996616</td>\n",
       "      <td>2021-06-12 02:56:02</td>\n",
       "      <td>230</td>\n",
       "      <td>239</td>\n",
       "      <td>1</td>\n",
       "      <td>11.88</td>\n",
       "    </tr>\n",
       "    <tr>\n",
       "      <th>9</th>\n",
       "      <td>809463</td>\n",
       "      <td>2021-06-10 09:51:57</td>\n",
       "      <td>132</td>\n",
       "      <td>75</td>\n",
       "      <td>1</td>\n",
       "      <td>75.70</td>\n",
       "    </tr>\n",
       "  </tbody>\n",
       "</table>\n",
       "</div>"
      ],
      "text/plain": [
       "     index tpep_pickup_datetime  PULocationID  DOLocationID  payment_type  \\\n",
       "0  1960497  2021-04-30 00:23:36            79           225             1   \n",
       "1   577771  2021-06-07 17:57:49           230           142             1   \n",
       "2  1493844  2021-05-20 14:03:34           140           164             1   \n",
       "3  1338621  2021-05-18 16:56:36            75            41             2   \n",
       "4  1234566  2021-01-30 18:29:03           230           163             2   \n",
       "5  1683861  2021-04-26 11:30:08           137            80             2   \n",
       "6  1778177  2021-06-20 22:49:57            79           137             1   \n",
       "7  2033053  2021-05-26 21:10:06           100           163             2   \n",
       "8   996616  2021-06-12 02:56:02           230           239             1   \n",
       "9   809463  2021-06-10 09:51:57           132            75             1   \n",
       "\n",
       "   total_amount  \n",
       "0         26.80  \n",
       "1         10.56  \n",
       "2         18.80  \n",
       "3          5.30  \n",
       "4          8.80  \n",
       "5         23.80  \n",
       "6         11.16  \n",
       "7         15.80  \n",
       "8         11.88  \n",
       "9         75.70  "
      ]
     },
     "execution_count": 220,
     "metadata": {},
     "output_type": "execute_result"
    }
   ],
   "source": [
    "q=\"\"\"SELECT * FROM yellow_tripdata limit 10\"\"\"\n",
    "df=table_query(q, cur=cur)\n",
    "df"
   ]
  },
  {
   "cell_type": "markdown",
   "metadata": {},
   "source": [
    "#### 2019"
   ]
  },
  {
   "cell_type": "code",
   "execution_count": 221,
   "metadata": {
    "ExecuteTime": {
     "end_time": "2021-12-22T01:01:52.548859Z",
     "start_time": "2021-12-22T00:59:43.418068Z"
    }
   },
   "outputs": [
    {
     "name": "stderr",
     "output_type": "stream",
     "text": [
      "C:\\Users\\elena\\anaconda3\\envs\\learn-env\\lib\\site-packages\\IPython\\core\\interactiveshell.py:3145: DtypeWarning: Columns (6) have mixed types.Specify dtype option on import or set low_memory=False.\n",
      "  has_raised = await self.run_ast_nodes(code_ast.body, cell_name,\n"
     ]
    },
    {
     "name": "stdout",
     "output_type": "stream",
     "text": [
      "<class 'pandas.core.frame.DataFrame'>\n",
      "Int64Index: 84399019 entries, 0 to 6896316\n",
      "Data columns (total 18 columns):\n",
      " #   Column                 Dtype  \n",
      "---  ------                 -----  \n",
      " 0   VendorID               float64\n",
      " 1   tpep_pickup_datetime   object \n",
      " 2   tpep_dropoff_datetime  object \n",
      " 3   passenger_count        float64\n",
      " 4   trip_distance          float64\n",
      " 5   RatecodeID             float64\n",
      " 6   store_and_fwd_flag     object \n",
      " 7   PULocationID           int64  \n",
      " 8   DOLocationID           int64  \n",
      " 9   payment_type           float64\n",
      " 10  fare_amount            float64\n",
      " 11  extra                  float64\n",
      " 12  mta_tax                float64\n",
      " 13  tip_amount             float64\n",
      " 14  tolls_amount           float64\n",
      " 15  improvement_surcharge  float64\n",
      " 16  total_amount           float64\n",
      " 17  congestion_surcharge   float64\n",
      "dtypes: float64(13), int64(2), object(3)\n",
      "memory usage: 11.9+ GB\n"
     ]
    }
   ],
   "source": [
    "#Creating dataframes from all of the 2019 monthly files and concateneting them together for further pre-processing\n",
    "\n",
    "files_ref=create_filelist('data/2019/',n=0)\n",
    "\n",
    "\n",
    "df_yellow_2019 = pd.DataFrame()\n",
    "list_frames=[]\n",
    "for i in range(0,len(files_ref)):\n",
    "    fullstring = files_ref[i]\n",
    "    substring = \"yellow_tripdata\"\n",
    "    if substring in fullstring:\n",
    "        df_name='df_yellow_2019_'+str(i+1)\n",
    "        df_name=pd.read_csv(fullstring)\n",
    "        list_frames.append(df_name)\n",
    "df_yellow_2019=pd.concat(list_frames)\n",
    "\n",
    "#Cleaning up monthly DFs\n",
    "for df in list_frames:\n",
    "    df=pd.DataFrame()\n",
    "\n",
    "df_yellow_2019.info()"
   ]
  },
  {
   "cell_type": "code",
   "execution_count": 222,
   "metadata": {
    "ExecuteTime": {
     "end_time": "2021-12-22T01:06:40.234317Z",
     "start_time": "2021-12-22T01:04:34.007909Z"
    }
   },
   "outputs": [
    {
     "name": "stdout",
     "output_type": "stream",
     "text": [
      "<class 'pandas.core.frame.DataFrame'>\n",
      "Int64Index: 84152418 entries, 0 to 6845298\n",
      "Data columns (total 5 columns):\n",
      " #   Column                Dtype         \n",
      "---  ------                -----         \n",
      " 0   tpep_pickup_datetime  datetime64[ns]\n",
      " 1   PULocationID          int64         \n",
      " 2   DOLocationID          int64         \n",
      " 3   payment_type          int32         \n",
      " 4   total_amount          float64       \n",
      "dtypes: datetime64[ns](1), float64(1), int32(1), int64(2)\n",
      "memory usage: 3.4 GB\n"
     ]
    }
   ],
   "source": [
    "df = df_yellow_2019[pd.notnull(df_yellow_2019['VendorID'])]\n",
    "\n",
    "#list of columns to drop\n",
    "list_drp=['tpep_dropoff_datetime','store_and_fwd_flag', 'fare_amount', 'extra', 'mta_tax',\n",
    "          'tip_amount', 'tolls_amount', 'improvement_surcharge','congestion_surcharge',\n",
    "          'RatecodeID','VendorID','trip_distance','passenger_count']\n",
    "df=df.drop(list_drp, axis=1)\n",
    "\n",
    "df=df.astype({'payment_type': 'int32'})\n",
    "\n",
    "df['tpep_pickup_datetime'] = pd.to_datetime(df['tpep_pickup_datetime'])\n",
    "df.info()"
   ]
  },
  {
   "cell_type": "code",
   "execution_count": 223,
   "metadata": {
    "ExecuteTime": {
     "end_time": "2021-12-22T01:08:02.120492Z",
     "start_time": "2021-12-22T01:08:00.396106Z"
    }
   },
   "outputs": [],
   "source": [
    "# Cleaning up the memory of the large dataframe\n",
    "df_yellow_2019 = pd.DataFrame()"
   ]
  },
  {
   "cell_type": "code",
   "execution_count": 224,
   "metadata": {
    "ExecuteTime": {
     "end_time": "2021-12-22T01:08:26.248363Z",
     "start_time": "2021-12-22T01:08:03.068705Z"
    }
   },
   "outputs": [
    {
     "data": {
      "text/plain": [
       "3325"
      ]
     },
     "execution_count": 224,
     "metadata": {},
     "output_type": "execute_result"
    }
   ],
   "source": [
    "#Checking for duplicates and eliminating them prior to the uploading to the database\n",
    "df.duplicated().sum()"
   ]
  },
  {
   "cell_type": "code",
   "execution_count": 225,
   "metadata": {
    "ExecuteTime": {
     "end_time": "2021-12-22T01:09:05.768117Z",
     "start_time": "2021-12-22T01:08:38.869586Z"
    }
   },
   "outputs": [],
   "source": [
    "df=df.drop_duplicates()"
   ]
  },
  {
   "cell_type": "code",
   "execution_count": 226,
   "metadata": {
    "ExecuteTime": {
     "end_time": "2021-12-22T01:09:11.869229Z",
     "start_time": "2021-12-22T01:09:11.781890Z"
    }
   },
   "outputs": [
    {
     "name": "stdout",
     "output_type": "stream",
     "text": [
      "<class 'pandas.core.frame.DataFrame'>\n",
      "Int64Index: 84149093 entries, 0 to 6845298\n",
      "Data columns (total 5 columns):\n",
      " #   Column                Dtype         \n",
      "---  ------                -----         \n",
      " 0   tpep_pickup_datetime  datetime64[ns]\n",
      " 1   PULocationID          int64         \n",
      " 2   DOLocationID          int64         \n",
      " 3   payment_type          int32         \n",
      " 4   total_amount          float64       \n",
      "dtypes: datetime64[ns](1), float64(1), int32(1), int64(2)\n",
      "memory usage: 3.4 GB\n"
     ]
    }
   ],
   "source": [
    "df.info()"
   ]
  },
  {
   "cell_type": "code",
   "execution_count": 227,
   "metadata": {
    "ExecuteTime": {
     "end_time": "2021-12-22T01:09:32.108150Z",
     "start_time": "2021-12-22T01:09:19.484946Z"
    }
   },
   "outputs": [
    {
     "name": "stdout",
     "output_type": "stream",
     "text": [
      "<class 'pandas.core.frame.DataFrame'>\n",
      "Int64Index: 63111820 entries, 5636199 to 5274915\n",
      "Data columns (total 5 columns):\n",
      " #   Column                Dtype         \n",
      "---  ------                -----         \n",
      " 0   tpep_pickup_datetime  datetime64[ns]\n",
      " 1   PULocationID          int64         \n",
      " 2   DOLocationID          int64         \n",
      " 3   payment_type          int32         \n",
      " 4   total_amount          float64       \n",
      "dtypes: datetime64[ns](1), float64(1), int32(1), int64(2)\n",
      "memory usage: 2.6 GB\n"
     ]
    }
   ],
   "source": [
    "# Randomly eliminating 25% of data\n",
    "\n",
    "df_=df.sample(frac = 0.75, random_state=123)\n",
    "df_.info()"
   ]
  },
  {
   "cell_type": "code",
   "execution_count": 228,
   "metadata": {
    "ExecuteTime": {
     "end_time": "2021-12-22T01:09:38.345206Z",
     "start_time": "2021-12-22T01:09:38.013132Z"
    }
   },
   "outputs": [
    {
     "name": "stdout",
     "output_type": "stream",
     "text": [
      "<class 'pandas.core.frame.DataFrame'>\n",
      "Int64Index: 63111820 entries, 5636199 to 5274915\n",
      "Data columns (total 5 columns):\n",
      " #   Column                Dtype         \n",
      "---  ------                -----         \n",
      " 0   tpep_pickup_datetime  datetime64[ns]\n",
      " 1   PULocationID          int64         \n",
      " 2   DOLocationID          int64         \n",
      " 3   payment_type          int32         \n",
      " 4   total_amount          float64       \n",
      "dtypes: datetime64[ns](1), float64(1), int32(1), int64(2)\n",
      "memory usage: 2.6 GB\n"
     ]
    }
   ],
   "source": [
    "df=df_\n",
    "df.info()"
   ]
  },
  {
   "cell_type": "code",
   "execution_count": 229,
   "metadata": {
    "ExecuteTime": {
     "end_time": "2021-12-22T01:09:44.478662Z",
     "start_time": "2021-12-22T01:09:42.493297Z"
    }
   },
   "outputs": [
    {
     "name": "stdout",
     "output_type": "stream",
     "text": [
      "<class 'pandas.core.frame.DataFrame'>\n",
      "Int64Index: 62969385 entries, 5636199 to 5274915\n",
      "Data columns (total 5 columns):\n",
      " #   Column                Dtype         \n",
      "---  ------                -----         \n",
      " 0   tpep_pickup_datetime  datetime64[ns]\n",
      " 1   PULocationID          int64         \n",
      " 2   DOLocationID          int64         \n",
      " 3   payment_type          int32         \n",
      " 4   total_amount          float64       \n",
      "dtypes: datetime64[ns](1), float64(1), int32(1), int64(2)\n",
      "memory usage: 2.6 GB\n"
     ]
    }
   ],
   "source": [
    "#Eliminating all records total_amount with equal or less 0\n",
    "df_filtered = df[df['total_amount'] >0]\n",
    "df_filtered.info()"
   ]
  },
  {
   "cell_type": "code",
   "execution_count": 230,
   "metadata": {
    "ExecuteTime": {
     "end_time": "2021-12-22T01:09:49.579376Z",
     "start_time": "2021-12-22T01:09:49.493652Z"
    }
   },
   "outputs": [
    {
     "name": "stdout",
     "output_type": "stream",
     "text": [
      "<class 'pandas.core.frame.DataFrame'>\n",
      "Int64Index: 62969385 entries, 5636199 to 5274915\n",
      "Data columns (total 5 columns):\n",
      " #   Column                Dtype         \n",
      "---  ------                -----         \n",
      " 0   tpep_pickup_datetime  datetime64[ns]\n",
      " 1   PULocationID          int64         \n",
      " 2   DOLocationID          int64         \n",
      " 3   payment_type          int32         \n",
      " 4   total_amount          float64       \n",
      "dtypes: datetime64[ns](1), float64(1), int32(1), int64(2)\n",
      "memory usage: 2.6 GB\n"
     ]
    }
   ],
   "source": [
    "df=df_filtered\n",
    "df.info()"
   ]
  },
  {
   "cell_type": "code",
   "execution_count": 231,
   "metadata": {
    "ExecuteTime": {
     "end_time": "2021-12-22T01:34:39.768785Z",
     "start_time": "2021-12-22T01:10:38.292149Z"
    }
   },
   "outputs": [],
   "source": [
    "#Loading the pre-processed dataframe into the database\n",
    "sqlite_table = \"yellow_tripdata\"\n",
    "df.to_sql(sqlite_table, conn, if_exists='append')"
   ]
  },
  {
   "cell_type": "code",
   "execution_count": 232,
   "metadata": {
    "ExecuteTime": {
     "end_time": "2021-12-22T01:35:07.262217Z",
     "start_time": "2021-12-22T01:35:05.478525Z"
    }
   },
   "outputs": [
    {
     "data": {
      "text/html": [
       "<div>\n",
       "<style scoped>\n",
       "    .dataframe tbody tr th:only-of-type {\n",
       "        vertical-align: middle;\n",
       "    }\n",
       "\n",
       "    .dataframe tbody tr th {\n",
       "        vertical-align: top;\n",
       "    }\n",
       "\n",
       "    .dataframe thead th {\n",
       "        text-align: right;\n",
       "    }\n",
       "</style>\n",
       "<table border=\"1\" class=\"dataframe\">\n",
       "  <thead>\n",
       "    <tr style=\"text-align: right;\">\n",
       "      <th></th>\n",
       "      <th>count(*)</th>\n",
       "    </tr>\n",
       "  </thead>\n",
       "  <tbody>\n",
       "    <tr>\n",
       "      <th>0</th>\n",
       "      <td>91343597</td>\n",
       "    </tr>\n",
       "  </tbody>\n",
       "</table>\n",
       "</div>"
      ],
      "text/plain": [
       "   count(*)\n",
       "0  91343597"
      ]
     },
     "execution_count": 232,
     "metadata": {},
     "output_type": "execute_result"
    }
   ],
   "source": [
    "q=\"\"\"SELECT count(*) FROM yellow_tripdata\"\"\"\n",
    "df=table_query(q, cur=cur)\n",
    "df"
   ]
  },
  {
   "cell_type": "code",
   "execution_count": 233,
   "metadata": {
    "ExecuteTime": {
     "end_time": "2021-12-22T01:35:13.338993Z",
     "start_time": "2021-12-22T01:35:13.244357Z"
    }
   },
   "outputs": [
    {
     "data": {
      "text/html": [
       "<div>\n",
       "<style scoped>\n",
       "    .dataframe tbody tr th:only-of-type {\n",
       "        vertical-align: middle;\n",
       "    }\n",
       "\n",
       "    .dataframe tbody tr th {\n",
       "        vertical-align: top;\n",
       "    }\n",
       "\n",
       "    .dataframe thead th {\n",
       "        text-align: right;\n",
       "    }\n",
       "</style>\n",
       "<table border=\"1\" class=\"dataframe\">\n",
       "  <thead>\n",
       "    <tr style=\"text-align: right;\">\n",
       "      <th></th>\n",
       "      <th>index</th>\n",
       "      <th>tpep_pickup_datetime</th>\n",
       "      <th>PULocationID</th>\n",
       "      <th>DOLocationID</th>\n",
       "      <th>payment_type</th>\n",
       "      <th>total_amount</th>\n",
       "    </tr>\n",
       "  </thead>\n",
       "  <tbody>\n",
       "    <tr>\n",
       "      <th>0</th>\n",
       "      <td>1960497</td>\n",
       "      <td>2021-04-30 00:23:36</td>\n",
       "      <td>79</td>\n",
       "      <td>225</td>\n",
       "      <td>1</td>\n",
       "      <td>26.80</td>\n",
       "    </tr>\n",
       "    <tr>\n",
       "      <th>1</th>\n",
       "      <td>577771</td>\n",
       "      <td>2021-06-07 17:57:49</td>\n",
       "      <td>230</td>\n",
       "      <td>142</td>\n",
       "      <td>1</td>\n",
       "      <td>10.56</td>\n",
       "    </tr>\n",
       "    <tr>\n",
       "      <th>2</th>\n",
       "      <td>1493844</td>\n",
       "      <td>2021-05-20 14:03:34</td>\n",
       "      <td>140</td>\n",
       "      <td>164</td>\n",
       "      <td>1</td>\n",
       "      <td>18.80</td>\n",
       "    </tr>\n",
       "    <tr>\n",
       "      <th>3</th>\n",
       "      <td>1338621</td>\n",
       "      <td>2021-05-18 16:56:36</td>\n",
       "      <td>75</td>\n",
       "      <td>41</td>\n",
       "      <td>2</td>\n",
       "      <td>5.30</td>\n",
       "    </tr>\n",
       "    <tr>\n",
       "      <th>4</th>\n",
       "      <td>1234566</td>\n",
       "      <td>2021-01-30 18:29:03</td>\n",
       "      <td>230</td>\n",
       "      <td>163</td>\n",
       "      <td>2</td>\n",
       "      <td>8.80</td>\n",
       "    </tr>\n",
       "    <tr>\n",
       "      <th>5</th>\n",
       "      <td>1683861</td>\n",
       "      <td>2021-04-26 11:30:08</td>\n",
       "      <td>137</td>\n",
       "      <td>80</td>\n",
       "      <td>2</td>\n",
       "      <td>23.80</td>\n",
       "    </tr>\n",
       "    <tr>\n",
       "      <th>6</th>\n",
       "      <td>1778177</td>\n",
       "      <td>2021-06-20 22:49:57</td>\n",
       "      <td>79</td>\n",
       "      <td>137</td>\n",
       "      <td>1</td>\n",
       "      <td>11.16</td>\n",
       "    </tr>\n",
       "    <tr>\n",
       "      <th>7</th>\n",
       "      <td>2033053</td>\n",
       "      <td>2021-05-26 21:10:06</td>\n",
       "      <td>100</td>\n",
       "      <td>163</td>\n",
       "      <td>2</td>\n",
       "      <td>15.80</td>\n",
       "    </tr>\n",
       "    <tr>\n",
       "      <th>8</th>\n",
       "      <td>996616</td>\n",
       "      <td>2021-06-12 02:56:02</td>\n",
       "      <td>230</td>\n",
       "      <td>239</td>\n",
       "      <td>1</td>\n",
       "      <td>11.88</td>\n",
       "    </tr>\n",
       "    <tr>\n",
       "      <th>9</th>\n",
       "      <td>809463</td>\n",
       "      <td>2021-06-10 09:51:57</td>\n",
       "      <td>132</td>\n",
       "      <td>75</td>\n",
       "      <td>1</td>\n",
       "      <td>75.70</td>\n",
       "    </tr>\n",
       "  </tbody>\n",
       "</table>\n",
       "</div>"
      ],
      "text/plain": [
       "     index tpep_pickup_datetime  PULocationID  DOLocationID  payment_type  \\\n",
       "0  1960497  2021-04-30 00:23:36            79           225             1   \n",
       "1   577771  2021-06-07 17:57:49           230           142             1   \n",
       "2  1493844  2021-05-20 14:03:34           140           164             1   \n",
       "3  1338621  2021-05-18 16:56:36            75            41             2   \n",
       "4  1234566  2021-01-30 18:29:03           230           163             2   \n",
       "5  1683861  2021-04-26 11:30:08           137            80             2   \n",
       "6  1778177  2021-06-20 22:49:57            79           137             1   \n",
       "7  2033053  2021-05-26 21:10:06           100           163             2   \n",
       "8   996616  2021-06-12 02:56:02           230           239             1   \n",
       "9   809463  2021-06-10 09:51:57           132            75             1   \n",
       "\n",
       "   total_amount  \n",
       "0         26.80  \n",
       "1         10.56  \n",
       "2         18.80  \n",
       "3          5.30  \n",
       "4          8.80  \n",
       "5         23.80  \n",
       "6         11.16  \n",
       "7         15.80  \n",
       "8         11.88  \n",
       "9         75.70  "
      ]
     },
     "execution_count": 233,
     "metadata": {},
     "output_type": "execute_result"
    }
   ],
   "source": [
    "q=\"\"\"SELECT * FROM yellow_tripdata limit 10\"\"\"\n",
    "df=table_query(q, cur=cur)\n",
    "df"
   ]
  },
  {
   "cell_type": "markdown",
   "metadata": {},
   "source": [
    "#### 2018"
   ]
  },
  {
   "cell_type": "code",
   "execution_count": 234,
   "metadata": {
    "ExecuteTime": {
     "end_time": "2021-12-22T01:38:20.176028Z",
     "start_time": "2021-12-22T01:35:38.828781Z"
    }
   },
   "outputs": [
    {
     "name": "stdout",
     "output_type": "stream",
     "text": [
      "<class 'pandas.core.frame.DataFrame'>\n",
      "Int64Index: 102804250 entries, 0 to 8173230\n",
      "Data columns (total 17 columns):\n",
      " #   Column                 Dtype  \n",
      "---  ------                 -----  \n",
      " 0   VendorID               int64  \n",
      " 1   tpep_pickup_datetime   object \n",
      " 2   tpep_dropoff_datetime  object \n",
      " 3   passenger_count        int64  \n",
      " 4   trip_distance          float64\n",
      " 5   RatecodeID             int64  \n",
      " 6   store_and_fwd_flag     object \n",
      " 7   PULocationID           int64  \n",
      " 8   DOLocationID           int64  \n",
      " 9   payment_type           int64  \n",
      " 10  fare_amount            float64\n",
      " 11  extra                  float64\n",
      " 12  mta_tax                float64\n",
      " 13  tip_amount             float64\n",
      " 14  tolls_amount           float64\n",
      " 15  improvement_surcharge  float64\n",
      " 16  total_amount           float64\n",
      "dtypes: float64(8), int64(6), object(3)\n",
      "memory usage: 13.8+ GB\n"
     ]
    }
   ],
   "source": [
    "#Creating dataframes from all of the 2019 monthly files and concateneting them together for further pre-processing\n",
    "\n",
    "files_ref=create_filelist('data/2018/',n=0)\n",
    "\n",
    "\n",
    "df_yellow_2018 = pd.DataFrame()\n",
    "list_frames=[]\n",
    "for i in range(0,len(files_ref)):\n",
    "    fullstring = files_ref[i]\n",
    "    substring = \"yellow_tripdata\"\n",
    "    if substring in fullstring:\n",
    "        df_name='df_yellow_2018_'+str(i+1)\n",
    "        df_name=pd.read_csv(fullstring)\n",
    "        list_frames.append(df_name)\n",
    "df_yellow_2018=pd.concat(list_frames)\n",
    "\n",
    "#Cleaning up monthly DFs\n",
    "for df in list_frames:\n",
    "    df=pd.DataFrame()\n",
    "\n",
    "df_yellow_2018.info()"
   ]
  },
  {
   "cell_type": "code",
   "execution_count": 235,
   "metadata": {
    "ExecuteTime": {
     "end_time": "2021-12-22T01:41:35.284456Z",
     "start_time": "2021-12-22T01:38:39.198640Z"
    }
   },
   "outputs": [
    {
     "name": "stdout",
     "output_type": "stream",
     "text": [
      "<class 'pandas.core.frame.DataFrame'>\n",
      "Int64Index: 102804250 entries, 0 to 8173230\n",
      "Data columns (total 5 columns):\n",
      " #   Column                Dtype         \n",
      "---  ------                -----         \n",
      " 0   tpep_pickup_datetime  datetime64[ns]\n",
      " 1   PULocationID          int64         \n",
      " 2   DOLocationID          int64         \n",
      " 3   payment_type          int32         \n",
      " 4   total_amount          float64       \n",
      "dtypes: datetime64[ns](1), float64(1), int32(1), int64(2)\n",
      "memory usage: 4.2 GB\n"
     ]
    }
   ],
   "source": [
    "df = df_yellow_2018[pd.notnull(df_yellow_2018['VendorID'])]\n",
    "\n",
    "#list of columns to drop\n",
    "list_drp=['tpep_dropoff_datetime','store_and_fwd_flag', 'fare_amount', 'extra', 'mta_tax',\n",
    "          'tip_amount', 'tolls_amount', 'improvement_surcharge',\n",
    "          'RatecodeID','VendorID','trip_distance','passenger_count']\n",
    "df=df.drop(list_drp, axis=1)\n",
    "\n",
    "df=df.astype({'payment_type': 'int32'})\n",
    "\n",
    "df['tpep_pickup_datetime'] = pd.to_datetime(df['tpep_pickup_datetime'])\n",
    "df.info()"
   ]
  },
  {
   "cell_type": "code",
   "execution_count": 236,
   "metadata": {
    "ExecuteTime": {
     "end_time": "2021-12-22T01:43:37.355949Z",
     "start_time": "2021-12-22T01:43:35.422238Z"
    }
   },
   "outputs": [],
   "source": [
    "# Cleaning up the memory of the large dataframe\n",
    "df_yellow_2018 = pd.DataFrame()"
   ]
  },
  {
   "cell_type": "code",
   "execution_count": 237,
   "metadata": {
    "ExecuteTime": {
     "end_time": "2021-12-22T01:44:10.359645Z",
     "start_time": "2021-12-22T01:43:43.246271Z"
    }
   },
   "outputs": [
    {
     "data": {
      "text/plain": [
       "4814"
      ]
     },
     "execution_count": 237,
     "metadata": {},
     "output_type": "execute_result"
    }
   ],
   "source": [
    "#Checking for duplicates and eliminating them prior to the uploading to the database\n",
    "df.duplicated().sum()"
   ]
  },
  {
   "cell_type": "code",
   "execution_count": 238,
   "metadata": {
    "ExecuteTime": {
     "end_time": "2021-12-22T01:45:17.581379Z",
     "start_time": "2021-12-22T01:44:47.327421Z"
    }
   },
   "outputs": [
    {
     "data": {
      "text/html": [
       "<div>\n",
       "<style scoped>\n",
       "    .dataframe tbody tr th:only-of-type {\n",
       "        vertical-align: middle;\n",
       "    }\n",
       "\n",
       "    .dataframe tbody tr th {\n",
       "        vertical-align: top;\n",
       "    }\n",
       "\n",
       "    .dataframe thead th {\n",
       "        text-align: right;\n",
       "    }\n",
       "</style>\n",
       "<table border=\"1\" class=\"dataframe\">\n",
       "  <thead>\n",
       "    <tr style=\"text-align: right;\">\n",
       "      <th></th>\n",
       "      <th>tpep_pickup_datetime</th>\n",
       "      <th>PULocationID</th>\n",
       "      <th>DOLocationID</th>\n",
       "      <th>payment_type</th>\n",
       "      <th>total_amount</th>\n",
       "    </tr>\n",
       "  </thead>\n",
       "  <tbody>\n",
       "    <tr>\n",
       "      <th>0</th>\n",
       "      <td>2018-01-01 00:21:05</td>\n",
       "      <td>41</td>\n",
       "      <td>24</td>\n",
       "      <td>2</td>\n",
       "      <td>5.80</td>\n",
       "    </tr>\n",
       "    <tr>\n",
       "      <th>1</th>\n",
       "      <td>2018-01-01 00:44:55</td>\n",
       "      <td>239</td>\n",
       "      <td>140</td>\n",
       "      <td>2</td>\n",
       "      <td>15.30</td>\n",
       "    </tr>\n",
       "    <tr>\n",
       "      <th>2</th>\n",
       "      <td>2018-01-01 00:08:26</td>\n",
       "      <td>262</td>\n",
       "      <td>141</td>\n",
       "      <td>1</td>\n",
       "      <td>8.30</td>\n",
       "    </tr>\n",
       "    <tr>\n",
       "      <th>3</th>\n",
       "      <td>2018-01-01 00:20:22</td>\n",
       "      <td>140</td>\n",
       "      <td>257</td>\n",
       "      <td>2</td>\n",
       "      <td>34.80</td>\n",
       "    </tr>\n",
       "    <tr>\n",
       "      <th>4</th>\n",
       "      <td>2018-01-01 00:09:18</td>\n",
       "      <td>246</td>\n",
       "      <td>239</td>\n",
       "      <td>1</td>\n",
       "      <td>16.55</td>\n",
       "    </tr>\n",
       "    <tr>\n",
       "      <th>...</th>\n",
       "      <td>...</td>\n",
       "      <td>...</td>\n",
       "      <td>...</td>\n",
       "      <td>...</td>\n",
       "      <td>...</td>\n",
       "    </tr>\n",
       "    <tr>\n",
       "      <th>8173226</th>\n",
       "      <td>2018-12-31 23:40:45</td>\n",
       "      <td>161</td>\n",
       "      <td>237</td>\n",
       "      <td>2</td>\n",
       "      <td>8.80</td>\n",
       "    </tr>\n",
       "    <tr>\n",
       "      <th>8173227</th>\n",
       "      <td>2018-12-31 23:16:46</td>\n",
       "      <td>263</td>\n",
       "      <td>24</td>\n",
       "      <td>1</td>\n",
       "      <td>17.22</td>\n",
       "    </tr>\n",
       "    <tr>\n",
       "      <th>8173228</th>\n",
       "      <td>2018-12-31 23:29:01</td>\n",
       "      <td>41</td>\n",
       "      <td>43</td>\n",
       "      <td>2</td>\n",
       "      <td>6.30</td>\n",
       "    </tr>\n",
       "    <tr>\n",
       "      <th>8173229</th>\n",
       "      <td>2018-12-31 23:55:39</td>\n",
       "      <td>263</td>\n",
       "      <td>75</td>\n",
       "      <td>1</td>\n",
       "      <td>7.56</td>\n",
       "    </tr>\n",
       "    <tr>\n",
       "      <th>8173230</th>\n",
       "      <td>2018-12-31 23:13:26</td>\n",
       "      <td>264</td>\n",
       "      <td>193</td>\n",
       "      <td>2</td>\n",
       "      <td>0.00</td>\n",
       "    </tr>\n",
       "  </tbody>\n",
       "</table>\n",
       "<p>102799436 rows × 5 columns</p>\n",
       "</div>"
      ],
      "text/plain": [
       "        tpep_pickup_datetime  PULocationID  DOLocationID  payment_type  \\\n",
       "0        2018-01-01 00:21:05            41            24             2   \n",
       "1        2018-01-01 00:44:55           239           140             2   \n",
       "2        2018-01-01 00:08:26           262           141             1   \n",
       "3        2018-01-01 00:20:22           140           257             2   \n",
       "4        2018-01-01 00:09:18           246           239             1   \n",
       "...                      ...           ...           ...           ...   \n",
       "8173226  2018-12-31 23:40:45           161           237             2   \n",
       "8173227  2018-12-31 23:16:46           263            24             1   \n",
       "8173228  2018-12-31 23:29:01            41            43             2   \n",
       "8173229  2018-12-31 23:55:39           263            75             1   \n",
       "8173230  2018-12-31 23:13:26           264           193             2   \n",
       "\n",
       "         total_amount  \n",
       "0                5.80  \n",
       "1               15.30  \n",
       "2                8.30  \n",
       "3               34.80  \n",
       "4               16.55  \n",
       "...               ...  \n",
       "8173226          8.80  \n",
       "8173227         17.22  \n",
       "8173228          6.30  \n",
       "8173229          7.56  \n",
       "8173230          0.00  \n",
       "\n",
       "[102799436 rows x 5 columns]"
      ]
     },
     "execution_count": 238,
     "metadata": {},
     "output_type": "execute_result"
    }
   ],
   "source": [
    "df.drop_duplicates()"
   ]
  },
  {
   "cell_type": "code",
   "execution_count": 239,
   "metadata": {
    "ExecuteTime": {
     "end_time": "2021-12-22T01:45:23.428200Z",
     "start_time": "2021-12-22T01:45:23.329133Z"
    }
   },
   "outputs": [
    {
     "name": "stdout",
     "output_type": "stream",
     "text": [
      "<class 'pandas.core.frame.DataFrame'>\n",
      "Int64Index: 102804250 entries, 0 to 8173230\n",
      "Data columns (total 5 columns):\n",
      " #   Column                Dtype         \n",
      "---  ------                -----         \n",
      " 0   tpep_pickup_datetime  datetime64[ns]\n",
      " 1   PULocationID          int64         \n",
      " 2   DOLocationID          int64         \n",
      " 3   payment_type          int32         \n",
      " 4   total_amount          float64       \n",
      "dtypes: datetime64[ns](1), float64(1), int32(1), int64(2)\n",
      "memory usage: 4.2 GB\n"
     ]
    }
   ],
   "source": [
    "df.info()"
   ]
  },
  {
   "cell_type": "code",
   "execution_count": 240,
   "metadata": {
    "ExecuteTime": {
     "end_time": "2021-12-22T01:45:44.142360Z",
     "start_time": "2021-12-22T01:45:27.976995Z"
    }
   },
   "outputs": [
    {
     "name": "stdout",
     "output_type": "stream",
     "text": [
      "<class 'pandas.core.frame.DataFrame'>\n",
      "Int64Index: 77103188 entries, 2861140 to 6945593\n",
      "Data columns (total 5 columns):\n",
      " #   Column                Dtype         \n",
      "---  ------                -----         \n",
      " 0   tpep_pickup_datetime  datetime64[ns]\n",
      " 1   PULocationID          int64         \n",
      " 2   DOLocationID          int64         \n",
      " 3   payment_type          int32         \n",
      " 4   total_amount          float64       \n",
      "dtypes: datetime64[ns](1), float64(1), int32(1), int64(2)\n",
      "memory usage: 3.2 GB\n"
     ]
    }
   ],
   "source": [
    "# Randomly eliminating 25% of data\n",
    "\n",
    "df_=df.sample(frac = 0.75, random_state=123)\n",
    "df_.info()"
   ]
  },
  {
   "cell_type": "code",
   "execution_count": 241,
   "metadata": {
    "ExecuteTime": {
     "end_time": "2021-12-22T01:45:51.503178Z",
     "start_time": "2021-12-22T01:45:51.128104Z"
    }
   },
   "outputs": [
    {
     "name": "stdout",
     "output_type": "stream",
     "text": [
      "<class 'pandas.core.frame.DataFrame'>\n",
      "Int64Index: 77103188 entries, 2861140 to 6945593\n",
      "Data columns (total 5 columns):\n",
      " #   Column                Dtype         \n",
      "---  ------                -----         \n",
      " 0   tpep_pickup_datetime  datetime64[ns]\n",
      " 1   PULocationID          int64         \n",
      " 2   DOLocationID          int64         \n",
      " 3   payment_type          int32         \n",
      " 4   total_amount          float64       \n",
      "dtypes: datetime64[ns](1), float64(1), int32(1), int64(2)\n",
      "memory usage: 3.2 GB\n"
     ]
    }
   ],
   "source": [
    "df=df_\n",
    "df.info()"
   ]
  },
  {
   "cell_type": "code",
   "execution_count": 242,
   "metadata": {
    "ExecuteTime": {
     "end_time": "2021-12-22T01:45:58.742605Z",
     "start_time": "2021-12-22T01:45:56.199943Z"
    }
   },
   "outputs": [
    {
     "name": "stdout",
     "output_type": "stream",
     "text": [
      "<class 'pandas.core.frame.DataFrame'>\n",
      "Int64Index: 77041411 entries, 2861140 to 6945593\n",
      "Data columns (total 5 columns):\n",
      " #   Column                Dtype         \n",
      "---  ------                -----         \n",
      " 0   tpep_pickup_datetime  datetime64[ns]\n",
      " 1   PULocationID          int64         \n",
      " 2   DOLocationID          int64         \n",
      " 3   payment_type          int32         \n",
      " 4   total_amount          float64       \n",
      "dtypes: datetime64[ns](1), float64(1), int32(1), int64(2)\n",
      "memory usage: 3.2 GB\n"
     ]
    }
   ],
   "source": [
    "#Eliminating all records total_amount with equal or less 0\n",
    "df_filtered = df[df['total_amount'] >0]\n",
    "df_filtered.info()"
   ]
  },
  {
   "cell_type": "code",
   "execution_count": 243,
   "metadata": {
    "ExecuteTime": {
     "end_time": "2021-12-22T01:46:08.776755Z",
     "start_time": "2021-12-22T01:46:08.695747Z"
    }
   },
   "outputs": [
    {
     "name": "stdout",
     "output_type": "stream",
     "text": [
      "<class 'pandas.core.frame.DataFrame'>\n",
      "Int64Index: 77041411 entries, 2861140 to 6945593\n",
      "Data columns (total 5 columns):\n",
      " #   Column                Dtype         \n",
      "---  ------                -----         \n",
      " 0   tpep_pickup_datetime  datetime64[ns]\n",
      " 1   PULocationID          int64         \n",
      " 2   DOLocationID          int64         \n",
      " 3   payment_type          int32         \n",
      " 4   total_amount          float64       \n",
      "dtypes: datetime64[ns](1), float64(1), int32(1), int64(2)\n",
      "memory usage: 3.2 GB\n"
     ]
    }
   ],
   "source": [
    "df=df_filtered\n",
    "df.info()"
   ]
  },
  {
   "cell_type": "code",
   "execution_count": 244,
   "metadata": {
    "ExecuteTime": {
     "end_time": "2021-12-22T02:23:12.335406Z",
     "start_time": "2021-12-22T01:47:46.630231Z"
    }
   },
   "outputs": [],
   "source": [
    "#Loading the pre-processed dataframe into the database\n",
    "sqlite_table = \"yellow_tripdata\"\n",
    "df.to_sql(sqlite_table, conn, if_exists='append')"
   ]
  },
  {
   "cell_type": "code",
   "execution_count": 245,
   "metadata": {
    "ExecuteTime": {
     "end_time": "2021-12-22T02:23:20.937541Z",
     "start_time": "2021-12-22T02:23:17.458038Z"
    }
   },
   "outputs": [
    {
     "data": {
      "text/html": [
       "<div>\n",
       "<style scoped>\n",
       "    .dataframe tbody tr th:only-of-type {\n",
       "        vertical-align: middle;\n",
       "    }\n",
       "\n",
       "    .dataframe tbody tr th {\n",
       "        vertical-align: top;\n",
       "    }\n",
       "\n",
       "    .dataframe thead th {\n",
       "        text-align: right;\n",
       "    }\n",
       "</style>\n",
       "<table border=\"1\" class=\"dataframe\">\n",
       "  <thead>\n",
       "    <tr style=\"text-align: right;\">\n",
       "      <th></th>\n",
       "      <th>count(*)</th>\n",
       "    </tr>\n",
       "  </thead>\n",
       "  <tbody>\n",
       "    <tr>\n",
       "      <th>0</th>\n",
       "      <td>168385008</td>\n",
       "    </tr>\n",
       "  </tbody>\n",
       "</table>\n",
       "</div>"
      ],
      "text/plain": [
       "    count(*)\n",
       "0  168385008"
      ]
     },
     "execution_count": 245,
     "metadata": {},
     "output_type": "execute_result"
    }
   ],
   "source": [
    "q=\"\"\"SELECT count(*) FROM yellow_tripdata\"\"\"\n",
    "df=table_query(q, cur=cur)\n",
    "df"
   ]
  },
  {
   "cell_type": "code",
   "execution_count": 246,
   "metadata": {
    "ExecuteTime": {
     "end_time": "2021-12-22T02:23:45.434826Z",
     "start_time": "2021-12-22T02:23:45.297744Z"
    }
   },
   "outputs": [
    {
     "data": {
      "text/html": [
       "<div>\n",
       "<style scoped>\n",
       "    .dataframe tbody tr th:only-of-type {\n",
       "        vertical-align: middle;\n",
       "    }\n",
       "\n",
       "    .dataframe tbody tr th {\n",
       "        vertical-align: top;\n",
       "    }\n",
       "\n",
       "    .dataframe thead th {\n",
       "        text-align: right;\n",
       "    }\n",
       "</style>\n",
       "<table border=\"1\" class=\"dataframe\">\n",
       "  <thead>\n",
       "    <tr style=\"text-align: right;\">\n",
       "      <th></th>\n",
       "      <th>index</th>\n",
       "      <th>tpep_pickup_datetime</th>\n",
       "      <th>PULocationID</th>\n",
       "      <th>DOLocationID</th>\n",
       "      <th>payment_type</th>\n",
       "      <th>total_amount</th>\n",
       "    </tr>\n",
       "  </thead>\n",
       "  <tbody>\n",
       "    <tr>\n",
       "      <th>0</th>\n",
       "      <td>1960497</td>\n",
       "      <td>2021-04-30 00:23:36</td>\n",
       "      <td>79</td>\n",
       "      <td>225</td>\n",
       "      <td>1</td>\n",
       "      <td>26.80</td>\n",
       "    </tr>\n",
       "    <tr>\n",
       "      <th>1</th>\n",
       "      <td>577771</td>\n",
       "      <td>2021-06-07 17:57:49</td>\n",
       "      <td>230</td>\n",
       "      <td>142</td>\n",
       "      <td>1</td>\n",
       "      <td>10.56</td>\n",
       "    </tr>\n",
       "    <tr>\n",
       "      <th>2</th>\n",
       "      <td>1493844</td>\n",
       "      <td>2021-05-20 14:03:34</td>\n",
       "      <td>140</td>\n",
       "      <td>164</td>\n",
       "      <td>1</td>\n",
       "      <td>18.80</td>\n",
       "    </tr>\n",
       "    <tr>\n",
       "      <th>3</th>\n",
       "      <td>1338621</td>\n",
       "      <td>2021-05-18 16:56:36</td>\n",
       "      <td>75</td>\n",
       "      <td>41</td>\n",
       "      <td>2</td>\n",
       "      <td>5.30</td>\n",
       "    </tr>\n",
       "    <tr>\n",
       "      <th>4</th>\n",
       "      <td>1234566</td>\n",
       "      <td>2021-01-30 18:29:03</td>\n",
       "      <td>230</td>\n",
       "      <td>163</td>\n",
       "      <td>2</td>\n",
       "      <td>8.80</td>\n",
       "    </tr>\n",
       "    <tr>\n",
       "      <th>5</th>\n",
       "      <td>1683861</td>\n",
       "      <td>2021-04-26 11:30:08</td>\n",
       "      <td>137</td>\n",
       "      <td>80</td>\n",
       "      <td>2</td>\n",
       "      <td>23.80</td>\n",
       "    </tr>\n",
       "    <tr>\n",
       "      <th>6</th>\n",
       "      <td>1778177</td>\n",
       "      <td>2021-06-20 22:49:57</td>\n",
       "      <td>79</td>\n",
       "      <td>137</td>\n",
       "      <td>1</td>\n",
       "      <td>11.16</td>\n",
       "    </tr>\n",
       "    <tr>\n",
       "      <th>7</th>\n",
       "      <td>2033053</td>\n",
       "      <td>2021-05-26 21:10:06</td>\n",
       "      <td>100</td>\n",
       "      <td>163</td>\n",
       "      <td>2</td>\n",
       "      <td>15.80</td>\n",
       "    </tr>\n",
       "    <tr>\n",
       "      <th>8</th>\n",
       "      <td>996616</td>\n",
       "      <td>2021-06-12 02:56:02</td>\n",
       "      <td>230</td>\n",
       "      <td>239</td>\n",
       "      <td>1</td>\n",
       "      <td>11.88</td>\n",
       "    </tr>\n",
       "    <tr>\n",
       "      <th>9</th>\n",
       "      <td>809463</td>\n",
       "      <td>2021-06-10 09:51:57</td>\n",
       "      <td>132</td>\n",
       "      <td>75</td>\n",
       "      <td>1</td>\n",
       "      <td>75.70</td>\n",
       "    </tr>\n",
       "  </tbody>\n",
       "</table>\n",
       "</div>"
      ],
      "text/plain": [
       "     index tpep_pickup_datetime  PULocationID  DOLocationID  payment_type  \\\n",
       "0  1960497  2021-04-30 00:23:36            79           225             1   \n",
       "1   577771  2021-06-07 17:57:49           230           142             1   \n",
       "2  1493844  2021-05-20 14:03:34           140           164             1   \n",
       "3  1338621  2021-05-18 16:56:36            75            41             2   \n",
       "4  1234566  2021-01-30 18:29:03           230           163             2   \n",
       "5  1683861  2021-04-26 11:30:08           137            80             2   \n",
       "6  1778177  2021-06-20 22:49:57            79           137             1   \n",
       "7  2033053  2021-05-26 21:10:06           100           163             2   \n",
       "8   996616  2021-06-12 02:56:02           230           239             1   \n",
       "9   809463  2021-06-10 09:51:57           132            75             1   \n",
       "\n",
       "   total_amount  \n",
       "0         26.80  \n",
       "1         10.56  \n",
       "2         18.80  \n",
       "3          5.30  \n",
       "4          8.80  \n",
       "5         23.80  \n",
       "6         11.16  \n",
       "7         15.80  \n",
       "8         11.88  \n",
       "9         75.70  "
      ]
     },
     "execution_count": 246,
     "metadata": {},
     "output_type": "execute_result"
    }
   ],
   "source": [
    "q=\"\"\"SELECT * FROM yellow_tripdata limit 10\"\"\"\n",
    "df=table_query(q, cur=cur)\n",
    "df"
   ]
  },
  {
   "cell_type": "markdown",
   "metadata": {},
   "source": [
    "#### Indexing the table yellow_tripdata"
   ]
  },
  {
   "cell_type": "code",
   "execution_count": 247,
   "metadata": {
    "ExecuteTime": {
     "end_time": "2021-12-22T02:25:06.254211Z",
     "start_time": "2021-12-22T02:25:06.036098Z"
    }
   },
   "outputs": [],
   "source": [
    "df_=pd.DataFrame()\n",
    "df_filtered=pd.DataFrame()"
   ]
  },
  {
   "cell_type": "code",
   "execution_count": 248,
   "metadata": {
    "ExecuteTime": {
     "end_time": "2021-12-22T02:42:27.834690Z",
     "start_time": "2021-12-22T02:25:13.549875Z"
    }
   },
   "outputs": [
    {
     "data": {
      "text/plain": [
       "<sqlite3.Cursor at 0x2d2c06eb340>"
      ]
     },
     "execution_count": 248,
     "metadata": {},
     "output_type": "execute_result"
    }
   ],
   "source": [
    "sql = (\"CREATE INDEX index_yellow_ven1 ON yellow_tripdata (PULocationID, tpep_pickup_datetime);\")\n",
    "cur.execute(sql)\n",
    "\n",
    "sql = (\"CREATE INDEX index_yellow_ven2 ON yellow_tripdata (PULocationID, DOLocationID);\")\n",
    "cur.execute(sql)\n",
    "\n",
    "sql = (\"CREATE INDEX index_yellow_ven3 ON yellow_tripdata (tpep_pickup_datetime);\")\n",
    "cur.execute(sql)\n",
    "\n",
    "sql = (\"CREATE INDEX index_yellow_ven4 ON yellow_tripdata (total_amount);\")\n",
    "cur.execute(sql)"
   ]
  },
  {
   "cell_type": "code",
   "execution_count": 249,
   "metadata": {
    "ExecuteTime": {
     "end_time": "2021-12-22T02:42:54.448213Z",
     "start_time": "2021-12-22T02:42:54.348291Z"
    }
   },
   "outputs": [],
   "source": [
    "conn.commit()"
   ]
  },
  {
   "cell_type": "markdown",
   "metadata": {},
   "source": [
    "### Pickling DataFrames"
   ]
  },
  {
   "cell_type": "code",
   "execution_count": 250,
   "metadata": {
    "ExecuteTime": {
     "end_time": "2021-12-22T02:52:12.888695Z",
     "start_time": "2021-12-22T02:51:40.502966Z"
    }
   },
   "outputs": [],
   "source": [
    "q=\"\"\"SELECT * FROM green_tripdata\"\"\"\n",
    "df_green_tripdata=table_query(q, cur=cur)"
   ]
  },
  {
   "cell_type": "code",
   "execution_count": 251,
   "metadata": {
    "ExecuteTime": {
     "end_time": "2021-12-22T02:52:17.799977Z",
     "start_time": "2021-12-22T02:52:17.702245Z"
    }
   },
   "outputs": [
    {
     "data": {
      "text/html": [
       "<div>\n",
       "<style scoped>\n",
       "    .dataframe tbody tr th:only-of-type {\n",
       "        vertical-align: middle;\n",
       "    }\n",
       "\n",
       "    .dataframe tbody tr th {\n",
       "        vertical-align: top;\n",
       "    }\n",
       "\n",
       "    .dataframe thead th {\n",
       "        text-align: right;\n",
       "    }\n",
       "</style>\n",
       "<table border=\"1\" class=\"dataframe\">\n",
       "  <thead>\n",
       "    <tr style=\"text-align: right;\">\n",
       "      <th></th>\n",
       "      <th>index</th>\n",
       "      <th>lpep_pickup_datetime</th>\n",
       "      <th>PULocationID</th>\n",
       "      <th>DOLocationID</th>\n",
       "      <th>total_amount</th>\n",
       "      <th>payment_type</th>\n",
       "    </tr>\n",
       "  </thead>\n",
       "  <tbody>\n",
       "    <tr>\n",
       "      <th>0</th>\n",
       "      <td>26242</td>\n",
       "      <td>2021-06-15 15:52:25</td>\n",
       "      <td>75</td>\n",
       "      <td>41</td>\n",
       "      <td>6.30</td>\n",
       "      <td>2</td>\n",
       "    </tr>\n",
       "    <tr>\n",
       "      <th>1</th>\n",
       "      <td>1065</td>\n",
       "      <td>2021-05-01 17:13:57</td>\n",
       "      <td>41</td>\n",
       "      <td>116</td>\n",
       "      <td>14.16</td>\n",
       "      <td>1</td>\n",
       "    </tr>\n",
       "    <tr>\n",
       "      <th>2</th>\n",
       "      <td>9893</td>\n",
       "      <td>2021-06-06 10:56:53</td>\n",
       "      <td>42</td>\n",
       "      <td>69</td>\n",
       "      <td>12.30</td>\n",
       "      <td>2</td>\n",
       "    </tr>\n",
       "    <tr>\n",
       "      <th>3</th>\n",
       "      <td>44168</td>\n",
       "      <td>2021-05-27 19:41:48</td>\n",
       "      <td>41</td>\n",
       "      <td>74</td>\n",
       "      <td>24.80</td>\n",
       "      <td>2</td>\n",
       "    </tr>\n",
       "    <tr>\n",
       "      <th>4</th>\n",
       "      <td>27532</td>\n",
       "      <td>2021-04-19 14:49:59</td>\n",
       "      <td>134</td>\n",
       "      <td>216</td>\n",
       "      <td>12.96</td>\n",
       "      <td>1</td>\n",
       "    </tr>\n",
       "  </tbody>\n",
       "</table>\n",
       "</div>"
      ],
      "text/plain": [
       "   index lpep_pickup_datetime  PULocationID  DOLocationID  total_amount  \\\n",
       "0  26242  2021-06-15 15:52:25            75            41          6.30   \n",
       "1   1065  2021-05-01 17:13:57            41           116         14.16   \n",
       "2   9893  2021-06-06 10:56:53            42            69         12.30   \n",
       "3  44168  2021-05-27 19:41:48            41            74         24.80   \n",
       "4  27532  2021-04-19 14:49:59           134           216         12.96   \n",
       "\n",
       "   payment_type  \n",
       "0             2  \n",
       "1             1  \n",
       "2             2  \n",
       "3             2  \n",
       "4             1  "
      ]
     },
     "execution_count": 251,
     "metadata": {},
     "output_type": "execute_result"
    }
   ],
   "source": [
    "df_green_tripdata.head()"
   ]
  },
  {
   "cell_type": "code",
   "execution_count": 252,
   "metadata": {
    "ExecuteTime": {
     "end_time": "2021-12-22T02:52:34.030393Z",
     "start_time": "2021-12-22T02:52:30.025987Z"
    }
   },
   "outputs": [],
   "source": [
    "with open('data/pickled_dataframes/green_tripdata.pickle', 'wb') as f:\n",
    "    pickle.dump(df_green_tripdata, f)"
   ]
  },
  {
   "cell_type": "code",
   "execution_count": 253,
   "metadata": {
    "ExecuteTime": {
     "end_time": "2021-12-22T02:52:42.716092Z",
     "start_time": "2021-12-22T02:52:42.628387Z"
    }
   },
   "outputs": [],
   "source": [
    "df_green_tripdata=pd.DataFrame()"
   ]
  },
  {
   "cell_type": "code",
   "execution_count": 255,
   "metadata": {
    "ExecuteTime": {
     "end_time": "2021-12-22T02:53:12.664323Z",
     "start_time": "2021-12-22T02:53:11.054908Z"
    }
   },
   "outputs": [
    {
     "data": {
      "text/html": [
       "<div>\n",
       "<style scoped>\n",
       "    .dataframe tbody tr th:only-of-type {\n",
       "        vertical-align: middle;\n",
       "    }\n",
       "\n",
       "    .dataframe tbody tr th {\n",
       "        vertical-align: top;\n",
       "    }\n",
       "\n",
       "    .dataframe thead th {\n",
       "        text-align: right;\n",
       "    }\n",
       "</style>\n",
       "<table border=\"1\" class=\"dataframe\">\n",
       "  <thead>\n",
       "    <tr style=\"text-align: right;\">\n",
       "      <th></th>\n",
       "      <th>index</th>\n",
       "      <th>lpep_pickup_datetime</th>\n",
       "      <th>PULocationID</th>\n",
       "      <th>DOLocationID</th>\n",
       "      <th>total_amount</th>\n",
       "      <th>payment_type</th>\n",
       "    </tr>\n",
       "  </thead>\n",
       "  <tbody>\n",
       "    <tr>\n",
       "      <th>0</th>\n",
       "      <td>26242</td>\n",
       "      <td>2021-06-15 15:52:25</td>\n",
       "      <td>75</td>\n",
       "      <td>41</td>\n",
       "      <td>6.30</td>\n",
       "      <td>2</td>\n",
       "    </tr>\n",
       "    <tr>\n",
       "      <th>1</th>\n",
       "      <td>1065</td>\n",
       "      <td>2021-05-01 17:13:57</td>\n",
       "      <td>41</td>\n",
       "      <td>116</td>\n",
       "      <td>14.16</td>\n",
       "      <td>1</td>\n",
       "    </tr>\n",
       "    <tr>\n",
       "      <th>2</th>\n",
       "      <td>9893</td>\n",
       "      <td>2021-06-06 10:56:53</td>\n",
       "      <td>42</td>\n",
       "      <td>69</td>\n",
       "      <td>12.30</td>\n",
       "      <td>2</td>\n",
       "    </tr>\n",
       "    <tr>\n",
       "      <th>3</th>\n",
       "      <td>44168</td>\n",
       "      <td>2021-05-27 19:41:48</td>\n",
       "      <td>41</td>\n",
       "      <td>74</td>\n",
       "      <td>24.80</td>\n",
       "      <td>2</td>\n",
       "    </tr>\n",
       "    <tr>\n",
       "      <th>4</th>\n",
       "      <td>27532</td>\n",
       "      <td>2021-04-19 14:49:59</td>\n",
       "      <td>134</td>\n",
       "      <td>216</td>\n",
       "      <td>12.96</td>\n",
       "      <td>1</td>\n",
       "    </tr>\n",
       "  </tbody>\n",
       "</table>\n",
       "</div>"
      ],
      "text/plain": [
       "   index lpep_pickup_datetime  PULocationID  DOLocationID  total_amount  \\\n",
       "0  26242  2021-06-15 15:52:25            75            41          6.30   \n",
       "1   1065  2021-05-01 17:13:57            41           116         14.16   \n",
       "2   9893  2021-06-06 10:56:53            42            69         12.30   \n",
       "3  44168  2021-05-27 19:41:48            41            74         24.80   \n",
       "4  27532  2021-04-19 14:49:59           134           216         12.96   \n",
       "\n",
       "   payment_type  \n",
       "0             2  \n",
       "1             1  \n",
       "2             2  \n",
       "3             2  \n",
       "4             1  "
      ]
     },
     "execution_count": 255,
     "metadata": {},
     "output_type": "execute_result"
    }
   ],
   "source": [
    "with open('data/pickled_dataframes/green_tripdata.pickle', 'rb') as f:\n",
    "    df_green_tripdata=pickle.load(f)\n",
    "df_green_tripdata.head()"
   ]
  },
  {
   "cell_type": "code",
   "execution_count": 256,
   "metadata": {
    "ExecuteTime": {
     "end_time": "2021-12-22T02:53:27.276011Z",
     "start_time": "2021-12-22T02:53:27.194993Z"
    }
   },
   "outputs": [],
   "source": [
    "df_green_tripdata=pd.DataFrame()"
   ]
  },
  {
   "cell_type": "code",
   "execution_count": 257,
   "metadata": {
    "ExecuteTime": {
     "end_time": "2021-12-22T03:20:55.345537Z",
     "start_time": "2021-12-22T02:53:41.763532Z"
    }
   },
   "outputs": [],
   "source": [
    "q=\"\"\"SELECT * FROM yellow_tripdata\"\"\"\n",
    "df_yellow_tripdata=table_query(q, cur=cur)"
   ]
  },
  {
   "cell_type": "code",
   "execution_count": 258,
   "metadata": {
    "ExecuteTime": {
     "end_time": "2021-12-22T03:21:17.018649Z",
     "start_time": "2021-12-22T03:21:16.452215Z"
    }
   },
   "outputs": [
    {
     "data": {
      "text/html": [
       "<div>\n",
       "<style scoped>\n",
       "    .dataframe tbody tr th:only-of-type {\n",
       "        vertical-align: middle;\n",
       "    }\n",
       "\n",
       "    .dataframe tbody tr th {\n",
       "        vertical-align: top;\n",
       "    }\n",
       "\n",
       "    .dataframe thead th {\n",
       "        text-align: right;\n",
       "    }\n",
       "</style>\n",
       "<table border=\"1\" class=\"dataframe\">\n",
       "  <thead>\n",
       "    <tr style=\"text-align: right;\">\n",
       "      <th></th>\n",
       "      <th>index</th>\n",
       "      <th>tpep_pickup_datetime</th>\n",
       "      <th>PULocationID</th>\n",
       "      <th>DOLocationID</th>\n",
       "      <th>payment_type</th>\n",
       "      <th>total_amount</th>\n",
       "    </tr>\n",
       "  </thead>\n",
       "  <tbody>\n",
       "    <tr>\n",
       "      <th>0</th>\n",
       "      <td>1960497</td>\n",
       "      <td>2021-04-30 00:23:36</td>\n",
       "      <td>79</td>\n",
       "      <td>225</td>\n",
       "      <td>1</td>\n",
       "      <td>26.80</td>\n",
       "    </tr>\n",
       "    <tr>\n",
       "      <th>1</th>\n",
       "      <td>577771</td>\n",
       "      <td>2021-06-07 17:57:49</td>\n",
       "      <td>230</td>\n",
       "      <td>142</td>\n",
       "      <td>1</td>\n",
       "      <td>10.56</td>\n",
       "    </tr>\n",
       "    <tr>\n",
       "      <th>2</th>\n",
       "      <td>1493844</td>\n",
       "      <td>2021-05-20 14:03:34</td>\n",
       "      <td>140</td>\n",
       "      <td>164</td>\n",
       "      <td>1</td>\n",
       "      <td>18.80</td>\n",
       "    </tr>\n",
       "    <tr>\n",
       "      <th>3</th>\n",
       "      <td>1338621</td>\n",
       "      <td>2021-05-18 16:56:36</td>\n",
       "      <td>75</td>\n",
       "      <td>41</td>\n",
       "      <td>2</td>\n",
       "      <td>5.30</td>\n",
       "    </tr>\n",
       "    <tr>\n",
       "      <th>4</th>\n",
       "      <td>1234566</td>\n",
       "      <td>2021-01-30 18:29:03</td>\n",
       "      <td>230</td>\n",
       "      <td>163</td>\n",
       "      <td>2</td>\n",
       "      <td>8.80</td>\n",
       "    </tr>\n",
       "  </tbody>\n",
       "</table>\n",
       "</div>"
      ],
      "text/plain": [
       "     index tpep_pickup_datetime  PULocationID  DOLocationID  payment_type  \\\n",
       "0  1960497  2021-04-30 00:23:36            79           225             1   \n",
       "1   577771  2021-06-07 17:57:49           230           142             1   \n",
       "2  1493844  2021-05-20 14:03:34           140           164             1   \n",
       "3  1338621  2021-05-18 16:56:36            75            41             2   \n",
       "4  1234566  2021-01-30 18:29:03           230           163             2   \n",
       "\n",
       "   total_amount  \n",
       "0         26.80  \n",
       "1         10.56  \n",
       "2         18.80  \n",
       "3          5.30  \n",
       "4          8.80  "
      ]
     },
     "execution_count": 258,
     "metadata": {},
     "output_type": "execute_result"
    }
   ],
   "source": [
    "df_yellow_tripdata.head()"
   ]
  },
  {
   "cell_type": "code",
   "execution_count": 259,
   "metadata": {
    "ExecuteTime": {
     "end_time": "2021-12-22T03:25:26.059540Z",
     "start_time": "2021-12-22T03:21:30.520706Z"
    }
   },
   "outputs": [],
   "source": [
    "with open('data/pickled_dataframes/yellow_tripdata.pickle', 'wb') as f:\n",
    "    pickle.dump(df_yellow_tripdata, f)"
   ]
  },
  {
   "cell_type": "code",
   "execution_count": 260,
   "metadata": {
    "ExecuteTime": {
     "end_time": "2021-12-22T03:26:00.688228Z",
     "start_time": "2021-12-22T03:26:00.393116Z"
    }
   },
   "outputs": [],
   "source": [
    "df_yellow_tripdata=pd.DataFrame()"
   ]
  },
  {
   "cell_type": "code",
   "execution_count": 261,
   "metadata": {
    "ExecuteTime": {
     "end_time": "2021-12-22T03:28:47.849144Z",
     "start_time": "2021-12-22T03:26:06.165764Z"
    }
   },
   "outputs": [
    {
     "data": {
      "text/html": [
       "<div>\n",
       "<style scoped>\n",
       "    .dataframe tbody tr th:only-of-type {\n",
       "        vertical-align: middle;\n",
       "    }\n",
       "\n",
       "    .dataframe tbody tr th {\n",
       "        vertical-align: top;\n",
       "    }\n",
       "\n",
       "    .dataframe thead th {\n",
       "        text-align: right;\n",
       "    }\n",
       "</style>\n",
       "<table border=\"1\" class=\"dataframe\">\n",
       "  <thead>\n",
       "    <tr style=\"text-align: right;\">\n",
       "      <th></th>\n",
       "      <th>index</th>\n",
       "      <th>tpep_pickup_datetime</th>\n",
       "      <th>PULocationID</th>\n",
       "      <th>DOLocationID</th>\n",
       "      <th>payment_type</th>\n",
       "      <th>total_amount</th>\n",
       "    </tr>\n",
       "  </thead>\n",
       "  <tbody>\n",
       "    <tr>\n",
       "      <th>0</th>\n",
       "      <td>1960497</td>\n",
       "      <td>2021-04-30 00:23:36</td>\n",
       "      <td>79</td>\n",
       "      <td>225</td>\n",
       "      <td>1</td>\n",
       "      <td>26.80</td>\n",
       "    </tr>\n",
       "    <tr>\n",
       "      <th>1</th>\n",
       "      <td>577771</td>\n",
       "      <td>2021-06-07 17:57:49</td>\n",
       "      <td>230</td>\n",
       "      <td>142</td>\n",
       "      <td>1</td>\n",
       "      <td>10.56</td>\n",
       "    </tr>\n",
       "    <tr>\n",
       "      <th>2</th>\n",
       "      <td>1493844</td>\n",
       "      <td>2021-05-20 14:03:34</td>\n",
       "      <td>140</td>\n",
       "      <td>164</td>\n",
       "      <td>1</td>\n",
       "      <td>18.80</td>\n",
       "    </tr>\n",
       "    <tr>\n",
       "      <th>3</th>\n",
       "      <td>1338621</td>\n",
       "      <td>2021-05-18 16:56:36</td>\n",
       "      <td>75</td>\n",
       "      <td>41</td>\n",
       "      <td>2</td>\n",
       "      <td>5.30</td>\n",
       "    </tr>\n",
       "    <tr>\n",
       "      <th>4</th>\n",
       "      <td>1234566</td>\n",
       "      <td>2021-01-30 18:29:03</td>\n",
       "      <td>230</td>\n",
       "      <td>163</td>\n",
       "      <td>2</td>\n",
       "      <td>8.80</td>\n",
       "    </tr>\n",
       "  </tbody>\n",
       "</table>\n",
       "</div>"
      ],
      "text/plain": [
       "     index tpep_pickup_datetime  PULocationID  DOLocationID  payment_type  \\\n",
       "0  1960497  2021-04-30 00:23:36            79           225             1   \n",
       "1   577771  2021-06-07 17:57:49           230           142             1   \n",
       "2  1493844  2021-05-20 14:03:34           140           164             1   \n",
       "3  1338621  2021-05-18 16:56:36            75            41             2   \n",
       "4  1234566  2021-01-30 18:29:03           230           163             2   \n",
       "\n",
       "   total_amount  \n",
       "0         26.80  \n",
       "1         10.56  \n",
       "2         18.80  \n",
       "3          5.30  \n",
       "4          8.80  "
      ]
     },
     "execution_count": 261,
     "metadata": {},
     "output_type": "execute_result"
    }
   ],
   "source": [
    "with open('data/pickled_dataframes/yellow_tripdata.pickle', 'rb') as f:\n",
    "    df_yellow_tripdata=pickle.load(f)\n",
    "df_yellow_tripdata.head()"
   ]
  },
  {
   "cell_type": "code",
   "execution_count": 262,
   "metadata": {
    "ExecuteTime": {
     "end_time": "2021-12-22T03:30:34.948472Z",
     "start_time": "2021-12-22T03:30:34.673230Z"
    }
   },
   "outputs": [],
   "source": [
    "df_yellow_tripdata=pd.DataFrame()"
   ]
  },
  {
   "cell_type": "markdown",
   "metadata": {},
   "source": [
    "### Conclusion"
   ]
  },
  {
   "cell_type": "markdown",
   "metadata": {},
   "source": [
    "**Based on the results of this database creation :**<br>\n",
    "* The database consists of 2 indexed tables: \n",
    "** green_tripdata with 11913003 records\n",
    "** yellow_tripdata with 168385008 records\n",
    "* They can be used for further analysis both visual and computational to answer the problem stated.\n",
    "* The link to the EDA notebook is here"
   ]
  },
  {
   "cell_type": "markdown",
   "metadata": {},
   "source": [
    "**Link to the Main Analysis notebook**<br>\n",
    "\n",
    "[Additional data wrangling, visualization and answers to the questions asked](working_w_DFs.ipynb)"
   ]
  }
 ],
 "metadata": {
  "hide_input": false,
  "kernelspec": {
   "display_name": "Python 3",
   "language": "python",
   "name": "python3"
  },
  "language_info": {
   "codemirror_mode": {
    "name": "ipython",
    "version": 3
   },
   "file_extension": ".py",
   "mimetype": "text/x-python",
   "name": "python",
   "nbconvert_exporter": "python",
   "pygments_lexer": "ipython3",
   "version": "3.8.5"
  },
  "toc": {
   "base_numbering": 1,
   "nav_menu": {},
   "number_sections": true,
   "sideBar": true,
   "skip_h1_title": false,
   "title_cell": "Table of Contents",
   "title_sidebar": "Contents",
   "toc_cell": false,
   "toc_position": {
    "height": "calc(100% - 180px)",
    "left": "10px",
    "top": "150px",
    "width": "361.448px"
   },
   "toc_section_display": true,
   "toc_window_display": true
  }
 },
 "nbformat": 4,
 "nbformat_minor": 4
}
